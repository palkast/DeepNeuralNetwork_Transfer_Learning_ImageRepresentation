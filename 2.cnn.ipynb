{
 "cells": [
  {
   "cell_type": "code",
   "execution_count": 1,
   "id": "54d84b53",
   "metadata": {
    "execution": {
     "iopub.execute_input": "2023-12-01T17:29:44.469578Z",
     "iopub.status.busy": "2023-12-01T17:29:44.469218Z",
     "iopub.status.idle": "2023-12-01T17:29:58.913587Z",
     "shell.execute_reply": "2023-12-01T17:29:58.912713Z"
    },
    "id": "Rz-Jp19cvn5x",
    "papermill": {
     "duration": 14.455095,
     "end_time": "2023-12-01T17:29:58.916137",
     "exception": false,
     "start_time": "2023-12-01T17:29:44.461042",
     "status": "completed"
    },
    "tags": []
   },
   "outputs": [
    {
     "name": "stderr",
     "output_type": "stream",
     "text": [
      "/opt/conda/lib/python3.10/site-packages/scipy/__init__.py:146: UserWarning: A NumPy version >=1.16.5 and <1.23.0 is required for this version of SciPy (detected version 1.24.3\n",
      "  warnings.warn(f\"A NumPy version >={np_minversion} and <{np_maxversion}\"\n"
     ]
    }
   ],
   "source": [
    "#packages\n",
    "#basics\n",
    "import os\n",
    "import numpy as np\n",
    "import pandas as pd\n",
    "\n",
    "#images\n",
    "import cv2\n",
    "\n",
    "#modeling\n",
    "from sklearn.model_selection import train_test_split\n",
    "import tensorflow as tf\n",
    "from tensorflow import keras\n",
    "from tensorflow.keras import layers\n",
    "from tensorflow.keras.regularizers import l2\n",
    "from tensorflow.keras.preprocessing.image import ImageDataGenerator\n",
    "from tensorflow.python.client import device_lib\n",
    "\n",
    "#visualizations\n",
    "import seaborn as sns\n",
    "import matplotlib.pyplot as plt"
   ]
  },
  {
   "cell_type": "code",
   "execution_count": 2,
   "id": "b7faa290",
   "metadata": {
    "execution": {
     "iopub.execute_input": "2023-12-01T17:29:58.931153Z",
     "iopub.status.busy": "2023-12-01T17:29:58.930075Z",
     "iopub.status.idle": "2023-12-01T17:29:58.972092Z",
     "shell.execute_reply": "2023-12-01T17:29:58.971290Z"
    },
    "id": "Tc_KJzgHv6Ri",
    "papermill": {
     "duration": 0.051822,
     "end_time": "2023-12-01T17:29:58.974538",
     "exception": false,
     "start_time": "2023-12-01T17:29:58.922716",
     "status": "completed"
    },
    "tags": []
   },
   "outputs": [],
   "source": [
    "#get the data\n",
    "train = pd.read_csv('/kaggle/input/petfinder-pawpularity-score/train.csv')\n",
    "test = pd.read_csv('/kaggle/input/petfinder-pawpularity-score/test.csv')"
   ]
  },
  {
   "cell_type": "code",
   "execution_count": 3,
   "id": "cc92094a",
   "metadata": {
    "execution": {
     "iopub.execute_input": "2023-12-01T17:29:58.989004Z",
     "iopub.status.busy": "2023-12-01T17:29:58.988107Z",
     "iopub.status.idle": "2023-12-01T17:29:59.016165Z",
     "shell.execute_reply": "2023-12-01T17:29:59.015118Z"
    },
    "id": "1p6X1p-JwTBR",
    "papermill": {
     "duration": 0.03813,
     "end_time": "2023-12-01T17:29:59.018837",
     "exception": false,
     "start_time": "2023-12-01T17:29:58.980707",
     "status": "completed"
    },
    "tags": []
   },
   "outputs": [],
   "source": [
    "#Modify the Id such that each Id is the full image path. In the form\n",
    "def train_id_to_path(x):\n",
    "    return '/kaggle/input/petfinder-pawpularity-score/train/' + x + \".jpg\"\n",
    "def test_id_to_path(x):\n",
    "    return '/kaggle/input/petfinder-pawpularity-score/test/' + x + \".jpg\"\n",
    "\n",
    "#Read in the data and drop unnecessary columns\n",
    "#train = pd.read_csv('train.csv')\n",
    "train = train.drop(['Subject Focus', 'Eyes', 'Face', 'Near', 'Action', 'Accessory', 'Group', 'Collage', 'Human', 'Occlusion', 'Info', 'Blur'],axis=1)\n",
    "\n",
    "#test = pd.read_csv('test.csv')\n",
    "test = test.drop(['Subject Focus', 'Eyes', 'Face', 'Near', 'Action', 'Accessory', 'Group', 'Collage', 'Human', 'Occlusion', 'Info', 'Blur'],axis=1)\n",
    "\n",
    "#Add the .jpg extensions to the image file name ids\n",
    "train[\"img_path\"] = train[\"Id\"].apply(train_id_to_path)\n",
    "test[\"img_path\"] = test[\"Id\"].apply(test_id_to_path)"
   ]
  },
  {
   "cell_type": "code",
   "execution_count": 4,
   "id": "f101c623",
   "metadata": {
    "execution": {
     "iopub.execute_input": "2023-12-01T17:29:59.032522Z",
     "iopub.status.busy": "2023-12-01T17:29:59.031898Z",
     "iopub.status.idle": "2023-12-01T17:29:59.037946Z",
     "shell.execute_reply": "2023-12-01T17:29:59.036987Z"
    },
    "id": "j7Ubeg5wwhsm",
    "papermill": {
     "duration": 0.015216,
     "end_time": "2023-12-01T17:29:59.040060",
     "exception": false,
     "start_time": "2023-12-01T17:29:59.024844",
     "status": "completed"
    },
    "tags": []
   },
   "outputs": [],
   "source": [
    "#Set the size image you want to use\n",
    "image_height = 128\n",
    "image_width = 128\n",
    "\n",
    "#define a function that accepts an image url and outputs an eager tensor\n",
    "def path_to_eagertensor(image_path):\n",
    "    raw = tf.io.read_file(image_path)\n",
    "    image = tf.image.decode_jpeg(raw, channels=3)\n",
    "    image = tf.cast(image, tf.float32) / 255.0\n",
    "    #image = tf.image.resize_with_pad(image, image_height, image_width) #optional with padding to retain original dimensions\n",
    "    image = tf.image.resize(image, (image_height, image_width))\n",
    "    return image"
   ]
  },
  {
   "cell_type": "code",
   "execution_count": 5,
   "id": "6f6ff584",
   "metadata": {
    "execution": {
     "iopub.execute_input": "2023-12-01T17:29:59.053930Z",
     "iopub.status.busy": "2023-12-01T17:29:59.053554Z",
     "iopub.status.idle": "2023-12-01T17:32:16.720221Z",
     "shell.execute_reply": "2023-12-01T17:32:16.718997Z"
    },
    "id": "AyHXDHR_wkrR",
    "outputId": "c0765830-e05f-4861-8576-2a34f1f26cb1",
    "papermill": {
     "duration": 137.676249,
     "end_time": "2023-12-01T17:32:16.722551",
     "exception": false,
     "start_time": "2023-12-01T17:29:59.046302",
     "status": "completed"
    },
    "tags": []
   },
   "outputs": [
    {
     "name": "stdout",
     "output_type": "stream",
     "text": [
      "<class 'list'> 9912\n",
      "<class 'numpy.ndarray'> (9912, 128, 128, 3)\n"
     ]
    }
   ],
   "source": [
    "#get all the images in the training folder and put their tensors in a list\n",
    "X = []\n",
    "for img in train['img_path']:\n",
    "    new_img_tensor = path_to_eagertensor(img)\n",
    "    X.append(new_img_tensor)\n",
    "    \n",
    "print(type(X),len(X))\n",
    "X = np.array(X)\n",
    "print(type(X),X.shape)"
   ]
  },
  {
   "cell_type": "code",
   "execution_count": 6,
   "id": "c609c4bf",
   "metadata": {
    "execution": {
     "iopub.execute_input": "2023-12-01T17:32:16.738116Z",
     "iopub.status.busy": "2023-12-01T17:32:16.737714Z",
     "iopub.status.idle": "2023-12-01T17:32:16.828532Z",
     "shell.execute_reply": "2023-12-01T17:32:16.827452Z"
    },
    "id": "blpFay79w5ct",
    "outputId": "bc587042-782f-4eff-8c52-7f5ef72cda32",
    "papermill": {
     "duration": 0.101851,
     "end_time": "2023-12-01T17:32:16.831083",
     "exception": false,
     "start_time": "2023-12-01T17:32:16.729232",
     "status": "completed"
    },
    "tags": []
   },
   "outputs": [
    {
     "name": "stdout",
     "output_type": "stream",
     "text": [
      "<class 'list'> 8\n",
      "<class 'numpy.ndarray'> (8, 128, 128, 3)\n"
     ]
    }
   ],
   "source": [
    "#get all the images in the test folder and put their tensors in a list\n",
    "X_submission = []\n",
    "for img in test['img_path']:\n",
    "    new_img_tensor = path_to_eagertensor(img)\n",
    "    X_submission.append(new_img_tensor)\n",
    "    \n",
    "print(type(X_submission),len(X_submission))\n",
    "X_submission = np.array(X_submission)\n",
    "print(type(X_submission),X_submission.shape)"
   ]
  },
  {
   "cell_type": "code",
   "execution_count": 7,
   "id": "6befee6f",
   "metadata": {
    "execution": {
     "iopub.execute_input": "2023-12-01T17:32:16.846406Z",
     "iopub.status.busy": "2023-12-01T17:32:16.845912Z",
     "iopub.status.idle": "2023-12-01T17:32:16.852115Z",
     "shell.execute_reply": "2023-12-01T17:32:16.851184Z"
    },
    "id": "DtMP0v9Iw9c-",
    "outputId": "5f01c510-c1e6-496c-a33f-3bbee3818c13",
    "papermill": {
     "duration": 0.017319,
     "end_time": "2023-12-01T17:32:16.855058",
     "exception": false,
     "start_time": "2023-12-01T17:32:16.837739",
     "status": "completed"
    },
    "tags": []
   },
   "outputs": [
    {
     "name": "stdout",
     "output_type": "stream",
     "text": [
      "<class 'pandas.core.series.Series'>\n"
     ]
    }
   ],
   "source": [
    "#grab the target variable. In our case, Pawpularity\n",
    "y = train['Pawpularity']\n",
    "print(type(y))"
   ]
  },
  {
   "cell_type": "code",
   "execution_count": 8,
   "id": "3034219c",
   "metadata": {
    "execution": {
     "iopub.execute_input": "2023-12-01T17:32:16.875153Z",
     "iopub.status.busy": "2023-12-01T17:32:16.874774Z",
     "iopub.status.idle": "2023-12-01T17:32:17.327936Z",
     "shell.execute_reply": "2023-12-01T17:32:17.326738Z"
    },
    "id": "JzsK5OA8w-_t",
    "papermill": {
     "duration": 0.466698,
     "end_time": "2023-12-01T17:32:17.330914",
     "exception": false,
     "start_time": "2023-12-01T17:32:16.864216",
     "status": "completed"
    },
    "tags": []
   },
   "outputs": [],
   "source": [
    "#generate train - test splits  90% train - 10% test\n",
    "x_train, x_test, y_train, y_test = train_test_split(X, y, test_size=0.1, random_state=7)"
   ]
  },
  {
   "cell_type": "code",
   "execution_count": 9,
   "id": "bee253b5",
   "metadata": {
    "execution": {
     "iopub.execute_input": "2023-12-01T17:32:17.349565Z",
     "iopub.status.busy": "2023-12-01T17:32:17.348850Z",
     "iopub.status.idle": "2023-12-01T17:32:17.354296Z",
     "shell.execute_reply": "2023-12-01T17:32:17.353369Z"
    },
    "id": "5zG4az_JxHPX",
    "outputId": "38bb6f38-6f5a-477e-86c5-b8c94d6a138f",
    "papermill": {
     "duration": 0.016757,
     "end_time": "2023-12-01T17:32:17.357291",
     "exception": false,
     "start_time": "2023-12-01T17:32:17.340534",
     "status": "completed"
    },
    "tags": []
   },
   "outputs": [
    {
     "name": "stdout",
     "output_type": "stream",
     "text": [
      "(8920, 128, 128, 3) (992, 128, 128, 3) (8920,) (992,)\n"
     ]
    }
   ],
   "source": [
    "#Show the shape of each of the new arrays\n",
    "print(x_train.shape, x_test.shape, y_train.shape, y_test.shape)"
   ]
  },
  {
   "cell_type": "code",
   "execution_count": 10,
   "id": "2b062cff",
   "metadata": {
    "execution": {
     "iopub.execute_input": "2023-12-01T17:32:17.376302Z",
     "iopub.status.busy": "2023-12-01T17:32:17.375879Z",
     "iopub.status.idle": "2023-12-01T17:32:17.555362Z",
     "shell.execute_reply": "2023-12-01T17:32:17.554326Z"
    },
    "id": "NdqVNd75xH1v",
    "papermill": {
     "duration": 0.19193,
     "end_time": "2023-12-01T17:32:17.558414",
     "exception": false,
     "start_time": "2023-12-01T17:32:17.366484",
     "status": "completed"
    },
    "tags": []
   },
   "outputs": [],
   "source": [
    "model = tf.keras.Sequential()\n",
    "\n",
    "model.add(tf.keras.layers.Conv2D(16,(3,3),activation='relu',input_shape=(128,128,3)))\n",
    "model.add(tf.keras.layers.MaxPool2D((2,2)))\n",
    "\n",
    "model.add(tf.keras.layers.Conv2D(32,(3,3),activation='relu'))\n",
    "model.add(tf.keras.layers.MaxPool2D((2,2)))\n",
    "\n",
    "model.add(tf.keras.layers.Conv2D(64,(3,3),activation='relu'))\n",
    "model.add(tf.keras.layers.MaxPool2D((2,2)))\n",
    "\n",
    "model.add(tf.keras.layers.Flatten())\n",
    "model.add(tf.keras.layers.Dense(64,activation='relu'))\n",
    "model.add(tf.keras.layers.Dropout(0.1))\n",
    "model.add(tf.keras.layers.Dense(1,activation='linear'))\n",
    "model.add(tf.keras.layers.Dropout(0.1))\n",
    "model.add(tf.keras.layers.Dense(1,activation='linear'))"
   ]
  },
  {
   "cell_type": "code",
   "execution_count": 11,
   "id": "e819a5a5",
   "metadata": {
    "execution": {
     "iopub.execute_input": "2023-12-01T17:32:17.576898Z",
     "iopub.status.busy": "2023-12-01T17:32:17.576068Z",
     "iopub.status.idle": "2023-12-01T17:32:17.623531Z",
     "shell.execute_reply": "2023-12-01T17:32:17.622027Z"
    },
    "id": "KRWe7vKVxObg",
    "outputId": "d1dc5a56-2771-408c-9a90-6957d7223c65",
    "papermill": {
     "duration": 0.062821,
     "end_time": "2023-12-01T17:32:17.630807",
     "exception": false,
     "start_time": "2023-12-01T17:32:17.567986",
     "status": "completed"
    },
    "tags": []
   },
   "outputs": [
    {
     "name": "stdout",
     "output_type": "stream",
     "text": [
      "Model: \"sequential\"\n",
      "_________________________________________________________________\n",
      " Layer (type)                Output Shape              Param #   \n",
      "=================================================================\n",
      " conv2d (Conv2D)             (None, 126, 126, 16)      448       \n",
      "                                                                 \n",
      " max_pooling2d (MaxPooling2  (None, 63, 63, 16)        0         \n",
      " D)                                                              \n",
      "                                                                 \n",
      " conv2d_1 (Conv2D)           (None, 61, 61, 32)        4640      \n",
      "                                                                 \n",
      " max_pooling2d_1 (MaxPoolin  (None, 30, 30, 32)        0         \n",
      " g2D)                                                            \n",
      "                                                                 \n",
      " conv2d_2 (Conv2D)           (None, 28, 28, 64)        18496     \n",
      "                                                                 \n",
      " max_pooling2d_2 (MaxPoolin  (None, 14, 14, 64)        0         \n",
      " g2D)                                                            \n",
      "                                                                 \n",
      " flatten (Flatten)           (None, 12544)             0         \n",
      "                                                                 \n",
      " dense (Dense)               (None, 64)                802880    \n",
      "                                                                 \n",
      " dropout (Dropout)           (None, 64)                0         \n",
      "                                                                 \n",
      " dense_1 (Dense)             (None, 1)                 65        \n",
      "                                                                 \n",
      " dropout_1 (Dropout)         (None, 1)                 0         \n",
      "                                                                 \n",
      " dense_2 (Dense)             (None, 1)                 2         \n",
      "                                                                 \n",
      "=================================================================\n",
      "Total params: 826531 (3.15 MB)\n",
      "Trainable params: 826531 (3.15 MB)\n",
      "Non-trainable params: 0 (0.00 Byte)\n",
      "_________________________________________________________________\n"
     ]
    }
   ],
   "source": [
    "model.summary()\n"
   ]
  },
  {
   "cell_type": "code",
   "execution_count": 12,
   "id": "e64f82e2",
   "metadata": {
    "execution": {
     "iopub.execute_input": "2023-12-01T17:32:17.652616Z",
     "iopub.status.busy": "2023-12-01T17:32:17.651819Z",
     "iopub.status.idle": "2023-12-01T17:32:17.681233Z",
     "shell.execute_reply": "2023-12-01T17:32:17.679360Z"
    },
    "id": "_9w3qPqgxQDI",
    "papermill": {
     "duration": 0.044597,
     "end_time": "2023-12-01T17:32:17.685219",
     "exception": false,
     "start_time": "2023-12-01T17:32:17.640622",
     "status": "completed"
    },
    "tags": []
   },
   "outputs": [],
   "source": [
    "#compile the model\n",
    "# import torch\n",
    "model.compile(\n",
    "    loss = 'mse',#torch.nn.SmoothL1Loss(),#torch.nn.BCEWithLogitsLoss, \n",
    "    optimizer = 'Adam', \n",
    "    metrics = [tf.keras.metrics.RootMeanSquaredError(name=\"rmse\")])"
   ]
  },
  {
   "cell_type": "code",
   "execution_count": 13,
   "id": "1964b491",
   "metadata": {
    "execution": {
     "iopub.execute_input": "2023-12-01T17:32:17.712342Z",
     "iopub.status.busy": "2023-12-01T17:32:17.711444Z",
     "iopub.status.idle": "2023-12-01T17:32:17.718100Z",
     "shell.execute_reply": "2023-12-01T17:32:17.716959Z"
    },
    "id": "W_mMrHn4xRwI",
    "papermill": {
     "duration": 0.02077,
     "end_time": "2023-12-01T17:32:17.720310",
     "exception": false,
     "start_time": "2023-12-01T17:32:17.699540",
     "status": "completed"
    },
    "tags": []
   },
   "outputs": [],
   "source": [
    "data_augmentation =  ImageDataGenerator(\n",
    "    rotation_range = 15, \n",
    "    width_shift_range = 0.2, \n",
    "    height_shift_range = 0.2,\n",
    "    brightness_range=(0.1, 0.9),\n",
    "    shear_range = 0.1,\n",
    "    zoom_range = 0.15,\n",
    "    horizontal_flip = True, \n",
    "    fill_mode = \"nearest\")\n",
    "# ImageDataGenerator(shear_range=0.2,\n",
    "#                             zoom_range=0.2,\n",
    "#                             horizontal_flip=True)\n"
   ]
  },
  {
   "cell_type": "code",
   "execution_count": 14,
   "id": "28c38ebe",
   "metadata": {
    "execution": {
     "iopub.execute_input": "2023-12-01T17:32:17.743178Z",
     "iopub.status.busy": "2023-12-01T17:32:17.742158Z",
     "iopub.status.idle": "2023-12-01T18:20:28.637998Z",
     "shell.execute_reply": "2023-12-01T18:20:28.635582Z"
    },
    "id": "My9sJW0exTfG",
    "outputId": "be1f8c5b-b774-4a7b-b71f-a7c35a73dfb9",
    "papermill": {
     "duration": 2890.910219,
     "end_time": "2023-12-01T18:20:28.640606",
     "exception": false,
     "start_time": "2023-12-01T17:32:17.730387",
     "status": "completed"
    },
    "tags": []
   },
   "outputs": [
    {
     "name": "stdout",
     "output_type": "stream",
     "text": [
      "Epoch 1/100\n",
      "69/69 [==============================] - 49s 559ms/step - loss: 1863.9241 - rmse: 43.1732 - val_loss: 1873.5574 - val_rmse: 43.2846\n",
      "Epoch 2/100\n",
      "69/69 [==============================] - 39s 563ms/step - loss: 1857.0607 - rmse: 43.0936 - val_loss: 1866.6938 - val_rmse: 43.2052\n",
      "Epoch 3/100\n",
      "69/69 [==============================] - 39s 563ms/step - loss: 1852.9064 - rmse: 43.0454 - val_loss: 1858.0990 - val_rmse: 43.1057\n",
      "Epoch 4/100\n",
      "69/69 [==============================] - 39s 567ms/step - loss: 1839.8611 - rmse: 42.8936 - val_loss: 1847.7725 - val_rmse: 42.9857\n",
      "Epoch 5/100\n",
      "69/69 [==============================] - 39s 560ms/step - loss: 1825.9691 - rmse: 42.7314 - val_loss: 1835.6521 - val_rmse: 42.8445\n",
      "Epoch 6/100\n",
      "69/69 [==============================] - 39s 560ms/step - loss: 1815.2614 - rmse: 42.6059 - val_loss: 1821.8083 - val_rmse: 42.6826\n",
      "Epoch 7/100\n",
      "69/69 [==============================] - 39s 565ms/step - loss: 1797.4969 - rmse: 42.3969 - val_loss: 1806.2751 - val_rmse: 42.5003\n",
      "Epoch 8/100\n",
      "69/69 [==============================] - 39s 562ms/step - loss: 1778.6821 - rmse: 42.1744 - val_loss: 1789.1079 - val_rmse: 42.2978\n",
      "Epoch 9/100\n",
      "69/69 [==============================] - 40s 580ms/step - loss: 1758.4562 - rmse: 41.9340 - val_loss: 1770.5251 - val_rmse: 42.0776\n",
      "Epoch 10/100\n",
      "69/69 [==============================] - 41s 591ms/step - loss: 1740.7661 - rmse: 41.7225 - val_loss: 1750.7007 - val_rmse: 41.8414\n",
      "Epoch 11/100\n",
      "69/69 [==============================] - 38s 557ms/step - loss: 1717.3713 - rmse: 41.4412 - val_loss: 1729.3604 - val_rmse: 41.5856\n",
      "Epoch 12/100\n",
      "69/69 [==============================] - 38s 557ms/step - loss: 1701.4836 - rmse: 41.2490 - val_loss: 1706.7296 - val_rmse: 41.3126\n",
      "Epoch 13/100\n",
      "69/69 [==============================] - 40s 573ms/step - loss: 1670.9960 - rmse: 40.8778 - val_loss: 1683.1952 - val_rmse: 41.0268\n",
      "Epoch 14/100\n",
      "69/69 [==============================] - 38s 544ms/step - loss: 1647.8491 - rmse: 40.5937 - val_loss: 1658.5573 - val_rmse: 40.7254\n",
      "Epoch 15/100\n",
      "69/69 [==============================] - 38s 553ms/step - loss: 1625.5873 - rmse: 40.3186 - val_loss: 1632.9340 - val_rmse: 40.4096\n",
      "Epoch 16/100\n",
      "69/69 [==============================] - 38s 545ms/step - loss: 1591.1875 - rmse: 39.8897 - val_loss: 1606.5424 - val_rmse: 40.0817\n",
      "Epoch 17/100\n",
      "69/69 [==============================] - 37s 542ms/step - loss: 1566.4866 - rmse: 39.5789 - val_loss: 1579.2203 - val_rmse: 39.7394\n",
      "Epoch 18/100\n",
      "69/69 [==============================] - 37s 539ms/step - loss: 1538.2479 - rmse: 39.2205 - val_loss: 1551.4363 - val_rmse: 39.3883\n",
      "Epoch 19/100\n",
      "69/69 [==============================] - 37s 532ms/step - loss: 1509.8179 - rmse: 38.8564 - val_loss: 1523.1063 - val_rmse: 39.0270\n",
      "Epoch 20/100\n",
      "69/69 [==============================] - 37s 534ms/step - loss: 1484.2218 - rmse: 38.5256 - val_loss: 1494.1533 - val_rmse: 38.6543\n",
      "Epoch 21/100\n",
      "69/69 [==============================] - 37s 537ms/step - loss: 1448.6086 - rmse: 38.0606 - val_loss: 1464.7491 - val_rmse: 38.2720\n",
      "Epoch 22/100\n",
      "69/69 [==============================] - 37s 535ms/step - loss: 1423.8838 - rmse: 37.7344 - val_loss: 1434.9291 - val_rmse: 37.8805\n",
      "Epoch 23/100\n",
      "69/69 [==============================] - 37s 541ms/step - loss: 1384.1140 - rmse: 37.2037 - val_loss: 1404.8129 - val_rmse: 37.4808\n",
      "Epoch 24/100\n",
      "69/69 [==============================] - 37s 538ms/step - loss: 1361.6523 - rmse: 36.9006 - val_loss: 1374.5377 - val_rmse: 37.0748\n",
      "Epoch 25/100\n",
      "69/69 [==============================] - 37s 535ms/step - loss: 1335.0312 - rmse: 36.5381 - val_loss: 1344.3279 - val_rmse: 36.6651\n",
      "Epoch 26/100\n",
      "69/69 [==============================] - 37s 537ms/step - loss: 1297.7660 - rmse: 36.0245 - val_loss: 1313.8552 - val_rmse: 36.2471\n",
      "Epoch 27/100\n",
      "69/69 [==============================] - 37s 542ms/step - loss: 1270.5542 - rmse: 35.6448 - val_loss: 1283.3792 - val_rmse: 35.8243\n",
      "Epoch 28/100\n",
      "69/69 [==============================] - 37s 534ms/step - loss: 1235.9650 - rmse: 35.1563 - val_loss: 1252.5438 - val_rmse: 35.3913\n",
      "Epoch 29/100\n",
      "69/69 [==============================] - 37s 539ms/step - loss: 1205.2892 - rmse: 34.7173 - val_loss: 1221.9749 - val_rmse: 34.9568\n",
      "Epoch 30/100\n",
      "69/69 [==============================] - 37s 537ms/step - loss: 1177.0712 - rmse: 34.3085 - val_loss: 1191.6252 - val_rmse: 34.5199\n",
      "Epoch 31/100\n",
      "69/69 [==============================] - 37s 532ms/step - loss: 1156.4708 - rmse: 34.0069 - val_loss: 1161.5518 - val_rmse: 34.0815\n",
      "Epoch 32/100\n",
      "69/69 [==============================] - 37s 537ms/step - loss: 1118.4650 - rmse: 33.4435 - val_loss: 1131.7421 - val_rmse: 33.6414\n",
      "Epoch 33/100\n",
      "69/69 [==============================] - 38s 552ms/step - loss: 1090.8119 - rmse: 33.0274 - val_loss: 1102.3699 - val_rmse: 33.2020\n",
      "Epoch 34/100\n",
      "69/69 [==============================] - 37s 532ms/step - loss: 1065.4346 - rmse: 32.6410 - val_loss: 1073.4479 - val_rmse: 32.7635\n",
      "Epoch 35/100\n",
      "69/69 [==============================] - 37s 539ms/step - loss: 1044.8849 - rmse: 32.3247 - val_loss: 1044.9691 - val_rmse: 32.3260\n",
      "Epoch 36/100\n",
      "69/69 [==============================] - 37s 533ms/step - loss: 1015.8271 - rmse: 31.8720 - val_loss: 1017.0089 - val_rmse: 31.8906\n",
      "Epoch 37/100\n",
      "69/69 [==============================] - 37s 538ms/step - loss: 985.5538 - rmse: 31.3935 - val_loss: 989.4431 - val_rmse: 31.4554\n",
      "Epoch 38/100\n",
      "69/69 [==============================] - 37s 539ms/step - loss: 966.0744 - rmse: 31.0817 - val_loss: 962.4888 - val_rmse: 31.0240\n",
      "Epoch 39/100\n",
      "69/69 [==============================] - 37s 538ms/step - loss: 936.5573 - rmse: 30.6032 - val_loss: 936.1751 - val_rmse: 30.5970\n",
      "Epoch 40/100\n",
      "69/69 [==============================] - 37s 537ms/step - loss: 909.7888 - rmse: 30.1627 - val_loss: 910.4162 - val_rmse: 30.1731\n",
      "Epoch 41/100\n",
      "69/69 [==============================] - 37s 540ms/step - loss: 891.3154 - rmse: 29.8549 - val_loss: 885.2117 - val_rmse: 29.7525\n",
      "Epoch 42/100\n",
      "69/69 [==============================] - 37s 534ms/step - loss: 864.9526 - rmse: 29.4101 - val_loss: 860.6393 - val_rmse: 29.3367\n",
      "Epoch 43/100\n",
      "69/69 [==============================] - 37s 536ms/step - loss: 838.6119 - rmse: 28.9588 - val_loss: 836.8745 - val_rmse: 28.9288\n",
      "Epoch 44/100\n",
      "69/69 [==============================] - 37s 534ms/step - loss: 823.4492 - rmse: 28.6958 - val_loss: 813.9257 - val_rmse: 28.5294\n",
      "Epoch 45/100\n",
      "69/69 [==============================] - 37s 532ms/step - loss: 806.4390 - rmse: 28.3979 - val_loss: 791.4563 - val_rmse: 28.1328\n",
      "Epoch 46/100\n",
      "69/69 [==============================] - 37s 536ms/step - loss: 778.8885 - rmse: 27.9086 - val_loss: 769.9286 - val_rmse: 27.7476\n",
      "Epoch 47/100\n",
      "69/69 [==============================] - 37s 536ms/step - loss: 762.0906 - rmse: 27.6060 - val_loss: 749.0836 - val_rmse: 27.3694\n",
      "Epoch 48/100\n",
      "69/69 [==============================] - 37s 538ms/step - loss: 741.0137 - rmse: 27.2216 - val_loss: 728.7796 - val_rmse: 26.9959\n",
      "Epoch 49/100\n",
      "69/69 [==============================] - 37s 536ms/step - loss: 729.7485 - rmse: 27.0139 - val_loss: 709.6476 - val_rmse: 26.6392\n",
      "Epoch 50/100\n",
      "69/69 [==============================] - 38s 548ms/step - loss: 712.0319 - rmse: 26.6839 - val_loss: 691.2897 - val_rmse: 26.2924\n",
      "Epoch 51/100\n",
      "69/69 [==============================] - 37s 536ms/step - loss: 701.0812 - rmse: 26.4779 - val_loss: 673.4986 - val_rmse: 25.9519\n",
      "Epoch 52/100\n",
      "69/69 [==============================] - 37s 534ms/step - loss: 673.7889 - rmse: 25.9574 - val_loss: 656.6047 - val_rmse: 25.6243\n",
      "Epoch 53/100\n",
      "69/69 [==============================] - 37s 528ms/step - loss: 666.1324 - rmse: 25.8095 - val_loss: 640.4734 - val_rmse: 25.3076\n",
      "Epoch 54/100\n",
      "69/69 [==============================] - 36s 520ms/step - loss: 654.4182 - rmse: 25.5816 - val_loss: 625.4032 - val_rmse: 25.0081\n",
      "Epoch 55/100\n",
      "69/69 [==============================] - 36s 527ms/step - loss: 645.9758 - rmse: 25.4161 - val_loss: 611.1354 - val_rmse: 24.7212\n",
      "Epoch 56/100\n",
      "69/69 [==============================] - 36s 523ms/step - loss: 632.4755 - rmse: 25.1491 - val_loss: 597.6157 - val_rmse: 24.4462\n",
      "Epoch 57/100\n",
      "69/69 [==============================] - 36s 527ms/step - loss: 624.4064 - rmse: 24.9881 - val_loss: 584.7941 - val_rmse: 24.1825\n",
      "Epoch 58/100\n",
      "69/69 [==============================] - 37s 532ms/step - loss: 622.0080 - rmse: 24.9401 - val_loss: 572.7078 - val_rmse: 23.9313\n",
      "Epoch 59/100\n",
      "69/69 [==============================] - 37s 530ms/step - loss: 615.1439 - rmse: 24.8021 - val_loss: 561.5029 - val_rmse: 23.6961\n",
      "Epoch 60/100\n",
      "69/69 [==============================] - 36s 525ms/step - loss: 601.6909 - rmse: 24.5294 - val_loss: 550.9229 - val_rmse: 23.4717\n",
      "Epoch 61/100\n",
      "69/69 [==============================] - 36s 526ms/step - loss: 586.4562 - rmse: 24.2169 - val_loss: 540.8966 - val_rmse: 23.2572\n",
      "Epoch 62/100\n",
      "69/69 [==============================] - 36s 521ms/step - loss: 585.0716 - rmse: 24.1883 - val_loss: 531.8374 - val_rmse: 23.0616\n",
      "Epoch 63/100\n",
      "69/69 [==============================] - 37s 533ms/step - loss: 583.4338 - rmse: 24.1544 - val_loss: 523.5964 - val_rmse: 22.8822\n",
      "Epoch 64/100\n",
      "69/69 [==============================] - 36s 526ms/step - loss: 573.0428 - rmse: 23.9383 - val_loss: 515.6793 - val_rmse: 22.7086\n",
      "Epoch 65/100\n",
      "69/69 [==============================] - 37s 538ms/step - loss: 563.7814 - rmse: 23.7441 - val_loss: 508.3200 - val_rmse: 22.5460\n",
      "Epoch 66/100\n",
      "69/69 [==============================] - 37s 539ms/step - loss: 567.5164 - rmse: 23.8226 - val_loss: 501.7918 - val_rmse: 22.4007\n",
      "Epoch 67/100\n",
      "69/69 [==============================] - 37s 531ms/step - loss: 562.6519 - rmse: 23.7203 - val_loss: 495.6327 - val_rmse: 22.2628\n",
      "Epoch 68/100\n",
      "69/69 [==============================] - 37s 529ms/step - loss: 564.0867 - rmse: 23.7505 - val_loss: 490.0541 - val_rmse: 22.1372\n",
      "Epoch 69/100\n",
      "69/69 [==============================] - 36s 528ms/step - loss: 552.0787 - rmse: 23.4964 - val_loss: 485.0152 - val_rmse: 22.0231\n",
      "Epoch 70/100\n",
      "69/69 [==============================] - 37s 528ms/step - loss: 547.8917 - rmse: 23.4071 - val_loss: 480.5271 - val_rmse: 21.9209\n",
      "Epoch 71/100\n",
      "69/69 [==============================] - 36s 522ms/step - loss: 561.5701 - rmse: 23.6975 - val_loss: 476.4609 - val_rmse: 21.8280\n",
      "Epoch 72/100\n",
      "69/69 [==============================] - 37s 531ms/step - loss: 548.1487 - rmse: 23.4126 - val_loss: 472.7880 - val_rmse: 21.7437\n",
      "Epoch 73/100\n",
      "69/69 [==============================] - 36s 519ms/step - loss: 543.5157 - rmse: 23.3134 - val_loss: 469.4125 - val_rmse: 21.6659\n",
      "Epoch 74/100\n",
      "69/69 [==============================] - 36s 522ms/step - loss: 551.0850 - rmse: 23.4752 - val_loss: 466.5928 - val_rmse: 21.6008\n",
      "Epoch 75/100\n",
      "69/69 [==============================] - 36s 521ms/step - loss: 549.8904 - rmse: 23.4497 - val_loss: 464.2055 - val_rmse: 21.5454\n",
      "Epoch 76/100\n",
      "69/69 [==============================] - 36s 520ms/step - loss: 551.1570 - rmse: 23.4767 - val_loss: 461.7459 - val_rmse: 21.4883\n"
     ]
    }
   ],
   "source": [
    "es_callback = tf.keras.callbacks.EarlyStopping(monitor='loss', patience=3)\n",
    "\n",
    "history = model.fit(\n",
    "    data_augmentation.flow(x_train,y_train,batch_size=128),\n",
    "    validation_data = (x_test,y_test),\n",
    "    steps_per_epoch = len(x_train) // 128, \n",
    "    callbacks=[es_callback],\n",
    "    epochs = 100\n",
    ")"
   ]
  },
  {
   "cell_type": "code",
   "execution_count": 15,
   "id": "ef111b1e",
   "metadata": {
    "execution": {
     "iopub.execute_input": "2023-12-01T18:20:29.522167Z",
     "iopub.status.busy": "2023-12-01T18:20:29.521802Z",
     "iopub.status.idle": "2023-12-01T18:20:29.857417Z",
     "shell.execute_reply": "2023-12-01T18:20:29.856478Z"
    },
    "id": "r2Fxo2h7xVTK",
    "outputId": "a068354b-f9f6-4c2f-d77a-82ff2606a9b9",
    "papermill": {
     "duration": 0.777353,
     "end_time": "2023-12-01T18:20:29.859511",
     "exception": false,
     "start_time": "2023-12-01T18:20:29.082158",
     "status": "completed"
    },
    "tags": []
   },
   "outputs": [
    {
     "data": {
      "text/plain": [
       "<matplotlib.legend.Legend at 0x7f5b34b6b1c0>"
      ]
     },
     "execution_count": 15,
     "metadata": {},
     "output_type": "execute_result"
    },
    {
     "data": {
      "image/png": "[encoded data removed]",
      "text/plain": [
       "<Figure size 640x480 with 1 Axes>"
      ]
     },
     "metadata": {},
     "output_type": "display_data"
    }
   ],
   "source": [
    "plt.figure()\n",
    "plt.plot(history.history[\"rmse\"], label=\"train_rmse\") #or mse\n",
    "plt.plot(history.history[\"val_rmse\"], label=\"val_rmse\")\n",
    "#plt.xticks(range(0,60))\n",
    "plt.title(\"RMSE train/validation by Epoch\")\n",
    "plt.xlabel(\"Epoch #\")\n",
    "plt.ylabel(\"RMSE\")\n",
    "plt.legend(loc=\"upper right\")"
   ]
  },
  {
   "cell_type": "code",
   "execution_count": 16,
   "id": "6f8454b1",
   "metadata": {
    "execution": {
     "iopub.execute_input": "2023-12-01T18:20:30.793056Z",
     "iopub.status.busy": "2023-12-01T18:20:30.792222Z",
     "iopub.status.idle": "2023-12-01T18:20:31.541784Z",
     "shell.execute_reply": "2023-12-01T18:20:31.540825Z"
    },
    "papermill": {
     "duration": 1.1854,
     "end_time": "2023-12-01T18:20:31.544668",
     "exception": false,
     "start_time": "2023-12-01T18:20:30.359268",
     "status": "completed"
    },
    "tags": []
   },
   "outputs": [
    {
     "name": "stdout",
     "output_type": "stream",
     "text": [
      "31/31 [==============================] - 0s 3ms/step\n",
      "RMSE of validation data: 21.488274607796615\n"
     ]
    },
    {
     "name": "stderr",
     "output_type": "stream",
     "text": [
      "/opt/conda/lib/python3.10/site-packages/sklearn/utils/validation.py:605: FutureWarning: is_sparse is deprecated and will be removed in a future version. Check `isinstance(dtype, pd.SparseDtype)` instead.\n",
      "  if is_sparse(pd_dtype):\n",
      "/opt/conda/lib/python3.10/site-packages/sklearn/utils/validation.py:614: FutureWarning: is_sparse is deprecated and will be removed in a future version. Check `isinstance(dtype, pd.SparseDtype)` instead.\n",
      "  if is_sparse(pd_dtype) or not is_extension_array_dtype(pd_dtype):\n"
     ]
    }
   ],
   "source": [
    "y_pred = model.predict(x_test)\n",
    "import math\n",
    "import sklearn.metrics\n",
    "mse = sklearn.metrics.mean_squared_error(y_test, y_pred)\n",
    "rmse = math.sqrt(mse)\n",
    "print('RMSE of validation data: '+str(rmse)) #0.1 for both layers dropout & BS 128 - 21.19945112342183"
   ]
  },
  {
   "cell_type": "code",
   "execution_count": 17,
   "id": "09b78a4f",
   "metadata": {
    "execution": {
     "iopub.execute_input": "2023-12-01T18:20:32.475795Z",
     "iopub.status.busy": "2023-12-01T18:20:32.474864Z",
     "iopub.status.idle": "2023-12-01T18:20:32.683662Z",
     "shell.execute_reply": "2023-12-01T18:20:32.682548Z"
    },
    "id": "GzYQlOYJxXtu",
    "outputId": "1ea64d49-811f-4082-d100-d4f305850e64",
    "papermill": {
     "duration": 0.69009,
     "end_time": "2023-12-01T18:20:32.685739",
     "exception": false,
     "start_time": "2023-12-01T18:20:31.995649",
     "status": "completed"
    },
    "tags": []
   },
   "outputs": [
    {
     "name": "stdout",
     "output_type": "stream",
     "text": [
      "1/1 [==============================] - 0s 150ms/step\n",
      "(8, 128, 128, 3) <class 'numpy.ndarray'>\n",
      "(8, 1) <class 'numpy.ndarray'>\n"
     ]
    }
   ],
   "source": [
    "#predict on the submission data\n",
    "cnn_pred = model.predict(X_submission)\n",
    "print(X_submission.shape, type(X_submission))\n",
    "print(cnn_pred.shape, type(cnn_pred))"
   ]
  },
  {
   "cell_type": "code",
   "execution_count": 18,
   "id": "fd7bef32",
   "metadata": {
    "execution": {
     "iopub.execute_input": "2023-12-01T18:20:33.580825Z",
     "iopub.status.busy": "2023-12-01T18:20:33.580223Z",
     "iopub.status.idle": "2023-12-01T18:20:33.589187Z",
     "shell.execute_reply": "2023-12-01T18:20:33.588502Z"
    },
    "id": "8eWVMT3wxZd7",
    "papermill": {
     "duration": 0.451619,
     "end_time": "2023-12-01T18:20:33.591068",
     "exception": false,
     "start_time": "2023-12-01T18:20:33.139449",
     "status": "completed"
    },
    "tags": []
   },
   "outputs": [],
   "source": [
    "#put the submission predictions alongside their associated Ids\n",
    "cnn = pd.DataFrame()\n",
    "cnn['Id'] = test['Id']\n",
    "cnn['Pawpularity'] = cnn_pred\n",
    "cnn.to_csv('/kaggle/working/submission.csv',index=False)"
   ]
  },
  {
   "cell_type": "code",
   "execution_count": null,
   "id": "5ebe9bd8",
   "metadata": {
    "papermill": {
     "duration": 0.437326,
     "end_time": "2023-12-01T18:20:34.515729",
     "exception": false,
     "start_time": "2023-12-01T18:20:34.078403",
     "status": "completed"
    },
    "tags": []
   },
   "outputs": [],
   "source": []
  }
 ],
 "metadata": {
  "kaggle": {
   "accelerator": "gpu",
   "dataSources": [
    {
     "databundleVersionId": 2684322,
     "sourceId": 25383,
     "sourceType": "competition"
    }
   ],
   "isGpuEnabled": true,
   "isInternetEnabled": false,
   "language": "python",
   "sourceType": "notebook"
  },
  "kernelspec": {
   "display_name": "Python 3",
   "language": "python",
   "name": "python3"
  },
  "language_info": {
   "codemirror_mode": {
    "name": "ipython",
    "version": 3
   },
   "file_extension": ".py",
   "mimetype": "text/x-python",
   "name": "python",
   "nbconvert_exporter": "python",
   "pygments_lexer": "ipython3",
   "version": "3.10.12"
  },
  "papermill": {
   "default_parameters": {},
   "duration": 3057.450717,
   "end_time": "2023-12-01T18:20:38.196906",
   "environment_variables": {},
   "exception": null,
   "input_path": "__notebook__.ipynb",
   "output_path": "__notebook__.ipynb",
   "parameters": {},
   "start_time": "2023-12-01T17:29:40.746189",
   "version": "2.4.0"
  }
 },
 "nbformat": 4,
 "nbformat_minor": 5
}
