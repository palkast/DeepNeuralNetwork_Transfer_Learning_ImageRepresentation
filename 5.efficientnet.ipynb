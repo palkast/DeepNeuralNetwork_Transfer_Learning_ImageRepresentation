{
 "cells": [
  {
   "cell_type": "code",
   "execution_count": 1,
   "id": "e0f5a399",
   "metadata": {
    "_cell_guid": "b1076dfc-b9ad-4769-8c92-a6c4dae69d19",
    "_uuid": "8f2839f25d086af736a60e9eeb907d3b93b6e0e5",
    "execution": {
     "iopub.execute_input": "2023-12-03T21:38:42.984913Z",
     "iopub.status.busy": "2023-12-03T21:38:42.984536Z",
     "iopub.status.idle": "2023-12-03T21:38:43.682468Z",
     "shell.execute_reply": "2023-12-03T21:38:43.681514Z"
    },
    "papermill": {
     "duration": 0.710086,
     "end_time": "2023-12-03T21:38:43.684793",
     "exception": false,
     "start_time": "2023-12-03T21:38:42.974707",
     "status": "completed"
    },
    "tags": []
   },
   "outputs": [],
   "source": [
    "\n",
    "\n",
    "import numpy as np # linear algebra\n",
    "import pandas as pd # data processing, CSV file I/O (e.g. pd.read_csv)\n"
   ]
  },
  {
   "cell_type": "markdown",
   "id": "ce6c9dfd",
   "metadata": {
    "papermill": {
     "duration": 0.007522,
     "end_time": "2023-12-03T21:38:43.700702",
     "exception": false,
     "start_time": "2023-12-03T21:38:43.693180",
     "status": "completed"
    },
    "tags": []
   },
   "source": [
    "**IMPORTING IMPORTANT LIBRARIES**"
   ]
  },
  {
   "cell_type": "code",
   "execution_count": 2,
   "id": "9f4d787f",
   "metadata": {
    "execution": {
     "iopub.execute_input": "2023-12-03T21:38:43.717501Z",
     "iopub.status.busy": "2023-12-03T21:38:43.717078Z",
     "iopub.status.idle": "2023-12-03T21:38:55.776631Z",
     "shell.execute_reply": "2023-12-03T21:38:55.775772Z"
    },
    "papermill": {
     "duration": 12.070736,
     "end_time": "2023-12-03T21:38:55.779027",
     "exception": false,
     "start_time": "2023-12-03T21:38:43.708291",
     "status": "completed"
    },
    "tags": []
   },
   "outputs": [
    {
     "name": "stderr",
     "output_type": "stream",
     "text": [
      "/opt/conda/lib/python3.10/site-packages/scipy/__init__.py:146: UserWarning: A NumPy version >=1.16.5 and <1.23.0 is required for this version of SciPy (detected version 1.24.3\n",
      "  warnings.warn(f\"A NumPy version >={np_minversion} and <{np_maxversion}\"\n"
     ]
    }
   ],
   "source": [
    "import sklearn\n",
    "import numpy as np\n",
    "import pandas as pd\n",
    "import tensorflow as tf\n",
    "from tensorflow import keras\n",
    "import matplotlib.pyplot as plt\n",
    "from tensorflow.keras.applications.resnet50 import ResNet50\n",
    "from sklearn.model_selection import KFold\n",
    "from tensorflow.keras.layers.experimental.preprocessing import RandomRotation, RandomContrast\n"
   ]
  },
  {
   "cell_type": "markdown",
   "id": "ac28d5ad",
   "metadata": {
    "papermill": {
     "duration": 0.007672,
     "end_time": "2023-12-03T21:38:55.795034",
     "exception": false,
     "start_time": "2023-12-03T21:38:55.787362",
     "status": "completed"
    },
    "tags": []
   },
   "source": [
    "**DATA PREPROCESSING**"
   ]
  },
  {
   "cell_type": "code",
   "execution_count": 3,
   "id": "177e4151",
   "metadata": {
    "execution": {
     "iopub.execute_input": "2023-12-03T21:38:55.812171Z",
     "iopub.status.busy": "2023-12-03T21:38:55.811590Z",
     "iopub.status.idle": "2023-12-03T21:38:55.860289Z",
     "shell.execute_reply": "2023-12-03T21:38:55.859441Z"
    },
    "papermill": {
     "duration": 0.059709,
     "end_time": "2023-12-03T21:38:55.862487",
     "exception": false,
     "start_time": "2023-12-03T21:38:55.802778",
     "status": "completed"
    },
    "tags": []
   },
   "outputs": [],
   "source": [
    "train = pd.read_csv(\"../input/petfinder-pawpularity-score/train.csv\")\n",
    "test = pd.read_csv(\"../input/petfinder-pawpularity-score/test.csv\")\n",
    "sample_submission = pd.read_csv(\"../input/petfinder-pawpularity-score/sample_submission.csv\")"
   ]
  },
  {
   "cell_type": "code",
   "execution_count": 4,
   "id": "e1e9a482",
   "metadata": {
    "execution": {
     "iopub.execute_input": "2023-12-03T21:38:55.879978Z",
     "iopub.status.busy": "2023-12-03T21:38:55.879691Z",
     "iopub.status.idle": "2023-12-03T21:38:55.898875Z",
     "shell.execute_reply": "2023-12-03T21:38:55.898040Z"
    },
    "papermill": {
     "duration": 0.030322,
     "end_time": "2023-12-03T21:38:55.900873",
     "exception": false,
     "start_time": "2023-12-03T21:38:55.870551",
     "status": "completed"
    },
    "tags": []
   },
   "outputs": [
    {
     "data": {
      "text/html": [
       "<div>\n",
       "<style scoped>\n",
       "    .dataframe tbody tr th:only-of-type {\n",
       "        vertical-align: middle;\n",
       "    }\n",
       "\n",
       "    .dataframe tbody tr th {\n",
       "        vertical-align: top;\n",
       "    }\n",
       "\n",
       "    .dataframe thead th {\n",
       "        text-align: right;\n",
       "    }\n",
       "</style>\n",
       "<table border=\"1\" class=\"dataframe\">\n",
       "  <thead>\n",
       "    <tr style=\"text-align: right;\">\n",
       "      <th></th>\n",
       "      <th>Id</th>\n",
       "      <th>Subject Focus</th>\n",
       "      <th>Eyes</th>\n",
       "      <th>Face</th>\n",
       "      <th>Near</th>\n",
       "      <th>Action</th>\n",
       "      <th>Accessory</th>\n",
       "      <th>Group</th>\n",
       "      <th>Collage</th>\n",
       "      <th>Human</th>\n",
       "      <th>Occlusion</th>\n",
       "      <th>Info</th>\n",
       "      <th>Blur</th>\n",
       "      <th>Pawpularity</th>\n",
       "    </tr>\n",
       "  </thead>\n",
       "  <tbody>\n",
       "    <tr>\n",
       "      <th>0</th>\n",
       "      <td>0007de18844b0dbbb5e1f607da0606e0</td>\n",
       "      <td>0</td>\n",
       "      <td>1</td>\n",
       "      <td>1</td>\n",
       "      <td>1</td>\n",
       "      <td>0</td>\n",
       "      <td>0</td>\n",
       "      <td>1</td>\n",
       "      <td>0</td>\n",
       "      <td>0</td>\n",
       "      <td>0</td>\n",
       "      <td>0</td>\n",
       "      <td>0</td>\n",
       "      <td>63</td>\n",
       "    </tr>\n",
       "    <tr>\n",
       "      <th>1</th>\n",
       "      <td>0009c66b9439883ba2750fb825e1d7db</td>\n",
       "      <td>0</td>\n",
       "      <td>1</td>\n",
       "      <td>1</td>\n",
       "      <td>0</td>\n",
       "      <td>0</td>\n",
       "      <td>0</td>\n",
       "      <td>0</td>\n",
       "      <td>0</td>\n",
       "      <td>0</td>\n",
       "      <td>0</td>\n",
       "      <td>0</td>\n",
       "      <td>0</td>\n",
       "      <td>42</td>\n",
       "    </tr>\n",
       "    <tr>\n",
       "      <th>2</th>\n",
       "      <td>0013fd999caf9a3efe1352ca1b0d937e</td>\n",
       "      <td>0</td>\n",
       "      <td>1</td>\n",
       "      <td>1</td>\n",
       "      <td>1</td>\n",
       "      <td>0</td>\n",
       "      <td>0</td>\n",
       "      <td>0</td>\n",
       "      <td>0</td>\n",
       "      <td>1</td>\n",
       "      <td>1</td>\n",
       "      <td>0</td>\n",
       "      <td>0</td>\n",
       "      <td>28</td>\n",
       "    </tr>\n",
       "    <tr>\n",
       "      <th>3</th>\n",
       "      <td>0018df346ac9c1d8413cfcc888ca8246</td>\n",
       "      <td>0</td>\n",
       "      <td>1</td>\n",
       "      <td>1</td>\n",
       "      <td>1</td>\n",
       "      <td>0</td>\n",
       "      <td>0</td>\n",
       "      <td>0</td>\n",
       "      <td>0</td>\n",
       "      <td>0</td>\n",
       "      <td>0</td>\n",
       "      <td>0</td>\n",
       "      <td>0</td>\n",
       "      <td>15</td>\n",
       "    </tr>\n",
       "    <tr>\n",
       "      <th>4</th>\n",
       "      <td>001dc955e10590d3ca4673f034feeef2</td>\n",
       "      <td>0</td>\n",
       "      <td>0</td>\n",
       "      <td>0</td>\n",
       "      <td>1</td>\n",
       "      <td>0</td>\n",
       "      <td>0</td>\n",
       "      <td>1</td>\n",
       "      <td>0</td>\n",
       "      <td>0</td>\n",
       "      <td>0</td>\n",
       "      <td>0</td>\n",
       "      <td>0</td>\n",
       "      <td>72</td>\n",
       "    </tr>\n",
       "  </tbody>\n",
       "</table>\n",
       "</div>"
      ],
      "text/plain": [
       "                                 Id  Subject Focus  Eyes  Face  Near  Action  \\\n",
       "0  0007de18844b0dbbb5e1f607da0606e0              0     1     1     1       0   \n",
       "1  0009c66b9439883ba2750fb825e1d7db              0     1     1     0       0   \n",
       "2  0013fd999caf9a3efe1352ca1b0d937e              0     1     1     1       0   \n",
       "3  0018df346ac9c1d8413cfcc888ca8246              0     1     1     1       0   \n",
       "4  001dc955e10590d3ca4673f034feeef2              0     0     0     1       0   \n",
       "\n",
       "   Accessory  Group  Collage  Human  Occlusion  Info  Blur  Pawpularity  \n",
       "0          0      1        0      0          0     0     0           63  \n",
       "1          0      0        0      0          0     0     0           42  \n",
       "2          0      0        0      1          1     0     0           28  \n",
       "3          0      0        0      0          0     0     0           15  \n",
       "4          0      1        0      0          0     0     0           72  "
      ]
     },
     "execution_count": 4,
     "metadata": {},
     "output_type": "execute_result"
    }
   ],
   "source": [
    "train.head()"
   ]
  },
  {
   "cell_type": "code",
   "execution_count": 5,
   "id": "ff5ba9fc",
   "metadata": {
    "execution": {
     "iopub.execute_input": "2023-12-03T21:38:55.918280Z",
     "iopub.status.busy": "2023-12-03T21:38:55.918002Z",
     "iopub.status.idle": "2023-12-03T21:38:55.930160Z",
     "shell.execute_reply": "2023-12-03T21:38:55.929311Z"
    },
    "papermill": {
     "duration": 0.022991,
     "end_time": "2023-12-03T21:38:55.932155",
     "exception": false,
     "start_time": "2023-12-03T21:38:55.909164",
     "status": "completed"
    },
    "tags": []
   },
   "outputs": [
    {
     "data": {
      "text/html": [
       "<div>\n",
       "<style scoped>\n",
       "    .dataframe tbody tr th:only-of-type {\n",
       "        vertical-align: middle;\n",
       "    }\n",
       "\n",
       "    .dataframe tbody tr th {\n",
       "        vertical-align: top;\n",
       "    }\n",
       "\n",
       "    .dataframe thead th {\n",
       "        text-align: right;\n",
       "    }\n",
       "</style>\n",
       "<table border=\"1\" class=\"dataframe\">\n",
       "  <thead>\n",
       "    <tr style=\"text-align: right;\">\n",
       "      <th></th>\n",
       "      <th>Id</th>\n",
       "      <th>Subject Focus</th>\n",
       "      <th>Eyes</th>\n",
       "      <th>Face</th>\n",
       "      <th>Near</th>\n",
       "      <th>Action</th>\n",
       "      <th>Accessory</th>\n",
       "      <th>Group</th>\n",
       "      <th>Collage</th>\n",
       "      <th>Human</th>\n",
       "      <th>Occlusion</th>\n",
       "      <th>Info</th>\n",
       "      <th>Blur</th>\n",
       "    </tr>\n",
       "  </thead>\n",
       "  <tbody>\n",
       "    <tr>\n",
       "      <th>0</th>\n",
       "      <td>4128bae22183829d2b5fea10effdb0c3</td>\n",
       "      <td>1</td>\n",
       "      <td>0</td>\n",
       "      <td>1</td>\n",
       "      <td>0</td>\n",
       "      <td>0</td>\n",
       "      <td>1</td>\n",
       "      <td>1</td>\n",
       "      <td>0</td>\n",
       "      <td>0</td>\n",
       "      <td>1</td>\n",
       "      <td>0</td>\n",
       "      <td>1</td>\n",
       "    </tr>\n",
       "    <tr>\n",
       "      <th>1</th>\n",
       "      <td>43a2262d7738e3d420d453815151079e</td>\n",
       "      <td>0</td>\n",
       "      <td>1</td>\n",
       "      <td>0</td>\n",
       "      <td>0</td>\n",
       "      <td>0</td>\n",
       "      <td>0</td>\n",
       "      <td>1</td>\n",
       "      <td>1</td>\n",
       "      <td>0</td>\n",
       "      <td>0</td>\n",
       "      <td>0</td>\n",
       "      <td>0</td>\n",
       "    </tr>\n",
       "    <tr>\n",
       "      <th>2</th>\n",
       "      <td>4e429cead1848a298432a0acad014c9d</td>\n",
       "      <td>0</td>\n",
       "      <td>0</td>\n",
       "      <td>0</td>\n",
       "      <td>1</td>\n",
       "      <td>0</td>\n",
       "      <td>1</td>\n",
       "      <td>1</td>\n",
       "      <td>1</td>\n",
       "      <td>0</td>\n",
       "      <td>1</td>\n",
       "      <td>1</td>\n",
       "      <td>1</td>\n",
       "    </tr>\n",
       "    <tr>\n",
       "      <th>3</th>\n",
       "      <td>80bc3ccafcc51b66303c2c263aa38486</td>\n",
       "      <td>1</td>\n",
       "      <td>0</td>\n",
       "      <td>1</td>\n",
       "      <td>0</td>\n",
       "      <td>0</td>\n",
       "      <td>0</td>\n",
       "      <td>0</td>\n",
       "      <td>0</td>\n",
       "      <td>0</td>\n",
       "      <td>0</td>\n",
       "      <td>1</td>\n",
       "      <td>0</td>\n",
       "    </tr>\n",
       "    <tr>\n",
       "      <th>4</th>\n",
       "      <td>8f49844c382931444e68dffbe20228f4</td>\n",
       "      <td>1</td>\n",
       "      <td>1</td>\n",
       "      <td>1</td>\n",
       "      <td>0</td>\n",
       "      <td>1</td>\n",
       "      <td>1</td>\n",
       "      <td>0</td>\n",
       "      <td>1</td>\n",
       "      <td>0</td>\n",
       "      <td>1</td>\n",
       "      <td>1</td>\n",
       "      <td>0</td>\n",
       "    </tr>\n",
       "  </tbody>\n",
       "</table>\n",
       "</div>"
      ],
      "text/plain": [
       "                                 Id  Subject Focus  Eyes  Face  Near  Action  \\\n",
       "0  4128bae22183829d2b5fea10effdb0c3              1     0     1     0       0   \n",
       "1  43a2262d7738e3d420d453815151079e              0     1     0     0       0   \n",
       "2  4e429cead1848a298432a0acad014c9d              0     0     0     1       0   \n",
       "3  80bc3ccafcc51b66303c2c263aa38486              1     0     1     0       0   \n",
       "4  8f49844c382931444e68dffbe20228f4              1     1     1     0       1   \n",
       "\n",
       "   Accessory  Group  Collage  Human  Occlusion  Info  Blur  \n",
       "0          1      1        0      0          1     0     1  \n",
       "1          0      1        1      0          0     0     0  \n",
       "2          1      1        1      0          1     1     1  \n",
       "3          0      0        0      0          0     1     0  \n",
       "4          1      0        1      0          1     1     0  "
      ]
     },
     "execution_count": 5,
     "metadata": {},
     "output_type": "execute_result"
    }
   ],
   "source": [
    "test.head()"
   ]
  },
  {
   "cell_type": "markdown",
   "id": "ffd4ed81",
   "metadata": {
    "papermill": {
     "duration": 0.008225,
     "end_time": "2023-12-03T21:38:55.948648",
     "exception": false,
     "start_time": "2023-12-03T21:38:55.940423",
     "status": "completed"
    },
    "tags": []
   },
   "source": [
    "**USING LAMBDA APPLY FUNCTION TO ADD IMAGE PATH IN THE TABLE CORRESPONDING TO UNIQUE IMAGE ID**"
   ]
  },
  {
   "cell_type": "code",
   "execution_count": 6,
   "id": "36841f98",
   "metadata": {
    "execution": {
     "iopub.execute_input": "2023-12-03T21:38:55.966414Z",
     "iopub.status.busy": "2023-12-03T21:38:55.966136Z",
     "iopub.status.idle": "2023-12-03T21:38:55.976690Z",
     "shell.execute_reply": "2023-12-03T21:38:55.975869Z"
    },
    "papermill": {
     "duration": 0.021775,
     "end_time": "2023-12-03T21:38:55.978609",
     "exception": false,
     "start_time": "2023-12-03T21:38:55.956834",
     "status": "completed"
    },
    "tags": []
   },
   "outputs": [],
   "source": [
    "train[\"file_path\"] = train[\"Id\"].apply(lambda identifier: \"../input/petfinder-pawpularity-score/train/\" + identifier + \".jpg\")\n",
    "test[\"file_path\"] = test[\"Id\"].apply(lambda identifier: \"../input/petfinder-pawpularity-score/test/\" + identifier + \".jpg\")"
   ]
  },
  {
   "cell_type": "code",
   "execution_count": 7,
   "id": "f1650f3d",
   "metadata": {
    "execution": {
     "iopub.execute_input": "2023-12-03T21:38:55.997003Z",
     "iopub.status.busy": "2023-12-03T21:38:55.996707Z",
     "iopub.status.idle": "2023-12-03T21:38:56.011183Z",
     "shell.execute_reply": "2023-12-03T21:38:56.010093Z"
    },
    "papermill": {
     "duration": 0.025765,
     "end_time": "2023-12-03T21:38:56.013246",
     "exception": false,
     "start_time": "2023-12-03T21:38:55.987481",
     "status": "completed"
    },
    "tags": []
   },
   "outputs": [
    {
     "data": {
      "text/html": [
       "<div>\n",
       "<style scoped>\n",
       "    .dataframe tbody tr th:only-of-type {\n",
       "        vertical-align: middle;\n",
       "    }\n",
       "\n",
       "    .dataframe tbody tr th {\n",
       "        vertical-align: top;\n",
       "    }\n",
       "\n",
       "    .dataframe thead th {\n",
       "        text-align: right;\n",
       "    }\n",
       "</style>\n",
       "<table border=\"1\" class=\"dataframe\">\n",
       "  <thead>\n",
       "    <tr style=\"text-align: right;\">\n",
       "      <th></th>\n",
       "      <th>Id</th>\n",
       "      <th>Subject Focus</th>\n",
       "      <th>Eyes</th>\n",
       "      <th>Face</th>\n",
       "      <th>Near</th>\n",
       "      <th>Action</th>\n",
       "      <th>Accessory</th>\n",
       "      <th>Group</th>\n",
       "      <th>Collage</th>\n",
       "      <th>Human</th>\n",
       "      <th>Occlusion</th>\n",
       "      <th>Info</th>\n",
       "      <th>Blur</th>\n",
       "      <th>Pawpularity</th>\n",
       "      <th>file_path</th>\n",
       "    </tr>\n",
       "  </thead>\n",
       "  <tbody>\n",
       "    <tr>\n",
       "      <th>0</th>\n",
       "      <td>0007de18844b0dbbb5e1f607da0606e0</td>\n",
       "      <td>0</td>\n",
       "      <td>1</td>\n",
       "      <td>1</td>\n",
       "      <td>1</td>\n",
       "      <td>0</td>\n",
       "      <td>0</td>\n",
       "      <td>1</td>\n",
       "      <td>0</td>\n",
       "      <td>0</td>\n",
       "      <td>0</td>\n",
       "      <td>0</td>\n",
       "      <td>0</td>\n",
       "      <td>63</td>\n",
       "      <td>../input/petfinder-pawpularity-score/train/000...</td>\n",
       "    </tr>\n",
       "    <tr>\n",
       "      <th>1</th>\n",
       "      <td>0009c66b9439883ba2750fb825e1d7db</td>\n",
       "      <td>0</td>\n",
       "      <td>1</td>\n",
       "      <td>1</td>\n",
       "      <td>0</td>\n",
       "      <td>0</td>\n",
       "      <td>0</td>\n",
       "      <td>0</td>\n",
       "      <td>0</td>\n",
       "      <td>0</td>\n",
       "      <td>0</td>\n",
       "      <td>0</td>\n",
       "      <td>0</td>\n",
       "      <td>42</td>\n",
       "      <td>../input/petfinder-pawpularity-score/train/000...</td>\n",
       "    </tr>\n",
       "    <tr>\n",
       "      <th>2</th>\n",
       "      <td>0013fd999caf9a3efe1352ca1b0d937e</td>\n",
       "      <td>0</td>\n",
       "      <td>1</td>\n",
       "      <td>1</td>\n",
       "      <td>1</td>\n",
       "      <td>0</td>\n",
       "      <td>0</td>\n",
       "      <td>0</td>\n",
       "      <td>0</td>\n",
       "      <td>1</td>\n",
       "      <td>1</td>\n",
       "      <td>0</td>\n",
       "      <td>0</td>\n",
       "      <td>28</td>\n",
       "      <td>../input/petfinder-pawpularity-score/train/001...</td>\n",
       "    </tr>\n",
       "    <tr>\n",
       "      <th>3</th>\n",
       "      <td>0018df346ac9c1d8413cfcc888ca8246</td>\n",
       "      <td>0</td>\n",
       "      <td>1</td>\n",
       "      <td>1</td>\n",
       "      <td>1</td>\n",
       "      <td>0</td>\n",
       "      <td>0</td>\n",
       "      <td>0</td>\n",
       "      <td>0</td>\n",
       "      <td>0</td>\n",
       "      <td>0</td>\n",
       "      <td>0</td>\n",
       "      <td>0</td>\n",
       "      <td>15</td>\n",
       "      <td>../input/petfinder-pawpularity-score/train/001...</td>\n",
       "    </tr>\n",
       "    <tr>\n",
       "      <th>4</th>\n",
       "      <td>001dc955e10590d3ca4673f034feeef2</td>\n",
       "      <td>0</td>\n",
       "      <td>0</td>\n",
       "      <td>0</td>\n",
       "      <td>1</td>\n",
       "      <td>0</td>\n",
       "      <td>0</td>\n",
       "      <td>1</td>\n",
       "      <td>0</td>\n",
       "      <td>0</td>\n",
       "      <td>0</td>\n",
       "      <td>0</td>\n",
       "      <td>0</td>\n",
       "      <td>72</td>\n",
       "      <td>../input/petfinder-pawpularity-score/train/001...</td>\n",
       "    </tr>\n",
       "  </tbody>\n",
       "</table>\n",
       "</div>"
      ],
      "text/plain": [
       "                                 Id  Subject Focus  Eyes  Face  Near  Action  \\\n",
       "0  0007de18844b0dbbb5e1f607da0606e0              0     1     1     1       0   \n",
       "1  0009c66b9439883ba2750fb825e1d7db              0     1     1     0       0   \n",
       "2  0013fd999caf9a3efe1352ca1b0d937e              0     1     1     1       0   \n",
       "3  0018df346ac9c1d8413cfcc888ca8246              0     1     1     1       0   \n",
       "4  001dc955e10590d3ca4673f034feeef2              0     0     0     1       0   \n",
       "\n",
       "   Accessory  Group  Collage  Human  Occlusion  Info  Blur  Pawpularity  \\\n",
       "0          0      1        0      0          0     0     0           63   \n",
       "1          0      0        0      0          0     0     0           42   \n",
       "2          0      0        0      1          1     0     0           28   \n",
       "3          0      0        0      0          0     0     0           15   \n",
       "4          0      1        0      0          0     0     0           72   \n",
       "\n",
       "                                           file_path  \n",
       "0  ../input/petfinder-pawpularity-score/train/000...  \n",
       "1  ../input/petfinder-pawpularity-score/train/000...  \n",
       "2  ../input/petfinder-pawpularity-score/train/001...  \n",
       "3  ../input/petfinder-pawpularity-score/train/001...  \n",
       "4  ../input/petfinder-pawpularity-score/train/001...  "
      ]
     },
     "execution_count": 7,
     "metadata": {},
     "output_type": "execute_result"
    }
   ],
   "source": [
    "train.head()"
   ]
  },
  {
   "cell_type": "code",
   "execution_count": 8,
   "id": "1bf0aa83",
   "metadata": {
    "execution": {
     "iopub.execute_input": "2023-12-03T21:38:56.032723Z",
     "iopub.status.busy": "2023-12-03T21:38:56.032183Z",
     "iopub.status.idle": "2023-12-03T21:38:56.038841Z",
     "shell.execute_reply": "2023-12-03T21:38:56.037944Z"
    },
    "papermill": {
     "duration": 0.018074,
     "end_time": "2023-12-03T21:38:56.040772",
     "exception": false,
     "start_time": "2023-12-03T21:38:56.022698",
     "status": "completed"
    },
    "tags": []
   },
   "outputs": [
    {
     "data": {
      "text/plain": [
       "Index(['Id', 'Subject Focus', 'Eyes', 'Face', 'Near', 'Action', 'Accessory',\n",
       "       'Group', 'Collage', 'Human', 'Occlusion', 'Info', 'Blur', 'Pawpularity',\n",
       "       'file_path'],\n",
       "      dtype='object')"
      ]
     },
     "execution_count": 8,
     "metadata": {},
     "output_type": "execute_result"
    }
   ],
   "source": [
    "train.columns"
   ]
  },
  {
   "cell_type": "markdown",
   "id": "7980d525",
   "metadata": {
    "papermill": {
     "duration": 0.008685,
     "end_time": "2023-12-03T21:38:56.058163",
     "exception": false,
     "start_time": "2023-12-03T21:38:56.049478",
     "status": "completed"
    },
    "tags": []
   },
   "source": [
    "**THE MAIN 12 TABULAR FEATURES THAT WILL BE FED INTO ANN MODEL**"
   ]
  },
  {
   "cell_type": "code",
   "execution_count": 9,
   "id": "b8cd6496",
   "metadata": {
    "execution": {
     "iopub.execute_input": "2023-12-03T21:38:56.077720Z",
     "iopub.status.busy": "2023-12-03T21:38:56.077401Z",
     "iopub.status.idle": "2023-12-03T21:38:56.081768Z",
     "shell.execute_reply": "2023-12-03T21:38:56.080951Z"
    },
    "papermill": {
     "duration": 0.016284,
     "end_time": "2023-12-03T21:38:56.083786",
     "exception": false,
     "start_time": "2023-12-03T21:38:56.067502",
     "status": "completed"
    },
    "tags": []
   },
   "outputs": [],
   "source": [
    "columns = ['Subject Focus', 'Eyes', 'Face', 'Near', 'Action', 'Accessory',\n",
    "       'Group', 'Collage', 'Human', 'Occlusion', 'Info', 'Blur']"
   ]
  },
  {
   "cell_type": "code",
   "execution_count": 10,
   "id": "e162a06b",
   "metadata": {
    "execution": {
     "iopub.execute_input": "2023-12-03T21:38:56.102650Z",
     "iopub.status.busy": "2023-12-03T21:38:56.102360Z",
     "iopub.status.idle": "2023-12-03T21:38:56.106284Z",
     "shell.execute_reply": "2023-12-03T21:38:56.105467Z"
    },
    "papermill": {
     "duration": 0.015361,
     "end_time": "2023-12-03T21:38:56.108104",
     "exception": false,
     "start_time": "2023-12-03T21:38:56.092743",
     "status": "completed"
    },
    "tags": []
   },
   "outputs": [],
   "source": [
    "image_size = 128\n",
    "batch_size =128"
   ]
  },
  {
   "cell_type": "markdown",
   "id": "e1f51eb7",
   "metadata": {
    "papermill": {
     "duration": 0.008533,
     "end_time": "2023-12-03T21:38:56.125395",
     "exception": false,
     "start_time": "2023-12-03T21:38:56.116862",
     "status": "completed"
    },
    "tags": []
   },
   "source": [
    "**THIS FUNCTION DOES THE NECESSARY IMAGE PREPROCESSING BY RESIZING , SCALING ETC.**"
   ]
  },
  {
   "cell_type": "code",
   "execution_count": null,
   "id": "f89a6573",
   "metadata": {
    "execution": {
     "iopub.execute_input": "2023-12-01T03:18:36.245507Z",
     "iopub.status.busy": "2023-12-01T03:18:36.245138Z",
     "iopub.status.idle": "2023-12-01T03:18:36.251499Z",
     "shell.execute_reply": "2023-12-01T03:18:36.250397Z",
     "shell.execute_reply.started": "2023-12-01T03:18:36.245478Z"
    },
    "papermill": {
     "duration": 0.008501,
     "end_time": "2023-12-03T21:38:56.142659",
     "exception": false,
     "start_time": "2023-12-03T21:38:56.134158",
     "status": "completed"
    },
    "tags": []
   },
   "outputs": [],
   "source": []
  },
  {
   "cell_type": "markdown",
   "id": "3d2da489",
   "metadata": {
    "papermill": {
     "duration": 0.008694,
     "end_time": "2023-12-03T21:38:56.160070",
     "exception": false,
     "start_time": "2023-12-03T21:38:56.151376",
     "status": "completed"
    },
    "tags": []
   },
   "source": [
    "**THE FUNCTION FOR CREATING A NEURAL NETWORK FOR TABULAR DATA**"
   ]
  },
  {
   "cell_type": "code",
   "execution_count": 11,
   "id": "157958f3",
   "metadata": {
    "execution": {
     "iopub.execute_input": "2023-12-03T21:38:56.178919Z",
     "iopub.status.busy": "2023-12-03T21:38:56.178610Z",
     "iopub.status.idle": "2023-12-03T21:38:56.184856Z",
     "shell.execute_reply": "2023-12-03T21:38:56.183956Z"
    },
    "papermill": {
     "duration": 0.018119,
     "end_time": "2023-12-03T21:38:56.186725",
     "exception": false,
     "start_time": "2023-12-03T21:38:56.168606",
     "status": "completed"
    },
    "tags": []
   },
   "outputs": [],
   "source": [
    "def build_tabular_model(inputs):\n",
    "   \n",
    "    x = keras.layers.Dense(12, activation='relu')(inputs)\n",
    "    x = keras.layers.Dense(64, activation='relu')(x)\n",
    "    x = keras.layers.Dropout(0.3)(x)\n",
    "    x = keras.layers.BatchNormalization()(x)\n",
    "    x = keras.layers.Dense(128, activation='relu')(x)\n",
    "    x = keras.layers.Dense(64, activation='relu')(x)\n",
    "    x = keras.layers.Concatenate()([x, inputs])\n",
    "    return x"
   ]
  },
  {
   "cell_type": "code",
   "execution_count": 12,
   "id": "b1697260",
   "metadata": {
    "execution": {
     "iopub.execute_input": "2023-12-03T21:38:56.205190Z",
     "iopub.status.busy": "2023-12-03T21:38:56.204881Z",
     "iopub.status.idle": "2023-12-03T21:38:56.210147Z",
     "shell.execute_reply": "2023-12-03T21:38:56.209338Z"
    },
    "papermill": {
     "duration": 0.0166,
     "end_time": "2023-12-03T21:38:56.212065",
     "exception": false,
     "start_time": "2023-12-03T21:38:56.195465",
     "status": "completed"
    },
    "tags": []
   },
   "outputs": [],
   "source": [
    "def block(x, filters, kernel_size, repetitions, pool_size=2, strides=2):\n",
    "    for i in range(repetitions):\n",
    "        x = tf.keras.layers.Conv2D(filters, kernel_size, activation='relu', padding='same')(x)\n",
    "    x = tf.keras.layers.MaxPooling2D(pool_size, strides)(x)\n",
    "    return x"
   ]
  },
  {
   "cell_type": "code",
   "execution_count": 13,
   "id": "53c647b7",
   "metadata": {
    "execution": {
     "iopub.execute_input": "2023-12-03T21:38:56.230821Z",
     "iopub.status.busy": "2023-12-03T21:38:56.230559Z",
     "iopub.status.idle": "2023-12-03T21:38:56.236636Z",
     "shell.execute_reply": "2023-12-03T21:38:56.235765Z"
    },
    "papermill": {
     "duration": 0.017909,
     "end_time": "2023-12-03T21:38:56.238607",
     "exception": false,
     "start_time": "2023-12-03T21:38:56.220698",
     "status": "completed"
    },
    "tags": []
   },
   "outputs": [],
   "source": [
    "import tensorflow as tf\n",
    "from tensorflow import keras\n",
    "\n",
    "def preprocess(image_url, tabular, image_size=224):\n",
    "    # Read and preprocess the image\n",
    "    image_string = tf.io.read_file(image_url)\n",
    "    image = tf.image.decode_jpeg(image_string, channels=3)\n",
    "    image = tf.cast(image, tf.float32) / 255.0  # Normalize the image to [0, 1]\n",
    "    image = tf.image.resize(image, (image_size, image_size))  # Resize the image\n",
    "\n",
    "    # Return the processed image and tabular data (excluding the first element)\n",
    "    return (image, tabular[1:]), tf.cast(tabular[0], tf.float32)"
   ]
  },
  {
   "cell_type": "markdown",
   "id": "6306e996",
   "metadata": {
    "papermill": {
     "duration": 0.008435,
     "end_time": "2023-12-03T21:38:56.255644",
     "exception": false,
     "start_time": "2023-12-03T21:38:56.247209",
     "status": "completed"
    },
    "tags": []
   },
   "source": [
    "**FUNCTION TO CREATE RESNET CNN FOR IMAGE DATA AND CONCATENATING WITH THE OUTPUTS OF TABULAR FEATURES CREATED BY ANN MODEL**"
   ]
  },
  {
   "cell_type": "code",
   "execution_count": 14,
   "id": "a9f30f2e",
   "metadata": {
    "execution": {
     "iopub.execute_input": "2023-12-03T21:38:56.274600Z",
     "iopub.status.busy": "2023-12-03T21:38:56.274245Z",
     "iopub.status.idle": "2023-12-03T21:38:56.283690Z",
     "shell.execute_reply": "2023-12-03T21:38:56.283021Z"
    },
    "papermill": {
     "duration": 0.021365,
     "end_time": "2023-12-03T21:38:56.285682",
     "exception": false,
     "start_time": "2023-12-03T21:38:56.264317",
     "status": "completed"
    },
    "tags": []
   },
   "outputs": [],
   "source": [
    "import os\n",
    "import tensorflow as tf\n",
    "from tensorflow.keras.applications import ResNet50\n",
    "from tensorflow.keras.layers import Dense, GlobalAveragePooling2D, Concatenate, RandomContrast, RandomRotation\n",
    "from tensorflow.keras.models import Model\n",
    "from tensorflow.keras.applications import InceptionV3\n",
    "from tensorflow.keras.applications import EfficientNetB0\n",
    "\n",
    "def get_model(image_size, columns):\n",
    "    image_inputs = tf.keras.Input((image_size, image_size, 3))\n",
    "    tabular_inputs = tf.keras.Input(len(columns))\n",
    "    \n",
    "    #weights_path = '/kaggle/input/resnet50-weights-h5/resnet50_weights_tf_dim_ordering_tf_kernels_notop.h5'\n",
    "    #if os.path.exists(weights_path):\n",
    "     #   resnet = ResNet50(include_top=False, weights=weights_path, pooling=None)\n",
    "    #else:\n",
    "    #print(\"Weights file not found. Using 'imagenet' weights.\")\n",
    "    resnet = tf.keras.applications.EfficientNetB0(include_top=False, weights='imagenet', pooling=None)\n",
    "    image_x = resnet(RandomContrast(factor=0.1)(RandomRotation(factor=0.15)(image_inputs)))\n",
    "    image_x = tf.keras.layers.GlobalAveragePooling2D()(image_x)\n",
    "    \n",
    "    # Assuming build_tabular_model is a function you have defined to handle tabular data\n",
    "    tabular_x = build_tabular_model(tabular_inputs)\n",
    "    \n",
    "    x = tf.keras.layers.Concatenate(axis=1)([image_x, tabular_x])\n",
    "    output = tf.keras.layers.Dense(1)(x)\n",
    "    model = tf.keras.Model(inputs=[image_inputs, tabular_inputs], outputs=[output])\n",
    "    return model"
   ]
  },
  {
   "cell_type": "markdown",
   "id": "0d2853ef",
   "metadata": {
    "papermill": {
     "duration": 0.008699,
     "end_time": "2023-12-03T21:38:56.303248",
     "exception": false,
     "start_time": "2023-12-03T21:38:56.294549",
     "status": "completed"
    },
    "tags": []
   },
   "source": [
    "**A PICTORIAL VIEW OF HOW THE MODEL LOOKS LIKE**"
   ]
  },
  {
   "cell_type": "code",
   "execution_count": 15,
   "id": "df4d3925",
   "metadata": {
    "execution": {
     "iopub.execute_input": "2023-12-03T21:38:56.321800Z",
     "iopub.status.busy": "2023-12-03T21:38:56.321494Z",
     "iopub.status.idle": "2023-12-03T21:39:03.792909Z",
     "shell.execute_reply": "2023-12-03T21:39:03.792080Z"
    },
    "papermill": {
     "duration": 7.483451,
     "end_time": "2023-12-03T21:39:03.795291",
     "exception": false,
     "start_time": "2023-12-03T21:38:56.311840",
     "status": "completed"
    },
    "tags": []
   },
   "outputs": [
    {
     "name": "stdout",
     "output_type": "stream",
     "text": [
      "Downloading data from https://storage.googleapis.com/keras-applications/efficientnetb0_notop.h5\n",
      "16705208/16705208 [==============================] - 1s 0us/step\n"
     ]
    }
   ],
   "source": [
    "image_size = 224\n",
    "model = get_model(image_size, columns)\n",
    "#tf.keras.utils.plot_model(model, show_shapes=True)"
   ]
  },
  {
   "cell_type": "code",
   "execution_count": 16,
   "id": "8f3871a0",
   "metadata": {
    "execution": {
     "iopub.execute_input": "2023-12-03T21:39:03.819553Z",
     "iopub.status.busy": "2023-12-03T21:39:03.819210Z",
     "iopub.status.idle": "2023-12-03T21:39:03.823808Z",
     "shell.execute_reply": "2023-12-03T21:39:03.822836Z"
    },
    "papermill": {
     "duration": 0.019365,
     "end_time": "2023-12-03T21:39:03.825770",
     "exception": false,
     "start_time": "2023-12-03T21:39:03.806405",
     "status": "completed"
    },
    "tags": []
   },
   "outputs": [],
   "source": [
    "def rmse(y_true, y_pred):\n",
    "    return tf.sqrt(tf.reduce_mean((y_true -  y_pred) ** 2))"
   ]
  },
  {
   "cell_type": "code",
   "execution_count": 17,
   "id": "5232c48f",
   "metadata": {
    "execution": {
     "iopub.execute_input": "2023-12-03T21:39:03.849078Z",
     "iopub.status.busy": "2023-12-03T21:39:03.848730Z",
     "iopub.status.idle": "2023-12-03T22:00:19.967923Z",
     "shell.execute_reply": "2023-12-03T22:00:19.967040Z"
    },
    "papermill": {
     "duration": 1276.133715,
     "end_time": "2023-12-03T22:00:19.970449",
     "exception": false,
     "start_time": "2023-12-03T21:39:03.836734",
     "status": "completed"
    },
    "tags": []
   },
   "outputs": [
    {
     "name": "stdout",
     "output_type": "stream",
     "text": [
      "Epoch 1/300\n"
     ]
    },
    {
     "name": "stderr",
     "output_type": "stream",
     "text": [
      "2023-12-03 21:39:24.438883: E tensorflow/core/grappler/optimizers/meta_optimizer.cc:954] layout failed: INVALID_ARGUMENT: Size of values 0 does not match size of permutation 4 @ fanin shape inmodel/efficientnetb0/block2b_drop/dropout/SelectV2-2-TransposeNHWCToNCHW-LayoutOptimizer\n"
     ]
    },
    {
     "name": "stdout",
     "output_type": "stream",
     "text": [
      "62/62 [==============================] - ETA: 0s - loss: 710.2721 - mae: 19.6296 - rmse: 25.7445 - mape: 69.2641"
     ]
    },
    {
     "name": "stderr",
     "output_type": "stream",
     "text": [
      "/opt/conda/lib/python3.10/site-packages/keras/src/engine/training.py:3000: UserWarning: You are saving your model as an HDF5 file via `model.save()`. This file format is considered legacy. We recommend using instead the native Keras format, e.g. `model.save('my_model.keras')`.\n",
      "  saving_api.save_model(\n"
     ]
    },
    {
     "name": "stdout",
     "output_type": "stream",
     "text": [
      "62/62 [==============================] - 112s 969ms/step - loss: 710.2721 - mae: 19.6296 - rmse: 25.7445 - mape: 69.2641 - val_loss: 5008.2378 - val_mae: 67.5779 - val_rmse: 70.7048 - val_mape: 331.2851 - lr: 0.0010\n",
      "Epoch 2/300\n",
      "62/62 [==============================] - 52s 835ms/step - loss: 393.1973 - mae: 14.8057 - rmse: 19.7499 - mape: 76.7154 - val_loss: 446.4884 - val_mae: 15.2642 - val_rmse: 21.0637 - val_mape: 71.4899 - lr: 0.0010\n",
      "Epoch 3/300\n",
      "62/62 [==============================] - 51s 826ms/step - loss: 365.9527 - mae: 14.2573 - rmse: 19.0588 - mape: 74.4698 - val_loss: 822.6448 - val_mae: 21.1053 - val_rmse: 28.6396 - val_mape: 58.2639 - lr: 0.0010\n",
      "Epoch 4/300\n",
      "62/62 [==============================] - 51s 823ms/step - loss: 353.1248 - mae: 14.0141 - rmse: 18.7349 - mape: 73.1011 - val_loss: 725.6287 - val_mae: 19.2068 - val_rmse: 26.8872 - val_mape: 56.5659 - lr: 0.0010\n",
      "Epoch 5/300\n",
      "62/62 [==============================] - 51s 822ms/step - loss: 309.8212 - mae: 12.9869 - rmse: 17.5453 - mape: 69.4222 - val_loss: 1455.4771 - val_mae: 31.9123 - val_rmse: 38.1349 - val_mape: 80.6955 - lr: 3.0000e-04\n",
      "Epoch 6/300\n",
      "62/62 [==============================] - 51s 823ms/step - loss: 291.8287 - mae: 12.7157 - rmse: 17.0312 - mape: 67.7859 - val_loss: 791.5422 - val_mae: 20.3826 - val_rmse: 28.0870 - val_mape: 58.6114 - lr: 3.0000e-04\n",
      "Epoch 7/300\n",
      "62/62 [==============================] - 51s 828ms/step - loss: 260.8979 - mae: 12.0332 - rmse: 16.0917 - mape: 63.9601 - val_loss: 512.6763 - val_mae: 15.4226 - val_rmse: 22.5784 - val_mape: 60.5919 - lr: 9.0000e-05\n",
      "Epoch 8/300\n",
      "62/62 [==============================] - 51s 824ms/step - loss: 254.7265 - mae: 11.8602 - rmse: 15.9108 - mape: 63.4859 - val_loss: 507.9751 - val_mae: 15.3900 - val_rmse: 22.4770 - val_mape: 60.7284 - lr: 9.0000e-05\n",
      "Epoch 9/300\n",
      "62/62 [==============================] - 51s 823ms/step - loss: 243.6476 - mae: 11.6179 - rmse: 15.5524 - mape: 62.1317 - val_loss: 461.7643 - val_mae: 15.0911 - val_rmse: 21.4344 - val_mape: 66.6737 - lr: 2.7000e-05\n",
      "Epoch 10/300\n",
      "62/62 [==============================] - 51s 828ms/step - loss: 243.8195 - mae: 11.6158 - rmse: 15.5519 - mape: 61.9075 - val_loss: 448.2042 - val_mae: 15.0775 - val_rmse: 21.1343 - val_mape: 69.0570 - lr: 2.7000e-05\n",
      "Epoch 11/300\n",
      "62/62 [==============================] - 52s 835ms/step - loss: 240.3318 - mae: 11.5030 - rmse: 15.4447 - mape: 61.4639 - val_loss: 421.5070 - val_mae: 14.7917 - val_rmse: 20.4826 - val_mape: 68.6072 - lr: 8.1000e-06\n",
      "Epoch 12/300\n",
      "62/62 [==============================] - 52s 841ms/step - loss: 232.9032 - mae: 11.3797 - rmse: 15.2118 - mape: 61.2589 - val_loss: 394.9864 - val_mae: 14.7060 - val_rmse: 19.7693 - val_mape: 73.6913 - lr: 8.1000e-06\n",
      "Epoch 13/300\n",
      "62/62 [==============================] - 52s 836ms/step - loss: 230.9253 - mae: 11.3758 - rmse: 15.1426 - mape: 60.8321 - val_loss: 394.2490 - val_mae: 14.5892 - val_rmse: 19.7239 - val_mape: 71.9086 - lr: 8.1000e-06\n",
      "Epoch 14/300\n",
      "62/62 [==============================] - 51s 829ms/step - loss: 233.4114 - mae: 11.4039 - rmse: 15.2271 - mape: 60.5273 - val_loss: 397.6534 - val_mae: 14.5482 - val_rmse: 19.7872 - val_mape: 70.6932 - lr: 8.1000e-06\n",
      "Epoch 15/300\n",
      "62/62 [==============================] - 51s 827ms/step - loss: 233.1762 - mae: 11.3926 - rmse: 15.2073 - mape: 60.2967 - val_loss: 399.6806 - val_mae: 14.5229 - val_rmse: 19.8431 - val_mape: 70.4036 - lr: 8.1000e-06\n",
      "Epoch 16/300\n",
      "62/62 [==============================] - 51s 828ms/step - loss: 226.6984 - mae: 11.2391 - rmse: 14.9984 - mape: 59.9398 - val_loss: 399.0815 - val_mae: 14.5269 - val_rmse: 19.8166 - val_mape: 70.8975 - lr: 2.4300e-06\n",
      "Epoch 17/300\n",
      "62/62 [==============================] - 51s 825ms/step - loss: 229.1099 - mae: 11.3244 - rmse: 15.0909 - mape: 60.4404 - val_loss: 397.9172 - val_mae: 14.4698 - val_rmse: 19.8072 - val_mape: 69.8746 - lr: 2.4300e-06\n",
      "Epoch 18/300\n",
      "62/62 [==============================] - 51s 829ms/step - loss: 237.4028 - mae: 11.4680 - rmse: 15.3563 - mape: 60.8172 - val_loss: 397.3573 - val_mae: 14.4577 - val_rmse: 19.7967 - val_mape: 69.6826 - lr: 7.2900e-07\n",
      "Epoch 19/300\n",
      "62/62 [==============================] - 51s 828ms/step - loss: 232.3036 - mae: 11.3384 - rmse: 15.1809 - mape: 60.5469 - val_loss: 396.4956 - val_mae: 14.4546 - val_rmse: 19.7816 - val_mape: 69.6227 - lr: 7.2900e-07\n",
      "Epoch 20/300\n",
      "62/62 [==============================] - 51s 824ms/step - loss: 233.0140 - mae: 11.4057 - rmse: 15.2127 - mape: 60.6459 - val_loss: 396.2849 - val_mae: 14.4452 - val_rmse: 19.7787 - val_mape: 69.3597 - lr: 2.1870e-07\n",
      "Epoch 21/300\n",
      "62/62 [==============================] - 51s 828ms/step - loss: 230.7181 - mae: 11.3775 - rmse: 15.1333 - mape: 60.9656 - val_loss: 396.0131 - val_mae: 14.4432 - val_rmse: 19.7744 - val_mape: 69.3046 - lr: 2.1870e-07\n",
      "Epoch 22/300\n",
      "62/62 [==============================] - 51s 825ms/step - loss: 226.5850 - mae: 11.2466 - rmse: 14.9995 - mape: 60.1153 - val_loss: 395.8505 - val_mae: 14.4360 - val_rmse: 19.7714 - val_mape: 69.1755 - lr: 1.0000e-07\n",
      "Epoch 23/300\n",
      "62/62 [==============================] - 51s 827ms/step - loss: 229.8086 - mae: 11.3232 - rmse: 15.0919 - mape: 60.0426 - val_loss: 395.9789 - val_mae: 14.4388 - val_rmse: 19.7751 - val_mape: 69.1982 - lr: 1.0000e-07\n"
     ]
    },
    {
     "data": {
      "image/png": "[encoded data removed]",
      "text/plain": [
       "<Figure size 640x480 with 1 Axes>"
      ]
     },
     "metadata": {},
     "output_type": "display_data"
    },
    {
     "data": {
      "image/png": "[encoded data removed]",
      "text/plain": [
       "<Figure size 640x480 with 1 Axes>"
      ]
     },
     "metadata": {},
     "output_type": "display_data"
    },
    {
     "data": {
      "image/png": "[encoded data removed]",
      "text/plain": [
       "<Figure size 640x480 with 1 Axes>"
      ]
     },
     "metadata": {},
     "output_type": "display_data"
    },
    {
     "data": {
      "image/png": "[encoded data removed]",
      "text/plain": [
       "<Figure size 640x480 with 1 Axes>"
      ]
     },
     "metadata": {},
     "output_type": "display_data"
    }
   ],
   "source": [
    "tf.keras.backend.clear_session()\n",
    "models = []\n",
    "historys = []\n",
    "kfold = KFold(n_splits=5, shuffle=True, random_state=42)\n",
    "train_best_fold = True\n",
    "best_fold = 0\n",
    "for index, (train_indices, val_indices) in enumerate(kfold.split(train)):\n",
    "    if train_best_fold and index != best_fold: continue\n",
    "    x_train = train.loc[train_indices, \"file_path\"]\n",
    "    tabular_train = train.loc[train_indices, [\"Pawpularity\"] + columns]\n",
    "    x_val= train.loc[val_indices, \"file_path\"]\n",
    "    tabular_val = train.loc[val_indices, [\"Pawpularity\"] + columns]\n",
    "    checkpoint_path = \"model_%d.h5\"%(index)\n",
    "    checkpoint = tf.keras.callbacks.ModelCheckpoint(checkpoint_path, save_best_only=True)\n",
    "    early_stop = tf.keras.callbacks.EarlyStopping(min_delta=1e-4, patience=10)\n",
    "    reduce_lr = tf.keras.callbacks.ReduceLROnPlateau(factor=0.3,patience=2, min_lr=1e-7)\n",
    "    callbacks = [early_stop, checkpoint, reduce_lr]    \n",
    "    optimizer = tf.keras.optimizers.Adam(1e-3)\n",
    "    train_ds = tf.data.Dataset.from_tensor_slices((x_train, tabular_train)).map(preprocess).shuffle(512).batch(batch_size).cache().prefetch(2)\n",
    "    val_ds = tf.data.Dataset.from_tensor_slices((x_val, tabular_val)).map(preprocess).batch(batch_size).cache().prefetch(2)\n",
    "    model = get_model(image_size, columns)\n",
    "    model.compile(loss = \"mse\", optimizer = optimizer, metrics = [\"mae\", rmse, \"mape\"])\n",
    "    history = model.fit(train_ds, epochs=300, validation_data=val_ds, callbacks=callbacks, batch_size = 8)\n",
    "    for metrics in [(\"loss\", \"val_loss\"), (\"mae\", \"val_mae\"), (\"mape\", \"val_mape\"), [\"rmse\", \"val_rmse\"]]:\n",
    "        pd.DataFrame(history.history, columns=metrics).plot()\n",
    "        plt.show()\n",
    "    model.load_weights(checkpoint_path)\n",
    "    historys.append(history)\n",
    "    models.append(model)"
   ]
  },
  {
   "cell_type": "code",
   "execution_count": 18,
   "id": "22d1055a",
   "metadata": {
    "execution": {
     "iopub.execute_input": "2023-12-03T22:00:20.247585Z",
     "iopub.status.busy": "2023-12-03T22:00:20.246827Z",
     "iopub.status.idle": "2023-12-03T22:00:20.252980Z",
     "shell.execute_reply": "2023-12-03T22:00:20.252039Z"
    },
    "papermill": {
     "duration": 0.145545,
     "end_time": "2023-12-03T22:00:20.255058",
     "exception": false,
     "start_time": "2023-12-03T22:00:20.109513",
     "status": "completed"
    },
    "tags": []
   },
   "outputs": [],
   "source": [
    "def preprocess_test_data(image_url, tabular):\n",
    "    print(image_url, tabular)\n",
    "    image_string = tf.io.read_file(image_url)\n",
    "    image = tf.image.decode_jpeg(image_string, channels=3)\n",
    "    image = tf.cast(image, tf.float32) / 255.0\n",
    "    image = tf.image.central_crop(image, 1.0)\n",
    "    image = tf.image.resize(image, (image_size, image_size))\n",
    "    # 0 won't be used in prediction, but it's needed in this senario or the tabular variable is treated as label.\n",
    "    return (image, tabular), 0"
   ]
  },
  {
   "cell_type": "code",
   "execution_count": 19,
   "id": "91835b7e",
   "metadata": {
    "execution": {
     "iopub.execute_input": "2023-12-03T22:00:20.530440Z",
     "iopub.status.busy": "2023-12-03T22:00:20.529587Z",
     "iopub.status.idle": "2023-12-03T22:00:20.646115Z",
     "shell.execute_reply": "2023-12-03T22:00:20.645133Z"
    },
    "papermill": {
     "duration": 0.256299,
     "end_time": "2023-12-03T22:00:20.648449",
     "exception": false,
     "start_time": "2023-12-03T22:00:20.392150",
     "status": "completed"
    },
    "tags": []
   },
   "outputs": [
    {
     "name": "stdout",
     "output_type": "stream",
     "text": [
      "Tensor(\"args_0:0\", shape=(), dtype=string) Tensor(\"args_1:0\", shape=(12,), dtype=int64)\n"
     ]
    }
   ],
   "source": [
    "test_ds = tf.data.Dataset.from_tensor_slices((test[\"file_path\"], test[columns])).map(preprocess_test_data).batch(batch_size).cache().prefetch(2)"
   ]
  },
  {
   "cell_type": "code",
   "execution_count": 20,
   "id": "b1550bd6",
   "metadata": {
    "execution": {
     "iopub.execute_input": "2023-12-03T22:00:20.916083Z",
     "iopub.status.busy": "2023-12-03T22:00:20.915218Z",
     "iopub.status.idle": "2023-12-03T22:00:23.061277Z",
     "shell.execute_reply": "2023-12-03T22:00:23.060174Z"
    },
    "papermill": {
     "duration": 2.280228,
     "end_time": "2023-12-03T22:00:23.063844",
     "exception": false,
     "start_time": "2023-12-03T22:00:20.783616",
     "status": "completed"
    },
    "tags": []
   },
   "outputs": [
    {
     "name": "stdout",
     "output_type": "stream",
     "text": [
      "1/1 [==============================] - 2s 2s/step\n"
     ]
    }
   ],
   "source": [
    "use_best_result = False\n",
    "if use_best_result:\n",
    "    if train_best_fold:\n",
    "        best_model = models[0]\n",
    "    else:\n",
    "        best_fold = 0\n",
    "        best_score = 10e8\n",
    "        for fold, history in enumerate(historys):\n",
    "            for val_rmse in history.history[\"val_rmse\"]:\n",
    "                if val_rmse < best_score:\n",
    "                    best_score = val_rmse\n",
    "                    best_fold = fold\n",
    "        print(\"Best Score:%.2f Best Fold: %d\"%(best_score, best_fold + 1))\n",
    "        best_model = models[best_fold]\n",
    "    results = best_model.predict(test_ds).reshape(-1)\n",
    "else:\n",
    "    total_results = []\n",
    "    for model in models:\n",
    "        total_results.append(model.predict(test_ds).reshape(-1))\n",
    "    results = np.mean(total_results, axis=0).reshape(-1)\n",
    "sample_submission[\"Pawpularity\"] = results\n",
    "sample_submission.to_csv(\"submission.csv\", index=False)"
   ]
  },
  {
   "cell_type": "code",
   "execution_count": null,
   "id": "11f6d6a2",
   "metadata": {
    "papermill": {
     "duration": 0.131605,
     "end_time": "2023-12-03T22:00:23.400281",
     "exception": false,
     "start_time": "2023-12-03T22:00:23.268676",
     "status": "completed"
    },
    "tags": []
   },
   "outputs": [],
   "source": []
  },
  {
   "cell_type": "code",
   "execution_count": null,
   "id": "02ef671d",
   "metadata": {
    "papermill": {
     "duration": 0.132759,
     "end_time": "2023-12-03T22:00:23.666147",
     "exception": false,
     "start_time": "2023-12-03T22:00:23.533388",
     "status": "completed"
    },
    "tags": []
   },
   "outputs": [],
   "source": []
  }
 ],
 "metadata": {
  "kaggle": {
   "accelerator": "gpu",
   "dataSources": [
    {
     "databundleVersionId": 2684322,
     "sourceId": 25383,
     "sourceType": "competition"
    },
    {
     "datasetId": 4088811,
     "sourceId": 7094808,
     "sourceType": "datasetVersion"
    }
   ],
   "dockerImageVersionId": 30588,
   "isGpuEnabled": true,
   "isInternetEnabled": true,
   "language": "python",
   "sourceType": "notebook"
  },
  "kernelspec": {
   "display_name": "Python 3",
   "language": "python",
   "name": "python3"
  },
  "language_info": {
   "codemirror_mode": {
    "name": "ipython",
    "version": 3
   },
   "file_extension": ".py",
   "mimetype": "text/x-python",
   "name": "python",
   "nbconvert_exporter": "python",
   "pygments_lexer": "ipython3",
   "version": "3.10.12"
  },
  "papermill": {
   "default_parameters": {},
   "duration": 1308.134708,
   "end_time": "2023-12-03T22:00:27.704690",
   "environment_variables": {},
   "exception": null,
   "input_path": "__notebook__.ipynb",
   "output_path": "__notebook__.ipynb",
   "parameters": {},
   "start_time": "2023-12-03T21:38:39.569982",
   "version": "2.3.3"
  }
 },
 "nbformat": 4,
 "nbformat_minor": 5
}
