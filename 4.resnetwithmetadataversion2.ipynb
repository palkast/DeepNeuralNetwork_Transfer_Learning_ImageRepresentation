{
 "cells": [
  {
   "cell_type": "code",
   "execution_count": 1,
   "id": "09fae15b",
   "metadata": {
    "_cell_guid": "b1076dfc-b9ad-4769-8c92-a6c4dae69d19",
    "_uuid": "8f2839f25d086af736a60e9eeb907d3b93b6e0e5",
    "execution": {
     "iopub.execute_input": "2023-12-01T04:52:45.550603Z",
     "iopub.status.busy": "2023-12-01T04:52:45.549852Z",
     "iopub.status.idle": "2023-12-01T04:52:46.191902Z",
     "shell.execute_reply": "2023-12-01T04:52:46.191066Z"
    },
    "papermill": {
     "duration": 0.65416,
     "end_time": "2023-12-01T04:52:46.194272",
     "exception": false,
     "start_time": "2023-12-01T04:52:45.540112",
     "status": "completed"
    },
    "tags": []
   },
   "outputs": [],
   "source": [
    "\n",
    "\n",
    "import numpy as np # linear algebra\n",
    "import pandas as pd # data processing, CSV file I/O (e.g. pd.read_csv)\n"
   ]
  },
  {
   "cell_type": "markdown",
   "id": "ff72bef7",
   "metadata": {
    "papermill": {
     "duration": 0.008127,
     "end_time": "2023-12-01T04:52:46.210700",
     "exception": false,
     "start_time": "2023-12-01T04:52:46.202573",
     "status": "completed"
    },
    "tags": []
   },
   "source": [
    "**IMPORTING IMPORTANT LIBRARIES**"
   ]
  },
  {
   "cell_type": "code",
   "execution_count": 2,
   "id": "d3b42ee1",
   "metadata": {
    "execution": {
     "iopub.execute_input": "2023-12-01T04:52:46.227320Z",
     "iopub.status.busy": "2023-12-01T04:52:46.226929Z",
     "iopub.status.idle": "2023-12-01T04:52:57.749222Z",
     "shell.execute_reply": "2023-12-01T04:52:57.748167Z"
    },
    "papermill": {
     "duration": 11.534022,
     "end_time": "2023-12-01T04:52:57.752313",
     "exception": false,
     "start_time": "2023-12-01T04:52:46.218291",
     "status": "completed"
    },
    "tags": []
   },
   "outputs": [
    {
     "name": "stderr",
     "output_type": "stream",
     "text": [
      "/opt/conda/lib/python3.10/site-packages/scipy/__init__.py:146: UserWarning: A NumPy version >=1.16.5 and <1.23.0 is required for this version of SciPy (detected version 1.24.3\n",
      "  warnings.warn(f\"A NumPy version >={np_minversion} and <{np_maxversion}\"\n"
     ]
    }
   ],
   "source": [
    "import sklearn\n",
    "import numpy as np\n",
    "import pandas as pd\n",
    "import tensorflow as tf\n",
    "from tensorflow import keras\n",
    "import matplotlib.pyplot as plt\n",
    "from tensorflow.keras.applications.resnet50 import ResNet50\n",
    "from sklearn.model_selection import KFold\n",
    "from tensorflow.keras.layers.experimental.preprocessing import RandomRotation, RandomContrast\n"
   ]
  },
  {
   "cell_type": "markdown",
   "id": "f8723287",
   "metadata": {
    "papermill": {
     "duration": 0.008626,
     "end_time": "2023-12-01T04:52:57.772966",
     "exception": false,
     "start_time": "2023-12-01T04:52:57.764340",
     "status": "completed"
    },
    "tags": []
   },
   "source": [
    "**DATA PREPROCESSING**"
   ]
  },
  {
   "cell_type": "code",
   "execution_count": 3,
   "id": "a3f4c446",
   "metadata": {
    "execution": {
     "iopub.execute_input": "2023-12-01T04:52:57.790984Z",
     "iopub.status.busy": "2023-12-01T04:52:57.790282Z",
     "iopub.status.idle": "2023-12-01T04:52:57.849642Z",
     "shell.execute_reply": "2023-12-01T04:52:57.848429Z"
    },
    "papermill": {
     "duration": 0.071604,
     "end_time": "2023-12-01T04:52:57.852786",
     "exception": false,
     "start_time": "2023-12-01T04:52:57.781182",
     "status": "completed"
    },
    "tags": []
   },
   "outputs": [],
   "source": [
    "train = pd.read_csv(\"../input/petfinder-pawpularity-score/train.csv\")\n",
    "test = pd.read_csv(\"../input/petfinder-pawpularity-score/test.csv\")\n",
    "sample_submission = pd.read_csv(\"../input/petfinder-pawpularity-score/sample_submission.csv\")"
   ]
  },
  {
   "cell_type": "code",
   "execution_count": 4,
   "id": "811401bc",
   "metadata": {
    "execution": {
     "iopub.execute_input": "2023-12-01T04:52:57.873275Z",
     "iopub.status.busy": "2023-12-01T04:52:57.872273Z",
     "iopub.status.idle": "2023-12-01T04:52:57.893678Z",
     "shell.execute_reply": "2023-12-01T04:52:57.892706Z"
    },
    "papermill": {
     "duration": 0.033537,
     "end_time": "2023-12-01T04:52:57.895973",
     "exception": false,
     "start_time": "2023-12-01T04:52:57.862436",
     "status": "completed"
    },
    "tags": []
   },
   "outputs": [
    {
     "data": {
      "text/html": [
       "<div>\n",
       "<style scoped>\n",
       "    .dataframe tbody tr th:only-of-type {\n",
       "        vertical-align: middle;\n",
       "    }\n",
       "\n",
       "    .dataframe tbody tr th {\n",
       "        vertical-align: top;\n",
       "    }\n",
       "\n",
       "    .dataframe thead th {\n",
       "        text-align: right;\n",
       "    }\n",
       "</style>\n",
       "<table border=\"1\" class=\"dataframe\">\n",
       "  <thead>\n",
       "    <tr style=\"text-align: right;\">\n",
       "      <th></th>\n",
       "      <th>Id</th>\n",
       "      <th>Subject Focus</th>\n",
       "      <th>Eyes</th>\n",
       "      <th>Face</th>\n",
       "      <th>Near</th>\n",
       "      <th>Action</th>\n",
       "      <th>Accessory</th>\n",
       "      <th>Group</th>\n",
       "      <th>Collage</th>\n",
       "      <th>Human</th>\n",
       "      <th>Occlusion</th>\n",
       "      <th>Info</th>\n",
       "      <th>Blur</th>\n",
       "      <th>Pawpularity</th>\n",
       "    </tr>\n",
       "  </thead>\n",
       "  <tbody>\n",
       "    <tr>\n",
       "      <th>0</th>\n",
       "      <td>0007de18844b0dbbb5e1f607da0606e0</td>\n",
       "      <td>0</td>\n",
       "      <td>1</td>\n",
       "      <td>1</td>\n",
       "      <td>1</td>\n",
       "      <td>0</td>\n",
       "      <td>0</td>\n",
       "      <td>1</td>\n",
       "      <td>0</td>\n",
       "      <td>0</td>\n",
       "      <td>0</td>\n",
       "      <td>0</td>\n",
       "      <td>0</td>\n",
       "      <td>63</td>\n",
       "    </tr>\n",
       "    <tr>\n",
       "      <th>1</th>\n",
       "      <td>0009c66b9439883ba2750fb825e1d7db</td>\n",
       "      <td>0</td>\n",
       "      <td>1</td>\n",
       "      <td>1</td>\n",
       "      <td>0</td>\n",
       "      <td>0</td>\n",
       "      <td>0</td>\n",
       "      <td>0</td>\n",
       "      <td>0</td>\n",
       "      <td>0</td>\n",
       "      <td>0</td>\n",
       "      <td>0</td>\n",
       "      <td>0</td>\n",
       "      <td>42</td>\n",
       "    </tr>\n",
       "    <tr>\n",
       "      <th>2</th>\n",
       "      <td>0013fd999caf9a3efe1352ca1b0d937e</td>\n",
       "      <td>0</td>\n",
       "      <td>1</td>\n",
       "      <td>1</td>\n",
       "      <td>1</td>\n",
       "      <td>0</td>\n",
       "      <td>0</td>\n",
       "      <td>0</td>\n",
       "      <td>0</td>\n",
       "      <td>1</td>\n",
       "      <td>1</td>\n",
       "      <td>0</td>\n",
       "      <td>0</td>\n",
       "      <td>28</td>\n",
       "    </tr>\n",
       "    <tr>\n",
       "      <th>3</th>\n",
       "      <td>0018df346ac9c1d8413cfcc888ca8246</td>\n",
       "      <td>0</td>\n",
       "      <td>1</td>\n",
       "      <td>1</td>\n",
       "      <td>1</td>\n",
       "      <td>0</td>\n",
       "      <td>0</td>\n",
       "      <td>0</td>\n",
       "      <td>0</td>\n",
       "      <td>0</td>\n",
       "      <td>0</td>\n",
       "      <td>0</td>\n",
       "      <td>0</td>\n",
       "      <td>15</td>\n",
       "    </tr>\n",
       "    <tr>\n",
       "      <th>4</th>\n",
       "      <td>001dc955e10590d3ca4673f034feeef2</td>\n",
       "      <td>0</td>\n",
       "      <td>0</td>\n",
       "      <td>0</td>\n",
       "      <td>1</td>\n",
       "      <td>0</td>\n",
       "      <td>0</td>\n",
       "      <td>1</td>\n",
       "      <td>0</td>\n",
       "      <td>0</td>\n",
       "      <td>0</td>\n",
       "      <td>0</td>\n",
       "      <td>0</td>\n",
       "      <td>72</td>\n",
       "    </tr>\n",
       "  </tbody>\n",
       "</table>\n",
       "</div>"
      ],
      "text/plain": [
       "                                 Id  Subject Focus  Eyes  Face  Near  Action  \\\n",
       "0  0007de18844b0dbbb5e1f607da0606e0              0     1     1     1       0   \n",
       "1  0009c66b9439883ba2750fb825e1d7db              0     1     1     0       0   \n",
       "2  0013fd999caf9a3efe1352ca1b0d937e              0     1     1     1       0   \n",
       "3  0018df346ac9c1d8413cfcc888ca8246              0     1     1     1       0   \n",
       "4  001dc955e10590d3ca4673f034feeef2              0     0     0     1       0   \n",
       "\n",
       "   Accessory  Group  Collage  Human  Occlusion  Info  Blur  Pawpularity  \n",
       "0          0      1        0      0          0     0     0           63  \n",
       "1          0      0        0      0          0     0     0           42  \n",
       "2          0      0        0      1          1     0     0           28  \n",
       "3          0      0        0      0          0     0     0           15  \n",
       "4          0      1        0      0          0     0     0           72  "
      ]
     },
     "execution_count": 4,
     "metadata": {},
     "output_type": "execute_result"
    }
   ],
   "source": [
    "train.head()"
   ]
  },
  {
   "cell_type": "code",
   "execution_count": 5,
   "id": "878de628",
   "metadata": {
    "execution": {
     "iopub.execute_input": "2023-12-01T04:52:57.914726Z",
     "iopub.status.busy": "2023-12-01T04:52:57.913979Z",
     "iopub.status.idle": "2023-12-01T04:52:57.929944Z",
     "shell.execute_reply": "2023-12-01T04:52:57.928908Z"
    },
    "papermill": {
     "duration": 0.027185,
     "end_time": "2023-12-01T04:52:57.932001",
     "exception": false,
     "start_time": "2023-12-01T04:52:57.904816",
     "status": "completed"
    },
    "tags": []
   },
   "outputs": [
    {
     "data": {
      "text/html": [
       "<div>\n",
       "<style scoped>\n",
       "    .dataframe tbody tr th:only-of-type {\n",
       "        vertical-align: middle;\n",
       "    }\n",
       "\n",
       "    .dataframe tbody tr th {\n",
       "        vertical-align: top;\n",
       "    }\n",
       "\n",
       "    .dataframe thead th {\n",
       "        text-align: right;\n",
       "    }\n",
       "</style>\n",
       "<table border=\"1\" class=\"dataframe\">\n",
       "  <thead>\n",
       "    <tr style=\"text-align: right;\">\n",
       "      <th></th>\n",
       "      <th>Id</th>\n",
       "      <th>Subject Focus</th>\n",
       "      <th>Eyes</th>\n",
       "      <th>Face</th>\n",
       "      <th>Near</th>\n",
       "      <th>Action</th>\n",
       "      <th>Accessory</th>\n",
       "      <th>Group</th>\n",
       "      <th>Collage</th>\n",
       "      <th>Human</th>\n",
       "      <th>Occlusion</th>\n",
       "      <th>Info</th>\n",
       "      <th>Blur</th>\n",
       "    </tr>\n",
       "  </thead>\n",
       "  <tbody>\n",
       "    <tr>\n",
       "      <th>0</th>\n",
       "      <td>4128bae22183829d2b5fea10effdb0c3</td>\n",
       "      <td>1</td>\n",
       "      <td>0</td>\n",
       "      <td>1</td>\n",
       "      <td>0</td>\n",
       "      <td>0</td>\n",
       "      <td>1</td>\n",
       "      <td>1</td>\n",
       "      <td>0</td>\n",
       "      <td>0</td>\n",
       "      <td>1</td>\n",
       "      <td>0</td>\n",
       "      <td>1</td>\n",
       "    </tr>\n",
       "    <tr>\n",
       "      <th>1</th>\n",
       "      <td>43a2262d7738e3d420d453815151079e</td>\n",
       "      <td>0</td>\n",
       "      <td>1</td>\n",
       "      <td>0</td>\n",
       "      <td>0</td>\n",
       "      <td>0</td>\n",
       "      <td>0</td>\n",
       "      <td>1</td>\n",
       "      <td>1</td>\n",
       "      <td>0</td>\n",
       "      <td>0</td>\n",
       "      <td>0</td>\n",
       "      <td>0</td>\n",
       "    </tr>\n",
       "    <tr>\n",
       "      <th>2</th>\n",
       "      <td>4e429cead1848a298432a0acad014c9d</td>\n",
       "      <td>0</td>\n",
       "      <td>0</td>\n",
       "      <td>0</td>\n",
       "      <td>1</td>\n",
       "      <td>0</td>\n",
       "      <td>1</td>\n",
       "      <td>1</td>\n",
       "      <td>1</td>\n",
       "      <td>0</td>\n",
       "      <td>1</td>\n",
       "      <td>1</td>\n",
       "      <td>1</td>\n",
       "    </tr>\n",
       "    <tr>\n",
       "      <th>3</th>\n",
       "      <td>80bc3ccafcc51b66303c2c263aa38486</td>\n",
       "      <td>1</td>\n",
       "      <td>0</td>\n",
       "      <td>1</td>\n",
       "      <td>0</td>\n",
       "      <td>0</td>\n",
       "      <td>0</td>\n",
       "      <td>0</td>\n",
       "      <td>0</td>\n",
       "      <td>0</td>\n",
       "      <td>0</td>\n",
       "      <td>1</td>\n",
       "      <td>0</td>\n",
       "    </tr>\n",
       "    <tr>\n",
       "      <th>4</th>\n",
       "      <td>8f49844c382931444e68dffbe20228f4</td>\n",
       "      <td>1</td>\n",
       "      <td>1</td>\n",
       "      <td>1</td>\n",
       "      <td>0</td>\n",
       "      <td>1</td>\n",
       "      <td>1</td>\n",
       "      <td>0</td>\n",
       "      <td>1</td>\n",
       "      <td>0</td>\n",
       "      <td>1</td>\n",
       "      <td>1</td>\n",
       "      <td>0</td>\n",
       "    </tr>\n",
       "  </tbody>\n",
       "</table>\n",
       "</div>"
      ],
      "text/plain": [
       "                                 Id  Subject Focus  Eyes  Face  Near  Action  \\\n",
       "0  4128bae22183829d2b5fea10effdb0c3              1     0     1     0       0   \n",
       "1  43a2262d7738e3d420d453815151079e              0     1     0     0       0   \n",
       "2  4e429cead1848a298432a0acad014c9d              0     0     0     1       0   \n",
       "3  80bc3ccafcc51b66303c2c263aa38486              1     0     1     0       0   \n",
       "4  8f49844c382931444e68dffbe20228f4              1     1     1     0       1   \n",
       "\n",
       "   Accessory  Group  Collage  Human  Occlusion  Info  Blur  \n",
       "0          1      1        0      0          1     0     1  \n",
       "1          0      1        1      0          0     0     0  \n",
       "2          1      1        1      0          1     1     1  \n",
       "3          0      0        0      0          0     1     0  \n",
       "4          1      0        1      0          1     1     0  "
      ]
     },
     "execution_count": 5,
     "metadata": {},
     "output_type": "execute_result"
    }
   ],
   "source": [
    "test.head()"
   ]
  },
  {
   "cell_type": "markdown",
   "id": "24f10898",
   "metadata": {
    "papermill": {
     "duration": 0.008374,
     "end_time": "2023-12-01T04:52:57.948810",
     "exception": false,
     "start_time": "2023-12-01T04:52:57.940436",
     "status": "completed"
    },
    "tags": []
   },
   "source": [
    "**USING LAMBDA APPLY FUNCTION TO ADD IMAGE PATH IN THE TABLE CORRESPONDING TO UNIQUE IMAGE ID**"
   ]
  },
  {
   "cell_type": "code",
   "execution_count": 6,
   "id": "cdc6c4a2",
   "metadata": {
    "execution": {
     "iopub.execute_input": "2023-12-01T04:52:57.967648Z",
     "iopub.status.busy": "2023-12-01T04:52:57.966810Z",
     "iopub.status.idle": "2023-12-01T04:52:57.982058Z",
     "shell.execute_reply": "2023-12-01T04:52:57.981123Z"
    },
    "papermill": {
     "duration": 0.027071,
     "end_time": "2023-12-01T04:52:57.984228",
     "exception": false,
     "start_time": "2023-12-01T04:52:57.957157",
     "status": "completed"
    },
    "tags": []
   },
   "outputs": [],
   "source": [
    "train[\"file_path\"] = train[\"Id\"].apply(lambda identifier: \"../input/petfinder-pawpularity-score/train/\" + identifier + \".jpg\")\n",
    "test[\"file_path\"] = test[\"Id\"].apply(lambda identifier: \"../input/petfinder-pawpularity-score/test/\" + identifier + \".jpg\")"
   ]
  },
  {
   "cell_type": "code",
   "execution_count": 7,
   "id": "4e07a217",
   "metadata": {
    "execution": {
     "iopub.execute_input": "2023-12-01T04:52:58.002482Z",
     "iopub.status.busy": "2023-12-01T04:52:58.002180Z",
     "iopub.status.idle": "2023-12-01T04:52:58.016359Z",
     "shell.execute_reply": "2023-12-01T04:52:58.015462Z"
    },
    "papermill": {
     "duration": 0.026059,
     "end_time": "2023-12-01T04:52:58.018878",
     "exception": false,
     "start_time": "2023-12-01T04:52:57.992819",
     "status": "completed"
    },
    "tags": []
   },
   "outputs": [
    {
     "data": {
      "text/html": [
       "<div>\n",
       "<style scoped>\n",
       "    .dataframe tbody tr th:only-of-type {\n",
       "        vertical-align: middle;\n",
       "    }\n",
       "\n",
       "    .dataframe tbody tr th {\n",
       "        vertical-align: top;\n",
       "    }\n",
       "\n",
       "    .dataframe thead th {\n",
       "        text-align: right;\n",
       "    }\n",
       "</style>\n",
       "<table border=\"1\" class=\"dataframe\">\n",
       "  <thead>\n",
       "    <tr style=\"text-align: right;\">\n",
       "      <th></th>\n",
       "      <th>Id</th>\n",
       "      <th>Subject Focus</th>\n",
       "      <th>Eyes</th>\n",
       "      <th>Face</th>\n",
       "      <th>Near</th>\n",
       "      <th>Action</th>\n",
       "      <th>Accessory</th>\n",
       "      <th>Group</th>\n",
       "      <th>Collage</th>\n",
       "      <th>Human</th>\n",
       "      <th>Occlusion</th>\n",
       "      <th>Info</th>\n",
       "      <th>Blur</th>\n",
       "      <th>Pawpularity</th>\n",
       "      <th>file_path</th>\n",
       "    </tr>\n",
       "  </thead>\n",
       "  <tbody>\n",
       "    <tr>\n",
       "      <th>0</th>\n",
       "      <td>0007de18844b0dbbb5e1f607da0606e0</td>\n",
       "      <td>0</td>\n",
       "      <td>1</td>\n",
       "      <td>1</td>\n",
       "      <td>1</td>\n",
       "      <td>0</td>\n",
       "      <td>0</td>\n",
       "      <td>1</td>\n",
       "      <td>0</td>\n",
       "      <td>0</td>\n",
       "      <td>0</td>\n",
       "      <td>0</td>\n",
       "      <td>0</td>\n",
       "      <td>63</td>\n",
       "      <td>../input/petfinder-pawpularity-score/train/000...</td>\n",
       "    </tr>\n",
       "    <tr>\n",
       "      <th>1</th>\n",
       "      <td>0009c66b9439883ba2750fb825e1d7db</td>\n",
       "      <td>0</td>\n",
       "      <td>1</td>\n",
       "      <td>1</td>\n",
       "      <td>0</td>\n",
       "      <td>0</td>\n",
       "      <td>0</td>\n",
       "      <td>0</td>\n",
       "      <td>0</td>\n",
       "      <td>0</td>\n",
       "      <td>0</td>\n",
       "      <td>0</td>\n",
       "      <td>0</td>\n",
       "      <td>42</td>\n",
       "      <td>../input/petfinder-pawpularity-score/train/000...</td>\n",
       "    </tr>\n",
       "    <tr>\n",
       "      <th>2</th>\n",
       "      <td>0013fd999caf9a3efe1352ca1b0d937e</td>\n",
       "      <td>0</td>\n",
       "      <td>1</td>\n",
       "      <td>1</td>\n",
       "      <td>1</td>\n",
       "      <td>0</td>\n",
       "      <td>0</td>\n",
       "      <td>0</td>\n",
       "      <td>0</td>\n",
       "      <td>1</td>\n",
       "      <td>1</td>\n",
       "      <td>0</td>\n",
       "      <td>0</td>\n",
       "      <td>28</td>\n",
       "      <td>../input/petfinder-pawpularity-score/train/001...</td>\n",
       "    </tr>\n",
       "    <tr>\n",
       "      <th>3</th>\n",
       "      <td>0018df346ac9c1d8413cfcc888ca8246</td>\n",
       "      <td>0</td>\n",
       "      <td>1</td>\n",
       "      <td>1</td>\n",
       "      <td>1</td>\n",
       "      <td>0</td>\n",
       "      <td>0</td>\n",
       "      <td>0</td>\n",
       "      <td>0</td>\n",
       "      <td>0</td>\n",
       "      <td>0</td>\n",
       "      <td>0</td>\n",
       "      <td>0</td>\n",
       "      <td>15</td>\n",
       "      <td>../input/petfinder-pawpularity-score/train/001...</td>\n",
       "    </tr>\n",
       "    <tr>\n",
       "      <th>4</th>\n",
       "      <td>001dc955e10590d3ca4673f034feeef2</td>\n",
       "      <td>0</td>\n",
       "      <td>0</td>\n",
       "      <td>0</td>\n",
       "      <td>1</td>\n",
       "      <td>0</td>\n",
       "      <td>0</td>\n",
       "      <td>1</td>\n",
       "      <td>0</td>\n",
       "      <td>0</td>\n",
       "      <td>0</td>\n",
       "      <td>0</td>\n",
       "      <td>0</td>\n",
       "      <td>72</td>\n",
       "      <td>../input/petfinder-pawpularity-score/train/001...</td>\n",
       "    </tr>\n",
       "  </tbody>\n",
       "</table>\n",
       "</div>"
      ],
      "text/plain": [
       "                                 Id  Subject Focus  Eyes  Face  Near  Action  \\\n",
       "0  0007de18844b0dbbb5e1f607da0606e0              0     1     1     1       0   \n",
       "1  0009c66b9439883ba2750fb825e1d7db              0     1     1     0       0   \n",
       "2  0013fd999caf9a3efe1352ca1b0d937e              0     1     1     1       0   \n",
       "3  0018df346ac9c1d8413cfcc888ca8246              0     1     1     1       0   \n",
       "4  001dc955e10590d3ca4673f034feeef2              0     0     0     1       0   \n",
       "\n",
       "   Accessory  Group  Collage  Human  Occlusion  Info  Blur  Pawpularity  \\\n",
       "0          0      1        0      0          0     0     0           63   \n",
       "1          0      0        0      0          0     0     0           42   \n",
       "2          0      0        0      1          1     0     0           28   \n",
       "3          0      0        0      0          0     0     0           15   \n",
       "4          0      1        0      0          0     0     0           72   \n",
       "\n",
       "                                           file_path  \n",
       "0  ../input/petfinder-pawpularity-score/train/000...  \n",
       "1  ../input/petfinder-pawpularity-score/train/000...  \n",
       "2  ../input/petfinder-pawpularity-score/train/001...  \n",
       "3  ../input/petfinder-pawpularity-score/train/001...  \n",
       "4  ../input/petfinder-pawpularity-score/train/001...  "
      ]
     },
     "execution_count": 7,
     "metadata": {},
     "output_type": "execute_result"
    }
   ],
   "source": [
    "train.head()"
   ]
  },
  {
   "cell_type": "code",
   "execution_count": 8,
   "id": "26d4f87d",
   "metadata": {
    "execution": {
     "iopub.execute_input": "2023-12-01T04:52:58.042505Z",
     "iopub.status.busy": "2023-12-01T04:52:58.041898Z",
     "iopub.status.idle": "2023-12-01T04:52:58.049765Z",
     "shell.execute_reply": "2023-12-01T04:52:58.048756Z"
    },
    "papermill": {
     "duration": 0.020486,
     "end_time": "2023-12-01T04:52:58.051696",
     "exception": false,
     "start_time": "2023-12-01T04:52:58.031210",
     "status": "completed"
    },
    "tags": []
   },
   "outputs": [
    {
     "data": {
      "text/plain": [
       "Index(['Id', 'Subject Focus', 'Eyes', 'Face', 'Near', 'Action', 'Accessory',\n",
       "       'Group', 'Collage', 'Human', 'Occlusion', 'Info', 'Blur', 'Pawpularity',\n",
       "       'file_path'],\n",
       "      dtype='object')"
      ]
     },
     "execution_count": 8,
     "metadata": {},
     "output_type": "execute_result"
    }
   ],
   "source": [
    "train.columns"
   ]
  },
  {
   "cell_type": "markdown",
   "id": "0c35bd21",
   "metadata": {
    "papermill": {
     "duration": 0.008518,
     "end_time": "2023-12-01T04:52:58.069024",
     "exception": false,
     "start_time": "2023-12-01T04:52:58.060506",
     "status": "completed"
    },
    "tags": []
   },
   "source": [
    "**THE MAIN 12 TABULAR FEATURES THAT WILL BE FED INTO ANN MODEL**"
   ]
  },
  {
   "cell_type": "code",
   "execution_count": 9,
   "id": "1bc1363e",
   "metadata": {
    "execution": {
     "iopub.execute_input": "2023-12-01T04:52:58.088728Z",
     "iopub.status.busy": "2023-12-01T04:52:58.088097Z",
     "iopub.status.idle": "2023-12-01T04:52:58.093103Z",
     "shell.execute_reply": "2023-12-01T04:52:58.092226Z"
    },
    "papermill": {
     "duration": 0.017141,
     "end_time": "2023-12-01T04:52:58.095116",
     "exception": false,
     "start_time": "2023-12-01T04:52:58.077975",
     "status": "completed"
    },
    "tags": []
   },
   "outputs": [],
   "source": [
    "columns = ['Subject Focus', 'Eyes', 'Face', 'Near', 'Action', 'Accessory',\n",
    "       'Group', 'Collage', 'Human', 'Occlusion', 'Info', 'Blur']"
   ]
  },
  {
   "cell_type": "code",
   "execution_count": 10,
   "id": "8d3897d3",
   "metadata": {
    "execution": {
     "iopub.execute_input": "2023-12-01T04:52:58.114455Z",
     "iopub.status.busy": "2023-12-01T04:52:58.113807Z",
     "iopub.status.idle": "2023-12-01T04:52:58.118131Z",
     "shell.execute_reply": "2023-12-01T04:52:58.117286Z"
    },
    "papermill": {
     "duration": 0.016141,
     "end_time": "2023-12-01T04:52:58.120162",
     "exception": false,
     "start_time": "2023-12-01T04:52:58.104021",
     "status": "completed"
    },
    "tags": []
   },
   "outputs": [],
   "source": [
    "image_size = 128\n",
    "batch_size =128"
   ]
  },
  {
   "cell_type": "markdown",
   "id": "2772b605",
   "metadata": {
    "papermill": {
     "duration": 0.008538,
     "end_time": "2023-12-01T04:52:58.137232",
     "exception": false,
     "start_time": "2023-12-01T04:52:58.128694",
     "status": "completed"
    },
    "tags": []
   },
   "source": [
    "**THIS FUNCTION DOES THE NECESSARY IMAGE PREPROCESSING BY RESIZING , SCALING ETC.**"
   ]
  },
  {
   "cell_type": "code",
   "execution_count": null,
   "id": "64a5f741",
   "metadata": {
    "execution": {
     "iopub.execute_input": "2023-12-01T03:18:36.245507Z",
     "iopub.status.busy": "2023-12-01T03:18:36.245138Z",
     "iopub.status.idle": "2023-12-01T03:18:36.251499Z",
     "shell.execute_reply": "2023-12-01T03:18:36.250397Z",
     "shell.execute_reply.started": "2023-12-01T03:18:36.245478Z"
    },
    "papermill": {
     "duration": 0.008375,
     "end_time": "2023-12-01T04:52:58.154566",
     "exception": false,
     "start_time": "2023-12-01T04:52:58.146191",
     "status": "completed"
    },
    "tags": []
   },
   "outputs": [],
   "source": []
  },
  {
   "cell_type": "markdown",
   "id": "2cce0eff",
   "metadata": {
    "papermill": {
     "duration": 0.008444,
     "end_time": "2023-12-01T04:52:58.172116",
     "exception": false,
     "start_time": "2023-12-01T04:52:58.163672",
     "status": "completed"
    },
    "tags": []
   },
   "source": [
    "**THE FUNCTION FOR CREATING A NEURAL NETWORK FOR TABULAR DATA**"
   ]
  },
  {
   "cell_type": "code",
   "execution_count": 11,
   "id": "8bb3d255",
   "metadata": {
    "execution": {
     "iopub.execute_input": "2023-12-01T04:52:58.191880Z",
     "iopub.status.busy": "2023-12-01T04:52:58.191111Z",
     "iopub.status.idle": "2023-12-01T04:52:58.198638Z",
     "shell.execute_reply": "2023-12-01T04:52:58.197759Z"
    },
    "papermill": {
     "duration": 0.019417,
     "end_time": "2023-12-01T04:52:58.200638",
     "exception": false,
     "start_time": "2023-12-01T04:52:58.181221",
     "status": "completed"
    },
    "tags": []
   },
   "outputs": [],
   "source": [
    "def build_tabular_model(inputs):\n",
    "   \n",
    "    x = keras.layers.Dense(12, activation='relu')(inputs)\n",
    "    x = keras.layers.Dense(64, activation='relu')(x)\n",
    "    x = keras.layers.Dropout(0.3)(x)\n",
    "    x = keras.layers.BatchNormalization()(x)\n",
    "    x = keras.layers.Dense(128, activation='relu')(x)\n",
    "    x = keras.layers.Dense(64, activation='relu')(x)\n",
    "    x = keras.layers.Concatenate()([x, inputs])\n",
    "    return x"
   ]
  },
  {
   "cell_type": "code",
   "execution_count": 12,
   "id": "17a2871e",
   "metadata": {
    "execution": {
     "iopub.execute_input": "2023-12-01T04:52:58.220427Z",
     "iopub.status.busy": "2023-12-01T04:52:58.219613Z",
     "iopub.status.idle": "2023-12-01T04:52:58.225939Z",
     "shell.execute_reply": "2023-12-01T04:52:58.225074Z"
    },
    "papermill": {
     "duration": 0.01827,
     "end_time": "2023-12-01T04:52:58.227796",
     "exception": false,
     "start_time": "2023-12-01T04:52:58.209526",
     "status": "completed"
    },
    "tags": []
   },
   "outputs": [],
   "source": [
    "def block(x, filters, kernel_size, repetitions, pool_size=2, strides=2):\n",
    "    for i in range(repetitions):\n",
    "        x = tf.keras.layers.Conv2D(filters, kernel_size, activation='relu', padding='same')(x)\n",
    "    x = tf.keras.layers.MaxPooling2D(pool_size, strides)(x)\n",
    "    return x"
   ]
  },
  {
   "cell_type": "code",
   "execution_count": 13,
   "id": "ad79f5f9",
   "metadata": {
    "execution": {
     "iopub.execute_input": "2023-12-01T04:52:58.246909Z",
     "iopub.status.busy": "2023-12-01T04:52:58.246306Z",
     "iopub.status.idle": "2023-12-01T04:52:58.253495Z",
     "shell.execute_reply": "2023-12-01T04:52:58.252672Z"
    },
    "papermill": {
     "duration": 0.018891,
     "end_time": "2023-12-01T04:52:58.255337",
     "exception": false,
     "start_time": "2023-12-01T04:52:58.236446",
     "status": "completed"
    },
    "tags": []
   },
   "outputs": [],
   "source": [
    "import tensorflow as tf\n",
    "from tensorflow import keras\n",
    "\n",
    "def preprocess(image_url, tabular, image_size=224):\n",
    "    # Read and preprocess the image\n",
    "    image_string = tf.io.read_file(image_url)\n",
    "    image = tf.image.decode_jpeg(image_string, channels=3)\n",
    "    image = tf.cast(image, tf.float32) / 255.0  # Normalize the image to [0, 1]\n",
    "    image = tf.image.resize(image, (image_size, image_size))  # Resize the image\n",
    "\n",
    "    # Return the processed image and tabular data (excluding the first element)\n",
    "    return (image, tabular[1:]), tf.cast(tabular[0], tf.float32)"
   ]
  },
  {
   "cell_type": "markdown",
   "id": "adca0d5c",
   "metadata": {
    "papermill": {
     "duration": 0.008377,
     "end_time": "2023-12-01T04:52:58.272367",
     "exception": false,
     "start_time": "2023-12-01T04:52:58.263990",
     "status": "completed"
    },
    "tags": []
   },
   "source": [
    "**FUNCTION TO CREATE RESNET CNN FOR IMAGE DATA AND CONCATENATING WITH THE OUTPUTS OF TABULAR FEATURES CREATED BY ANN MODEL**"
   ]
  },
  {
   "cell_type": "code",
   "execution_count": 14,
   "id": "d8d557db",
   "metadata": {
    "execution": {
     "iopub.execute_input": "2023-12-01T04:52:58.291278Z",
     "iopub.status.busy": "2023-12-01T04:52:58.290927Z",
     "iopub.status.idle": "2023-12-01T04:52:58.302653Z",
     "shell.execute_reply": "2023-12-01T04:52:58.301888Z"
    },
    "papermill": {
     "duration": 0.023346,
     "end_time": "2023-12-01T04:52:58.304530",
     "exception": false,
     "start_time": "2023-12-01T04:52:58.281184",
     "status": "completed"
    },
    "tags": []
   },
   "outputs": [],
   "source": [
    "import os\n",
    "import tensorflow as tf\n",
    "from tensorflow.keras.applications import ResNet50\n",
    "from tensorflow.keras.layers import Dense, GlobalAveragePooling2D, Concatenate, RandomContrast, RandomRotation\n",
    "from tensorflow.keras.models import Model\n",
    "\n",
    "def get_model(image_size, columns):\n",
    "    image_inputs = tf.keras.Input((image_size, image_size, 3))\n",
    "    tabular_inputs = tf.keras.Input(len(columns))\n",
    "    \n",
    "    weights_path = '/kaggle/input/resnet50-weights-h5/resnet50_weights_tf_dim_ordering_tf_kernels_notop.h5'\n",
    "    if os.path.exists(weights_path):\n",
    "        resnet = ResNet50(include_top=False, weights=weights_path, pooling=None)\n",
    "    else:\n",
    "        print(\"Weights file not found. Using 'imagenet' weights.\")\n",
    "        resnet = ResNet50(include_top=False, weights='imagenet', pooling=None)\n",
    "    image_x = resnet(RandomContrast(factor=0.1)(RandomRotation(factor=0.15)(image_inputs)))\n",
    "    image_x = tf.keras.layers.GlobalAveragePooling2D()(image_x)\n",
    "    \n",
    "    # Assuming build_tabular_model is a function you have defined to handle tabular data\n",
    "    tabular_x = build_tabular_model(tabular_inputs)\n",
    "    \n",
    "    x = tf.keras.layers.Concatenate(axis=1)([image_x, tabular_x])\n",
    "    output = tf.keras.layers.Dense(1)(x)\n",
    "    model = tf.keras.Model(inputs=[image_inputs, tabular_inputs], outputs=[output])\n",
    "    return model"
   ]
  },
  {
   "cell_type": "markdown",
   "id": "0380e485",
   "metadata": {
    "papermill": {
     "duration": 0.008799,
     "end_time": "2023-12-01T04:52:58.322097",
     "exception": false,
     "start_time": "2023-12-01T04:52:58.313298",
     "status": "completed"
    },
    "tags": []
   },
   "source": [
    "**A PICTORIAL VIEW OF HOW THE MODEL LOOKS LIKE**"
   ]
  },
  {
   "cell_type": "code",
   "execution_count": 15,
   "id": "65f62290",
   "metadata": {
    "execution": {
     "iopub.execute_input": "2023-12-01T04:52:58.342955Z",
     "iopub.status.busy": "2023-12-01T04:52:58.342056Z",
     "iopub.status.idle": "2023-12-01T04:53:04.353946Z",
     "shell.execute_reply": "2023-12-01T04:53:04.353091Z"
    },
    "papermill": {
     "duration": 6.023845,
     "end_time": "2023-12-01T04:53:04.356173",
     "exception": false,
     "start_time": "2023-12-01T04:52:58.332328",
     "status": "completed"
    },
    "tags": []
   },
   "outputs": [],
   "source": [
    "image_size = 224\n",
    "model = get_model(image_size, columns)\n",
    "#tf.keras.utils.plot_model(model, show_shapes=True)"
   ]
  },
  {
   "cell_type": "code",
   "execution_count": 16,
   "id": "2064b618",
   "metadata": {
    "execution": {
     "iopub.execute_input": "2023-12-01T04:53:04.375782Z",
     "iopub.status.busy": "2023-12-01T04:53:04.375485Z",
     "iopub.status.idle": "2023-12-01T04:53:04.379679Z",
     "shell.execute_reply": "2023-12-01T04:53:04.378874Z"
    },
    "papermill": {
     "duration": 0.015949,
     "end_time": "2023-12-01T04:53:04.381657",
     "exception": false,
     "start_time": "2023-12-01T04:53:04.365708",
     "status": "completed"
    },
    "tags": []
   },
   "outputs": [],
   "source": [
    "def rmse(y_true, y_pred):\n",
    "    return tf.sqrt(tf.reduce_mean((y_true -  y_pred) ** 2))"
   ]
  },
  {
   "cell_type": "code",
   "execution_count": 17,
   "id": "581816d5",
   "metadata": {
    "execution": {
     "iopub.execute_input": "2023-12-01T04:53:04.400059Z",
     "iopub.status.busy": "2023-12-01T04:53:04.399801Z",
     "iopub.status.idle": "2023-12-01T05:14:40.348790Z",
     "shell.execute_reply": "2023-12-01T05:14:40.347942Z"
    },
    "papermill": {
     "duration": 1295.961339,
     "end_time": "2023-12-01T05:14:40.351644",
     "exception": false,
     "start_time": "2023-12-01T04:53:04.390305",
     "status": "completed"
    },
    "tags": []
   },
   "outputs": [
    {
     "name": "stdout",
     "output_type": "stream",
     "text": [
      "Epoch 1/300\n",
      "62/62 [==============================] - ETA: 0s - loss: 499.2696 - mae: 16.5609 - rmse: 21.9210 - mape: 76.3884"
     ]
    },
    {
     "name": "stderr",
     "output_type": "stream",
     "text": [
      "/opt/conda/lib/python3.10/site-packages/keras/src/engine/training.py:3000: UserWarning: You are saving your model as an HDF5 file via `model.save()`. This file format is considered legacy. We recommend using instead the native Keras format, e.g. `model.save('my_model.keras')`.\n",
      "  saving_api.save_model(\n"
     ]
    },
    {
     "name": "stdout",
     "output_type": "stream",
     "text": [
      "62/62 [==============================] - 110s 926ms/step - loss: 499.2696 - mae: 16.5609 - rmse: 21.9210 - mape: 76.3884 - val_loss: 769.8838 - val_mae: 20.0743 - val_rmse: 27.7073 - val_mape: 57.0404 - lr: 0.0010\n",
      "Epoch 2/300\n",
      "62/62 [==============================] - 43s 695ms/step - loss: 406.2644 - mae: 15.0498 - rmse: 20.1043 - mape: 77.9037 - val_loss: 557.7651 - val_mae: 16.0526 - val_rmse: 23.5612 - val_mape: 58.0237 - lr: 0.0010\n",
      "Epoch 3/300\n",
      "62/62 [==============================] - 43s 696ms/step - loss: 405.8351 - mae: 15.0786 - rmse: 20.0927 - mape: 77.7470 - val_loss: 472.4189 - val_mae: 15.0855 - val_rmse: 21.6744 - val_mape: 64.7128 - lr: 0.0010\n",
      "Epoch 4/300\n",
      "62/62 [==============================] - 42s 677ms/step - loss: 403.1568 - mae: 14.9883 - rmse: 20.0255 - mape: 77.5589 - val_loss: 533.8351 - val_mae: 15.6645 - val_rmse: 23.0454 - val_mape: 58.5241 - lr: 0.0010\n",
      "Epoch 5/300\n",
      "62/62 [==============================] - 43s 695ms/step - loss: 394.5614 - mae: 14.8272 - rmse: 19.8102 - mape: 76.7946 - val_loss: 456.3770 - val_mae: 15.1081 - val_rmse: 21.3002 - val_mape: 68.1386 - lr: 0.0010\n",
      "Epoch 6/300\n",
      "62/62 [==============================] - 42s 676ms/step - loss: 394.3072 - mae: 14.8082 - rmse: 19.8032 - mape: 76.8046 - val_loss: 461.2450 - val_mae: 15.0818 - val_rmse: 21.4127 - val_mape: 66.9312 - lr: 0.0010\n",
      "Epoch 7/300\n",
      "62/62 [==============================] - 43s 695ms/step - loss: 386.0096 - mae: 14.6616 - rmse: 19.5962 - mape: 76.1191 - val_loss: 448.4571 - val_mae: 15.2135 - val_rmse: 21.1146 - val_mape: 70.9858 - lr: 0.0010\n",
      "Epoch 8/300\n",
      "62/62 [==============================] - 42s 676ms/step - loss: 380.5652 - mae: 14.5647 - rmse: 19.4589 - mape: 75.4490 - val_loss: 469.7831 - val_mae: 15.0605 - val_rmse: 21.6121 - val_mape: 64.8522 - lr: 0.0010\n",
      "Epoch 9/300\n",
      "62/62 [==============================] - 42s 677ms/step - loss: 370.7177 - mae: 14.3868 - rmse: 19.2059 - mape: 74.6461 - val_loss: 479.5837 - val_mae: 15.1097 - val_rmse: 21.8372 - val_mape: 64.2393 - lr: 0.0010\n",
      "Epoch 10/300\n",
      "62/62 [==============================] - 42s 676ms/step - loss: 352.9514 - mae: 14.0009 - rmse: 18.7280 - mape: 73.7361 - val_loss: 452.2430 - val_mae: 15.1896 - val_rmse: 21.2048 - val_mape: 70.6571 - lr: 3.0000e-04\n",
      "Epoch 11/300\n",
      "62/62 [==============================] - 43s 696ms/step - loss: 335.1856 - mae: 13.6083 - rmse: 18.2456 - mape: 72.0486 - val_loss: 444.7036 - val_mae: 15.3426 - val_rmse: 21.0272 - val_mape: 73.7380 - lr: 3.0000e-04\n",
      "Epoch 12/300\n",
      "62/62 [==============================] - 42s 677ms/step - loss: 323.5314 - mae: 13.3538 - rmse: 17.9363 - mape: 70.7448 - val_loss: 454.8019 - val_mae: 15.1052 - val_rmse: 21.2671 - val_mape: 68.8500 - lr: 3.0000e-04\n",
      "Epoch 13/300\n",
      "62/62 [==============================] - 43s 695ms/step - loss: 316.6750 - mae: 13.2586 - rmse: 17.7402 - mape: 69.8951 - val_loss: 440.5329 - val_mae: 15.1038 - val_rmse: 20.9310 - val_mape: 70.9622 - lr: 3.0000e-04\n",
      "Epoch 14/300\n",
      "62/62 [==============================] - 43s 695ms/step - loss: 308.9485 - mae: 13.1071 - rmse: 17.5224 - mape: 68.5350 - val_loss: 424.7273 - val_mae: 14.9016 - val_rmse: 20.5415 - val_mape: 68.7711 - lr: 3.0000e-04\n",
      "Epoch 15/300\n",
      "62/62 [==============================] - 43s 694ms/step - loss: 295.6913 - mae: 12.7918 - rmse: 17.1388 - mape: 67.7765 - val_loss: 416.7874 - val_mae: 15.2923 - val_rmse: 20.3496 - val_mape: 74.0867 - lr: 3.0000e-04\n",
      "Epoch 16/300\n",
      "62/62 [==============================] - 42s 677ms/step - loss: 294.7515 - mae: 12.7925 - rmse: 17.1055 - mape: 67.7517 - val_loss: 420.0500 - val_mae: 15.1083 - val_rmse: 20.4059 - val_mape: 71.4936 - lr: 3.0000e-04\n",
      "Epoch 17/300\n",
      "62/62 [==============================] - 42s 677ms/step - loss: 282.9514 - mae: 12.5380 - rmse: 16.7640 - mape: 66.4165 - val_loss: 472.3053 - val_mae: 15.1482 - val_rmse: 21.6362 - val_mape: 60.9375 - lr: 3.0000e-04\n",
      "Epoch 18/300\n",
      "62/62 [==============================] - 43s 694ms/step - loss: 259.7298 - mae: 12.0149 - rmse: 16.0679 - mape: 63.5136 - val_loss: 398.3749 - val_mae: 14.8497 - val_rmse: 19.8816 - val_mape: 73.9193 - lr: 9.0000e-05\n",
      "Epoch 19/300\n",
      "62/62 [==============================] - 42s 677ms/step - loss: 248.0066 - mae: 11.6626 - rmse: 15.7046 - mape: 62.1233 - val_loss: 405.7695 - val_mae: 14.8682 - val_rmse: 20.0677 - val_mape: 72.0787 - lr: 9.0000e-05\n",
      "Epoch 20/300\n",
      "62/62 [==============================] - 42s 676ms/step - loss: 230.9631 - mae: 11.3424 - rmse: 15.1400 - mape: 61.0609 - val_loss: 414.9280 - val_mae: 15.1892 - val_rmse: 20.3017 - val_mape: 75.3226 - lr: 9.0000e-05\n",
      "Epoch 21/300\n",
      "62/62 [==============================] - 42s 677ms/step - loss: 220.8870 - mae: 11.1362 - rmse: 14.8200 - mape: 59.6560 - val_loss: 410.1288 - val_mae: 14.8625 - val_rmse: 20.1892 - val_mape: 70.4819 - lr: 2.7000e-05\n",
      "Epoch 22/300\n",
      "62/62 [==============================] - 42s 677ms/step - loss: 220.6852 - mae: 11.0651 - rmse: 14.7932 - mape: 59.4622 - val_loss: 411.3122 - val_mae: 14.8585 - val_rmse: 20.2209 - val_mape: 70.0823 - lr: 2.7000e-05\n",
      "Epoch 23/300\n",
      "62/62 [==============================] - 42s 677ms/step - loss: 212.7597 - mae: 10.9324 - rmse: 14.5473 - mape: 58.7090 - val_loss: 413.8931 - val_mae: 14.9109 - val_rmse: 20.2841 - val_mape: 69.9933 - lr: 8.1000e-06\n",
      "Epoch 24/300\n",
      "62/62 [==============================] - 42s 677ms/step - loss: 206.7810 - mae: 10.7895 - rmse: 14.3362 - mape: 58.4070 - val_loss: 415.7723 - val_mae: 14.9785 - val_rmse: 20.3313 - val_mape: 70.6282 - lr: 8.1000e-06\n",
      "Epoch 25/300\n",
      "62/62 [==============================] - 42s 676ms/step - loss: 209.1072 - mae: 10.8438 - rmse: 14.4147 - mape: 58.4673 - val_loss: 416.2627 - val_mae: 14.9824 - val_rmse: 20.3434 - val_mape: 70.6090 - lr: 2.4300e-06\n",
      "Epoch 26/300\n",
      "62/62 [==============================] - 42s 677ms/step - loss: 204.7222 - mae: 10.7679 - rmse: 14.2639 - mape: 57.9137 - val_loss: 417.2875 - val_mae: 15.0034 - val_rmse: 20.3686 - val_mape: 70.7480 - lr: 2.4300e-06\n",
      "Epoch 27/300\n",
      "62/62 [==============================] - 42s 677ms/step - loss: 206.0376 - mae: 10.7302 - rmse: 14.2920 - mape: 57.7848 - val_loss: 417.8140 - val_mae: 15.0260 - val_rmse: 20.3824 - val_mape: 71.0096 - lr: 7.2900e-07\n",
      "Epoch 28/300\n",
      "62/62 [==============================] - 42s 677ms/step - loss: 209.6741 - mae: 10.7913 - rmse: 14.4331 - mape: 58.1233 - val_loss: 418.2450 - val_mae: 15.0419 - val_rmse: 20.3934 - val_mape: 71.1510 - lr: 7.2900e-07\n"
     ]
    },
    {
     "data": {
      "image/png": "[encoded data removed]",
      "text/plain": [
       "<Figure size 640x480 with 1 Axes>"
      ]
     },
     "metadata": {},
     "output_type": "display_data"
    },
    {
     "data": {
      "image/png": "[encoded data removed]",
      "text/plain": [
       "<Figure size 640x480 with 1 Axes>"
      ]
     },
     "metadata": {},
     "output_type": "display_data"
    },
    {
     "data": {
      "image/png": "[encoded data removed]",
      "text/plain": [
       "<Figure size 640x480 with 1 Axes>"
      ]
     },
     "metadata": {},
     "output_type": "display_data"
    },
    {
     "data": {
      "image/png": "[encoded data removed]",
      "text/plain": [
       "<Figure size 640x480 with 1 Axes>"
      ]
     },
     "metadata": {},
     "output_type": "display_data"
    }
   ],
   "source": [
    "tf.keras.backend.clear_session()\n",
    "models = []\n",
    "historys = []\n",
    "kfold = KFold(n_splits=5, shuffle=True, random_state=42)\n",
    "train_best_fold = True\n",
    "best_fold = 0\n",
    "for index, (train_indices, val_indices) in enumerate(kfold.split(train)):\n",
    "    if train_best_fold and index != best_fold: continue\n",
    "    x_train = train.loc[train_indices, \"file_path\"]\n",
    "    tabular_train = train.loc[train_indices, [\"Pawpularity\"] + columns]\n",
    "    x_val= train.loc[val_indices, \"file_path\"]\n",
    "    tabular_val = train.loc[val_indices, [\"Pawpularity\"] + columns]\n",
    "    checkpoint_path = \"model_%d.h5\"%(index)\n",
    "    checkpoint = tf.keras.callbacks.ModelCheckpoint(checkpoint_path, save_best_only=True)\n",
    "    early_stop = tf.keras.callbacks.EarlyStopping(min_delta=1e-4, patience=10)\n",
    "    reduce_lr = tf.keras.callbacks.ReduceLROnPlateau(factor=0.3,patience=2, min_lr=1e-7)\n",
    "    callbacks = [early_stop, checkpoint, reduce_lr]    \n",
    "    optimizer = tf.keras.optimizers.Adam(1e-3)\n",
    "    train_ds = tf.data.Dataset.from_tensor_slices((x_train, tabular_train)).map(preprocess).shuffle(512).batch(batch_size).cache().prefetch(2)\n",
    "    val_ds = tf.data.Dataset.from_tensor_slices((x_val, tabular_val)).map(preprocess).batch(batch_size).cache().prefetch(2)\n",
    "    model = get_model(image_size, columns)\n",
    "    model.compile(loss = \"mse\", optimizer = optimizer, metrics = [\"mae\", rmse, \"mape\"])\n",
    "    history = model.fit(train_ds, epochs=300, validation_data=val_ds, callbacks=callbacks, batch_size = 8)\n",
    "    for metrics in [(\"loss\", \"val_loss\"), (\"mae\", \"val_mae\"), (\"mape\", \"val_mape\"), [\"rmse\", \"val_rmse\"]]:\n",
    "        pd.DataFrame(history.history, columns=metrics).plot()\n",
    "        plt.show()\n",
    "    model.load_weights(checkpoint_path)\n",
    "    historys.append(history)\n",
    "    models.append(model)"
   ]
  },
  {
   "cell_type": "code",
   "execution_count": 18,
   "id": "b59dad21",
   "metadata": {
    "execution": {
     "iopub.execute_input": "2023-12-01T05:14:40.661264Z",
     "iopub.status.busy": "2023-12-01T05:14:40.660405Z",
     "iopub.status.idle": "2023-12-01T05:14:40.666708Z",
     "shell.execute_reply": "2023-12-01T05:14:40.665838Z"
    },
    "papermill": {
     "duration": 0.160761,
     "end_time": "2023-12-01T05:14:40.668858",
     "exception": false,
     "start_time": "2023-12-01T05:14:40.508097",
     "status": "completed"
    },
    "tags": []
   },
   "outputs": [],
   "source": [
    "def preprocess_test_data(image_url, tabular):\n",
    "    print(image_url, tabular)\n",
    "    image_string = tf.io.read_file(image_url)\n",
    "    image = tf.image.decode_jpeg(image_string, channels=3)\n",
    "    image = tf.cast(image, tf.float32) / 255.0\n",
    "    image = tf.image.central_crop(image, 1.0)\n",
    "    image = tf.image.resize(image, (image_size, image_size))\n",
    "    # 0 won't be used in prediction, but it's needed in this senario or the tabular variable is treated as label.\n",
    "    return (image, tabular), 0"
   ]
  },
  {
   "cell_type": "code",
   "execution_count": 19,
   "id": "19ad877a",
   "metadata": {
    "execution": {
     "iopub.execute_input": "2023-12-01T05:14:41.037297Z",
     "iopub.status.busy": "2023-12-01T05:14:41.036477Z",
     "iopub.status.idle": "2023-12-01T05:14:41.145047Z",
     "shell.execute_reply": "2023-12-01T05:14:41.144117Z"
    },
    "papermill": {
     "duration": 0.326792,
     "end_time": "2023-12-01T05:14:41.147169",
     "exception": false,
     "start_time": "2023-12-01T05:14:40.820377",
     "status": "completed"
    },
    "tags": []
   },
   "outputs": [
    {
     "name": "stdout",
     "output_type": "stream",
     "text": [
      "Tensor(\"args_0:0\", shape=(), dtype=string) Tensor(\"args_1:0\", shape=(12,), dtype=int64)\n"
     ]
    }
   ],
   "source": [
    "test_ds = tf.data.Dataset.from_tensor_slices((test[\"file_path\"], test[columns])).map(preprocess_test_data).batch(batch_size).cache().prefetch(2)"
   ]
  },
  {
   "cell_type": "code",
   "execution_count": 20,
   "id": "66b91dae",
   "metadata": {
    "execution": {
     "iopub.execute_input": "2023-12-01T05:14:41.458104Z",
     "iopub.status.busy": "2023-12-01T05:14:41.457310Z",
     "iopub.status.idle": "2023-12-01T05:14:43.003920Z",
     "shell.execute_reply": "2023-12-01T05:14:43.002859Z"
    },
    "papermill": {
     "duration": 1.706807,
     "end_time": "2023-12-01T05:14:43.005941",
     "exception": false,
     "start_time": "2023-12-01T05:14:41.299134",
     "status": "completed"
    },
    "tags": []
   },
   "outputs": [
    {
     "name": "stdout",
     "output_type": "stream",
     "text": [
      "1/1 [==============================] - 2s 2s/step\n"
     ]
    }
   ],
   "source": [
    "use_best_result = False\n",
    "if use_best_result:\n",
    "    if train_best_fold:\n",
    "        best_model = models[0]\n",
    "    else:\n",
    "        best_fold = 0\n",
    "        best_score = 10e8\n",
    "        for fold, history in enumerate(historys):\n",
    "            for val_rmse in history.history[\"val_rmse\"]:\n",
    "                if val_rmse < best_score:\n",
    "                    best_score = val_rmse\n",
    "                    best_fold = fold\n",
    "        print(\"Best Score:%.2f Best Fold: %d\"%(best_score, best_fold + 1))\n",
    "        best_model = models[best_fold]\n",
    "    results = best_model.predict(test_ds).reshape(-1)\n",
    "else:\n",
    "    total_results = []\n",
    "    for model in models:\n",
    "        total_results.append(model.predict(test_ds).reshape(-1))\n",
    "    results = np.mean(total_results, axis=0).reshape(-1)\n",
    "sample_submission[\"Pawpularity\"] = results\n",
    "sample_submission.to_csv(\"submission.csv\", index=False)"
   ]
  },
  {
   "cell_type": "code",
   "execution_count": null,
   "id": "f2bfb86e",
   "metadata": {
    "papermill": {
     "duration": 0.176606,
     "end_time": "2023-12-01T05:14:43.344052",
     "exception": false,
     "start_time": "2023-12-01T05:14:43.167446",
     "status": "completed"
    },
    "tags": []
   },
   "outputs": [],
   "source": []
  },
  {
   "cell_type": "code",
   "execution_count": null,
   "id": "2fcc8db3",
   "metadata": {
    "papermill": {
     "duration": 0.160215,
     "end_time": "2023-12-01T05:14:43.680400",
     "exception": false,
     "start_time": "2023-12-01T05:14:43.520185",
     "status": "completed"
    },
    "tags": []
   },
   "outputs": [],
   "source": []
  }
 ],
 "metadata": {
  "kaggle": {
   "accelerator": "gpu",
   "dataSources": [
    {
     "databundleVersionId": 2684322,
     "sourceId": 25383,
     "sourceType": "competition"
    },
    {
     "datasetId": 4088811,
     "sourceId": 7094808,
     "sourceType": "datasetVersion"
    }
   ],
   "dockerImageVersionId": 30588,
   "isGpuEnabled": true,
   "isInternetEnabled": false,
   "language": "python",
   "sourceType": "notebook"
  },
  "kernelspec": {
   "display_name": "Python 3",
   "language": "python",
   "name": "python3"
  },
  "language_info": {
   "codemirror_mode": {
    "name": "ipython",
    "version": 3
   },
   "file_extension": ".py",
   "mimetype": "text/x-python",
   "name": "python",
   "nbconvert_exporter": "python",
   "pygments_lexer": "ipython3",
   "version": "3.10.12"
  },
  "papermill": {
   "default_parameters": {},
   "duration": 1325.158251,
   "end_time": "2023-12-01T05:14:47.379150",
   "environment_variables": {},
   "exception": null,
   "input_path": "__notebook__.ipynb",
   "output_path": "__notebook__.ipynb",
   "parameters": {},
   "start_time": "2023-12-01T04:52:42.220899",
   "version": "2.3.3"
  }
 },
 "nbformat": 4,
 "nbformat_minor": 5
}
