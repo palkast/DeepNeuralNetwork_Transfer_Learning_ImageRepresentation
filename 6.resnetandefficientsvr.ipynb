{
 "cells": [
  {
   "cell_type": "code",
   "execution_count": 1,
   "id": "9cbcd08c",
   "metadata": {
    "_cell_guid": "b1076dfc-b9ad-4769-8c92-a6c4dae69d19",
    "_uuid": "8f2839f25d086af736a60e9eeb907d3b93b6e0e5",
    "execution": {
     "iopub.execute_input": "2023-12-03T22:11:03.636208Z",
     "iopub.status.busy": "2023-12-03T22:11:03.635736Z",
     "iopub.status.idle": "2023-12-03T22:11:09.075780Z",
     "shell.execute_reply": "2023-12-03T22:11:09.074718Z"
    },
    "papermill": {
     "duration": 5.454377,
     "end_time": "2023-12-03T22:11:09.078554",
     "exception": false,
     "start_time": "2023-12-03T22:11:03.624177",
     "status": "completed"
    },
    "tags": []
   },
   "outputs": [],
   "source": [
    "import os\n",
    "\n",
    "import pandas as pd\n",
    "import numpy as np\n",
    "import glob\n",
    "#import cv2\n",
    "import matplotlib.pyplot as plt\n",
    "import joblib\n",
    "import gc\n",
    "from glob import glob\n",
    "\n",
    "import torch\n",
    "import torch.nn as nn\n",
    "from torch.utils.data import DataLoader, Dataset\n",
    "import torchvision.transforms as T\n",
    "\n",
    "from PIL import Image\n",
    "import PIL\n",
    "\n",
    "import time\n",
    "import tqdm\n",
    "import pickle\n",
    "from sklearn.model_selection import StratifiedKFold\n",
    "from sklearn.metrics import mean_squared_error\n",
    "\n",
    "import cuml\n",
    "from cuml.svm import SVR as cuml_SVR\n",
    "from sklearn.preprocessing import StandardScaler"
   ]
  },
  {
   "cell_type": "code",
   "execution_count": 2,
   "id": "d04a7704",
   "metadata": {
    "execution": {
     "iopub.execute_input": "2023-12-03T22:11:09.097903Z",
     "iopub.status.busy": "2023-12-03T22:11:09.097390Z",
     "iopub.status.idle": "2023-12-03T22:11:09.105612Z",
     "shell.execute_reply": "2023-12-03T22:11:09.104870Z"
    },
    "papermill": {
     "duration": 0.019827,
     "end_time": "2023-12-03T22:11:09.107529",
     "exception": false,
     "start_time": "2023-12-03T22:11:09.087702",
     "status": "completed"
    },
    "tags": []
   },
   "outputs": [],
   "source": [
    "# Set the seed\n",
    "\n",
    "SEED = 42\n",
    "\n",
    "import os\n",
    "# os.environ['TF_CUDNN_DETERMINISTIC'] = '1'\n",
    "\n",
    "import random \n",
    "random.seed(SEED)\n",
    "\n",
    "import numpy as np\n",
    "np.random.seed(SEED)\n",
    "\n",
    "import torch\n",
    "torch.manual_seed(SEED)\n",
    "torch.cuda.manual_seed(SEED)"
   ]
  },
  {
   "cell_type": "markdown",
   "id": "969a63e5",
   "metadata": {
    "papermill": {
     "duration": 0.008259,
     "end_time": "2023-12-03T22:11:09.124390",
     "exception": false,
     "start_time": "2023-12-03T22:11:09.116131",
     "status": "completed"
    },
    "tags": []
   },
   "source": [
    "# Install timm, yolov4 and CLIP"
   ]
  },
  {
   "cell_type": "code",
   "execution_count": 3,
   "id": "07a32451",
   "metadata": {
    "execution": {
     "iopub.execute_input": "2023-12-03T22:11:09.142498Z",
     "iopub.status.busy": "2023-12-03T22:11:09.142201Z",
     "iopub.status.idle": "2023-12-03T22:11:21.872800Z",
     "shell.execute_reply": "2023-12-03T22:11:21.871551Z"
    },
    "papermill": {
     "duration": 12.742355,
     "end_time": "2023-12-03T22:11:21.875294",
     "exception": false,
     "start_time": "2023-12-03T22:11:09.132939",
     "status": "completed"
    },
    "tags": []
   },
   "outputs": [
    {
     "name": "stdout",
     "output_type": "stream",
     "text": [
      "Looking in links: file:///kaggle/input/timm-packages/timm/\r\n",
      "Processing /kaggle/input/timm-packages/timm/timm-0.6.11-py3-none-any.whl\r\n",
      "Requirement already satisfied: pyyaml in /opt/conda/lib/python3.7/site-packages (from timm) (6.0)\r\n",
      "Requirement already satisfied: torchvision in /opt/conda/lib/python3.7/site-packages (from timm) (0.12.0)\r\n",
      "Requirement already satisfied: torch>=1.7 in /opt/conda/lib/python3.7/site-packages (from timm) (1.11.0)\r\n",
      "Requirement already satisfied: huggingface-hub in /opt/conda/lib/python3.7/site-packages (from timm) (0.10.1)\r\n",
      "Requirement already satisfied: typing-extensions in /opt/conda/lib/python3.7/site-packages (from torch>=1.7->timm) (4.1.1)\r\n",
      "Requirement already satisfied: requests in /opt/conda/lib/python3.7/site-packages (from huggingface-hub->timm) (2.28.1)\r\n",
      "Requirement already satisfied: importlib-metadata in /opt/conda/lib/python3.7/site-packages (from huggingface-hub->timm) (4.13.0)\r\n",
      "Requirement already satisfied: tqdm in /opt/conda/lib/python3.7/site-packages (from huggingface-hub->timm) (4.64.0)\r\n",
      "Requirement already satisfied: filelock in /opt/conda/lib/python3.7/site-packages (from huggingface-hub->timm) (3.7.1)\r\n",
      "Requirement already satisfied: packaging>=20.9 in /opt/conda/lib/python3.7/site-packages (from huggingface-hub->timm) (21.3)\r\n",
      "Requirement already satisfied: pillow!=8.3.*,>=5.3.0 in /opt/conda/lib/python3.7/site-packages (from torchvision->timm) (9.1.1)\r\n",
      "Requirement already satisfied: numpy in /opt/conda/lib/python3.7/site-packages (from torchvision->timm) (1.21.6)\r\n",
      "Requirement already satisfied: pyparsing!=3.0.5,>=2.0.2 in /opt/conda/lib/python3.7/site-packages (from packaging>=20.9->huggingface-hub->timm) (3.0.9)\r\n",
      "Requirement already satisfied: zipp>=0.5 in /opt/conda/lib/python3.7/site-packages (from importlib-metadata->huggingface-hub->timm) (3.8.0)\r\n",
      "Requirement already satisfied: charset-normalizer<3,>=2 in /opt/conda/lib/python3.7/site-packages (from requests->huggingface-hub->timm) (2.1.0)\r\n",
      "Requirement already satisfied: idna<4,>=2.5 in /opt/conda/lib/python3.7/site-packages (from requests->huggingface-hub->timm) (3.3)\r\n",
      "Requirement already satisfied: certifi>=2017.4.17 in /opt/conda/lib/python3.7/site-packages (from requests->huggingface-hub->timm) (2022.9.24)\r\n",
      "Requirement already satisfied: urllib3<1.27,>=1.21.1 in /opt/conda/lib/python3.7/site-packages (from requests->huggingface-hub->timm) (1.26.12)\r\n",
      "Installing collected packages: timm\r\n",
      "Successfully installed timm-0.6.11\r\n",
      "\u001b[33mWARNING: Running pip as the 'root' user can result in broken permissions and conflicting behaviour with the system package manager. It is recommended to use a virtual environment instead: https://pip.pypa.io/warnings/venv\u001b[0m\u001b[33m\r\n",
      "\u001b[0m"
     ]
    }
   ],
   "source": [
    "!pip install timm --no-index --find-links=file:///kaggle/input/timm-packages/timm/"
   ]
  },
  {
   "cell_type": "code",
   "execution_count": 4,
   "id": "55f6e879",
   "metadata": {
    "execution": {
     "iopub.execute_input": "2023-12-03T22:11:21.895369Z",
     "iopub.status.busy": "2023-12-03T22:11:21.895026Z",
     "iopub.status.idle": "2023-12-03T22:11:21.899194Z",
     "shell.execute_reply": "2023-12-03T22:11:21.898279Z"
    },
    "papermill": {
     "duration": 0.016281,
     "end_time": "2023-12-03T22:11:21.901184",
     "exception": false,
     "start_time": "2023-12-03T22:11:21.884903",
     "status": "completed"
    },
    "tags": []
   },
   "outputs": [],
   "source": [
    "# Move the yolov4 source code to the conda folder\n",
    "# ! cp -r /kaggle/input/yolov4/yolov4_extracted/yolov4 /opt/conda/lib/python3.7/site-packages"
   ]
  },
  {
   "cell_type": "code",
   "execution_count": 5,
   "id": "aaa64667",
   "metadata": {
    "execution": {
     "iopub.execute_input": "2023-12-03T22:11:21.921743Z",
     "iopub.status.busy": "2023-12-03T22:11:21.921456Z",
     "iopub.status.idle": "2023-12-03T22:12:27.570511Z",
     "shell.execute_reply": "2023-12-03T22:12:27.569288Z"
    },
    "papermill": {
     "duration": 65.661381,
     "end_time": "2023-12-03T22:12:27.573091",
     "exception": false,
     "start_time": "2023-12-03T22:11:21.911710",
     "status": "completed"
    },
    "tags": []
   },
   "outputs": [
    {
     "name": "stdout",
     "output_type": "stream",
     "text": [
      "Processing /kaggle/input/clip-full-package/CLIP_full_package/ftfy-6.1.1-py3-none-any.whl\r\n",
      "Requirement already satisfied: wcwidth>=0.2.5 in /opt/conda/lib/python3.7/site-packages (from ftfy==6.1.1) (0.2.5)\r\n",
      "Installing collected packages: ftfy\r\n",
      "Successfully installed ftfy-6.1.1\r\n",
      "\u001b[33mWARNING: Running pip as the 'root' user can result in broken permissions and conflicting behaviour with the system package manager. It is recommended to use a virtual environment instead: https://pip.pypa.io/warnings/venv\u001b[0m\u001b[33m\r\n",
      "\u001b[0m\u001b[33mWARNING: There was an error checking the latest version of pip.\u001b[0m\u001b[33m\r\n",
      "\u001b[0mProcessing ./CLIP-main\r\n",
      "  Preparing metadata (setup.py) ... \u001b[?25l-\b \bdone\r\n",
      "\u001b[?25hRequirement already satisfied: ftfy in /opt/conda/lib/python3.7/site-packages (from clip==1.0) (6.1.1)\r\n",
      "Requirement already satisfied: regex in /opt/conda/lib/python3.7/site-packages (from clip==1.0) (2021.11.10)\r\n",
      "Requirement already satisfied: tqdm in /opt/conda/lib/python3.7/site-packages (from clip==1.0) (4.64.0)\r\n",
      "Requirement already satisfied: torch in /opt/conda/lib/python3.7/site-packages (from clip==1.0) (1.11.0)\r\n",
      "Requirement already satisfied: torchvision in /opt/conda/lib/python3.7/site-packages (from clip==1.0) (0.12.0)\r\n",
      "Requirement already satisfied: wcwidth>=0.2.5 in /opt/conda/lib/python3.7/site-packages (from ftfy->clip==1.0) (0.2.5)\r\n",
      "Requirement already satisfied: typing-extensions in /opt/conda/lib/python3.7/site-packages (from torch->clip==1.0) (4.1.1)\r\n",
      "Requirement already satisfied: numpy in /opt/conda/lib/python3.7/site-packages (from torchvision->clip==1.0) (1.21.6)\r\n",
      "Requirement already satisfied: requests in /opt/conda/lib/python3.7/site-packages (from torchvision->clip==1.0) (2.28.1)\r\n",
      "Requirement already satisfied: pillow!=8.3.*,>=5.3.0 in /opt/conda/lib/python3.7/site-packages (from torchvision->clip==1.0) (9.1.1)\r\n",
      "Requirement already satisfied: charset-normalizer<3,>=2 in /opt/conda/lib/python3.7/site-packages (from requests->torchvision->clip==1.0) (2.1.0)\r\n",
      "Requirement already satisfied: urllib3<1.27,>=1.21.1 in /opt/conda/lib/python3.7/site-packages (from requests->torchvision->clip==1.0) (1.26.12)\r\n",
      "Requirement already satisfied: certifi>=2017.4.17 in /opt/conda/lib/python3.7/site-packages (from requests->torchvision->clip==1.0) (2022.9.24)\r\n",
      "Requirement already satisfied: idna<4,>=2.5 in /opt/conda/lib/python3.7/site-packages (from requests->torchvision->clip==1.0) (3.3)\r\n",
      "Building wheels for collected packages: clip\r\n",
      "  Building wheel for clip (setup.py) ... \u001b[?25l-\b \b\\\b \bdone\r\n",
      "\u001b[?25h  Created wheel for clip: filename=clip-1.0-py3-none-any.whl size=11872 sha256=3689cd91bf48f606da1a8c12fef2d930842c565568decbec7d0b007bb70b9804\r\n",
      "  Stored in directory: /root/.cache/pip/wheels/d5/9e/a7/ece3970b50674283ec0313940110361256ae1708618c0c5ec9\r\n",
      "Successfully built clip\r\n",
      "Installing collected packages: clip\r\n",
      "Successfully installed clip-1.0\r\n",
      "\u001b[33mWARNING: Running pip as the 'root' user can result in broken permissions and conflicting behaviour with the system package manager. It is recommended to use a virtual environment instead: https://pip.pypa.io/warnings/venv\u001b[0m\u001b[33m\r\n",
      "\u001b[0m\u001b[33mWARNING: There was an error checking the latest version of pip.\u001b[0m\u001b[33m\r\n",
      "\u001b[0m"
     ]
    }
   ],
   "source": [
    "# Install ftfy\n",
    "!pip install ../input/clip-full-package/CLIP_full_package/ftfy-6.1.1-py3-none-any.whl\n",
    "# Move the CLIP installer to Output dir for installing (cannot install in the Input dir, which is a read-only file system)\n",
    "!cp -r ../input/clip-full-package/CLIP_full_package/CLIP-main ./\n",
    "# Install CLIP\n",
    "!pip install /kaggle/working/CLIP-main"
   ]
  },
  {
   "cell_type": "code",
   "execution_count": 6,
   "id": "f505cef1",
   "metadata": {
    "execution": {
     "iopub.execute_input": "2023-12-03T22:12:27.595298Z",
     "iopub.status.busy": "2023-12-03T22:12:27.594948Z",
     "iopub.status.idle": "2023-12-03T22:12:30.443030Z",
     "shell.execute_reply": "2023-12-03T22:12:30.442026Z"
    },
    "papermill": {
     "duration": 2.862137,
     "end_time": "2023-12-03T22:12:30.445613",
     "exception": false,
     "start_time": "2023-12-03T22:12:27.583476",
     "status": "completed"
    },
    "tags": []
   },
   "outputs": [
    {
     "name": "stdout",
     "output_type": "stream",
     "text": [
      "__init__.py  bpe_simple_vocab_16e6.txt.gz  model.py\r\n",
      "__pycache__  clip.py\t\t\t   simple_tokenizer.py\r\n"
     ]
    }
   ],
   "source": [
    "# Copy \"bpe_simple_vocab_16e6.txt.xyz\" to the Conda folder\n",
    "!cp ../input/clip-full-package/CLIP_full_package/CLIP-main/clip/bpe_simple_vocab_16e6.txt.xyz /opt/conda/lib/python3.7/site-packages/clip/.\n",
    "\n",
    "# Rename \"bpe_simple_vocab_16e6.txt.xyz\" with \"bpe_simple_vocab_16e6.txt.gz\"\n",
    "!mv /opt/conda/lib/python3.7/site-packages/clip/bpe_simple_vocab_16e6.txt.xyz /opt/conda/lib/python3.7/site-packages/clip/bpe_simple_vocab_16e6.txt.gz\n",
    "!ls /opt/conda/lib/python3.7/site-packages/clip/."
   ]
  },
  {
   "cell_type": "code",
   "execution_count": 7,
   "id": "38ac9843",
   "metadata": {
    "execution": {
     "iopub.execute_input": "2023-12-03T22:12:30.467788Z",
     "iopub.status.busy": "2023-12-03T22:12:30.467449Z",
     "iopub.status.idle": "2023-12-03T22:12:31.725494Z",
     "shell.execute_reply": "2023-12-03T22:12:31.724117Z"
    },
    "papermill": {
     "duration": 1.272399,
     "end_time": "2023-12-03T22:12:31.728513",
     "exception": false,
     "start_time": "2023-12-03T22:12:30.456114",
     "status": "completed"
    },
    "tags": []
   },
   "outputs": [],
   "source": [
    "import timm\n",
    "from timm.data import resolve_data_config\n",
    "from timm.data.transforms_factory import create_transform\n",
    "\n",
    "import clip"
   ]
  },
  {
   "cell_type": "markdown",
   "id": "019a925d",
   "metadata": {
    "papermill": {
     "duration": 0.0108,
     "end_time": "2023-12-03T22:12:31.751347",
     "exception": false,
     "start_time": "2023-12-03T22:12:31.740547",
     "status": "completed"
    },
    "tags": []
   },
   "source": [
    "# Set up yolov4"
   ]
  },
  {
   "cell_type": "code",
   "execution_count": 8,
   "id": "05629d6c",
   "metadata": {
    "execution": {
     "iopub.execute_input": "2023-12-03T22:12:31.776297Z",
     "iopub.status.busy": "2023-12-03T22:12:31.775192Z",
     "iopub.status.idle": "2023-12-03T22:12:31.780287Z",
     "shell.execute_reply": "2023-12-03T22:12:31.779222Z"
    },
    "papermill": {
     "duration": 0.02006,
     "end_time": "2023-12-03T22:12:31.782464",
     "exception": false,
     "start_time": "2023-12-03T22:12:31.762404",
     "status": "completed"
    },
    "tags": []
   },
   "outputs": [],
   "source": [
    "# import cv2\n",
    "# from yolov4.tf import YOLOv4"
   ]
  },
  {
   "cell_type": "code",
   "execution_count": 9,
   "id": "5e9aa24d",
   "metadata": {
    "execution": {
     "iopub.execute_input": "2023-12-03T22:12:31.806314Z",
     "iopub.status.busy": "2023-12-03T22:12:31.805982Z",
     "iopub.status.idle": "2023-12-03T22:12:31.810412Z",
     "shell.execute_reply": "2023-12-03T22:12:31.809600Z"
    },
    "papermill": {
     "duration": 0.018931,
     "end_time": "2023-12-03T22:12:31.812668",
     "exception": false,
     "start_time": "2023-12-03T22:12:31.793737",
     "status": "completed"
    },
    "tags": []
   },
   "outputs": [],
   "source": [
    "# yolo = YOLOv4()\n",
    "\n",
    "# yolo.config.parse_names(\"../input/yolov4/yolov4/yolov4/coco.names\")\n",
    "# yolo.config.parse_cfg(\"../input/yolov4/yolov4/yolov4/yolov4.cfg\")\n",
    "\n",
    "# yolo.make_model()\n",
    "# yolo.load_weights(\"../input/yolov4/yolov4/yolov4/yolov4.weights\", weights_type=\"yolo\")"
   ]
  },
  {
   "cell_type": "markdown",
   "id": "54d639e6",
   "metadata": {
    "papermill": {
     "duration": 0.011132,
     "end_time": "2023-12-03T22:12:31.835265",
     "exception": false,
     "start_time": "2023-12-03T22:12:31.824133",
     "status": "completed"
    },
    "tags": []
   },
   "source": [
    "# Image processing"
   ]
  },
  {
   "cell_type": "code",
   "execution_count": 10,
   "id": "57842fca",
   "metadata": {
    "execution": {
     "iopub.execute_input": "2023-12-03T22:12:31.859203Z",
     "iopub.status.busy": "2023-12-03T22:12:31.858783Z",
     "iopub.status.idle": "2023-12-03T22:12:31.868505Z",
     "shell.execute_reply": "2023-12-03T22:12:31.867406Z"
    },
    "papermill": {
     "duration": 0.024358,
     "end_time": "2023-12-03T22:12:31.870802",
     "exception": false,
     "start_time": "2023-12-03T22:12:31.846444",
     "status": "completed"
    },
    "tags": []
   },
   "outputs": [],
   "source": [
    "class PetfinderDataSet(Dataset):\n",
    "    def __init__(self, img_id_lst, transform, base_path='./petfinder-pawpularity-score/test/', new_size = 0):\n",
    "        self.img_id_lst = img_id_lst.copy()\n",
    "        self.base_path = base_path\n",
    "        self.new_size = new_size\n",
    "        self.transform = transform\n",
    "\n",
    "    def __len__(self):\n",
    "        return len(self.img_id_lst)\n",
    "\n",
    "    def __getitem__(self, idx):\n",
    "        img = Image.open(self.base_path + self.img_id_lst[idx] + '.jpg').convert('RGB')\n",
    "        \n",
    "        resized_img = self.transform(img)\n",
    "        \n",
    "        return resized_img"
   ]
  },
  {
   "cell_type": "code",
   "execution_count": 11,
   "id": "4ef71828",
   "metadata": {
    "execution": {
     "iopub.execute_input": "2023-12-03T22:12:31.894273Z",
     "iopub.status.busy": "2023-12-03T22:12:31.893595Z",
     "iopub.status.idle": "2023-12-03T22:12:31.910637Z",
     "shell.execute_reply": "2023-12-03T22:12:31.909606Z"
    },
    "papermill": {
     "duration": 0.030914,
     "end_time": "2023-12-03T22:12:31.912692",
     "exception": false,
     "start_time": "2023-12-03T22:12:31.881778",
     "status": "completed"
    },
    "tags": []
   },
   "outputs": [],
   "source": [
    "# To be modified \n",
    "class PetCropDataset_CenterCrop(Dataset):\n",
    "    def __init__(self, df, end_trans, base_path='./petfinder-pawpularity-score/test/', new_size = 0):\n",
    "        self.img_id_lst = df[\"Id\"].tolist().copy()\n",
    "        self.df = df\n",
    "        self.base_path = base_path\n",
    "        self.new_size = new_size\n",
    "        self.end_trans = end_trans\n",
    "\n",
    "    def __len__(self):\n",
    "        return len(self.img_id_lst)\n",
    "\n",
    "    def __getitem__(self, idx):\n",
    "        \n",
    "        img = Image.open(self.base_path + self.img_id_lst[idx] + '.jpg').convert('RGB')\n",
    "        width, height = img.size\n",
    "\n",
    "        center_chosen = [self.df.iloc[idx, -4], self.df.iloc[idx, -3]] # the pet's center ratio coordinate\n",
    "        \n",
    "        if self.df.iloc[idx, -2] == 0: # failed to detect cat or dog\n",
    "            cropped_img = T.CenterCrop(size=min(width, height))(img)\n",
    "        else:\n",
    "            if width > height:\n",
    "                (top_left, top_right, bottom_left, bottom_right, center) = T.FiveCrop(size=(height, height))(img)\n",
    "                margin = (height/2)/width\n",
    "                if center_chosen[0] < margin: # crop to the left\n",
    "                    cropped_img = top_left\n",
    "                elif center_chosen[0] > (1-margin): # crop to the right\n",
    "                    cropped_img = top_right\n",
    "                else:\n",
    "                    left = int( width * (center_chosen[0]-margin) )\n",
    "                    cropped_img = T.functional.crop(img=img, top=0, left=left, height=height, width=height)\n",
    "            else:\n",
    "                (top_left, top_right, bottom_left, bottom_right, center) = T.FiveCrop(size=(width, width))(img)\n",
    "                margin = (width/2)/height\n",
    "                if center_chosen[1] < margin: # crop to the top\n",
    "                    cropped_img = top_left\n",
    "                elif center_chosen[1] > (1-margin): # crop to the bottom\n",
    "                    cropped_img = bottom_left\n",
    "                else:\n",
    "                    top = int( height * (center_chosen[0]-margin) )\n",
    "                    cropped_img = T.functional.crop(img=img, top=0, left=0, height=width, width=width)\n",
    "            \n",
    "        resized_img = T.Resize(size=self.new_size)(cropped_img)\n",
    "        resized_img = self.end_trans(resized_img)\n",
    "\n",
    "        return resized_img"
   ]
  },
  {
   "cell_type": "code",
   "execution_count": 12,
   "id": "90936485",
   "metadata": {
    "execution": {
     "iopub.execute_input": "2023-12-03T22:12:31.935421Z",
     "iopub.status.busy": "2023-12-03T22:12:31.935055Z",
     "iopub.status.idle": "2023-12-03T22:12:31.942152Z",
     "shell.execute_reply": "2023-12-03T22:12:31.941234Z"
    },
    "papermill": {
     "duration": 0.020771,
     "end_time": "2023-12-03T22:12:31.944230",
     "exception": false,
     "start_time": "2023-12-03T22:12:31.923459",
     "status": "completed"
    },
    "tags": []
   },
   "outputs": [],
   "source": [
    "class CLIPDataset(Dataset):\n",
    "    def __init__(self, img_id_lst, base_path='../input/petfinder-pawpularity-score/test/', preprocess=None):\n",
    "        \n",
    "        self.img_id_lst = img_id_lst.copy()\n",
    "        self.base_path = base_path\n",
    "        self.preprocess = preprocess\n",
    "        \n",
    "    def __len__(self):\n",
    "        return len(self.img_id_lst)\n",
    "    \n",
    "    def __getitem__(self, idx):\n",
    "        img = Image.open(self.base_path + self.img_id_lst[idx] + '.jpg').convert('RGB')\n",
    "        img = self.preprocess(img)\n",
    "        return img"
   ]
  },
  {
   "cell_type": "markdown",
   "id": "c46b3b7e",
   "metadata": {
    "papermill": {
     "duration": 0.011282,
     "end_time": "2023-12-03T22:12:31.966427",
     "exception": false,
     "start_time": "2023-12-03T22:12:31.955145",
     "status": "completed"
    },
    "tags": []
   },
   "source": [
    "# Get pet coordinates from test data"
   ]
  },
  {
   "cell_type": "code",
   "execution_count": 13,
   "id": "5495376f",
   "metadata": {
    "execution": {
     "iopub.execute_input": "2023-12-03T22:12:31.990094Z",
     "iopub.status.busy": "2023-12-03T22:12:31.989480Z",
     "iopub.status.idle": "2023-12-03T22:12:32.032386Z",
     "shell.execute_reply": "2023-12-03T22:12:32.031245Z"
    },
    "papermill": {
     "duration": 0.057003,
     "end_time": "2023-12-03T22:12:32.034592",
     "exception": false,
     "start_time": "2023-12-03T22:12:31.977589",
     "status": "completed"
    },
    "tags": []
   },
   "outputs": [
    {
     "data": {
      "text/html": [
       "<div>\n",
       "<style scoped>\n",
       "    .dataframe tbody tr th:only-of-type {\n",
       "        vertical-align: middle;\n",
       "    }\n",
       "\n",
       "    .dataframe tbody tr th {\n",
       "        vertical-align: top;\n",
       "    }\n",
       "\n",
       "    .dataframe thead th {\n",
       "        text-align: right;\n",
       "    }\n",
       "</style>\n",
       "<table border=\"1\" class=\"dataframe\">\n",
       "  <thead>\n",
       "    <tr style=\"text-align: right;\">\n",
       "      <th></th>\n",
       "      <th>Id</th>\n",
       "      <th>Subject Focus</th>\n",
       "      <th>Eyes</th>\n",
       "      <th>Face</th>\n",
       "      <th>Near</th>\n",
       "      <th>Action</th>\n",
       "      <th>Accessory</th>\n",
       "      <th>Group</th>\n",
       "      <th>Collage</th>\n",
       "      <th>Human</th>\n",
       "      <th>Occlusion</th>\n",
       "      <th>Info</th>\n",
       "      <th>Blur</th>\n",
       "      <th>class</th>\n",
       "      <th>center_x</th>\n",
       "      <th>center_y</th>\n",
       "      <th>pet_type</th>\n",
       "      <th>fold_idx</th>\n",
       "    </tr>\n",
       "  </thead>\n",
       "  <tbody>\n",
       "    <tr>\n",
       "      <th>0</th>\n",
       "      <td>4128bae22183829d2b5fea10effdb0c3</td>\n",
       "      <td>1</td>\n",
       "      <td>0</td>\n",
       "      <td>1</td>\n",
       "      <td>0</td>\n",
       "      <td>0</td>\n",
       "      <td>1</td>\n",
       "      <td>1</td>\n",
       "      <td>0</td>\n",
       "      <td>0</td>\n",
       "      <td>1</td>\n",
       "      <td>0</td>\n",
       "      <td>1</td>\n",
       "      <td>-1</td>\n",
       "      <td>-1.5</td>\n",
       "      <td>-1.5</td>\n",
       "      <td>0</td>\n",
       "      <td>-1</td>\n",
       "    </tr>\n",
       "    <tr>\n",
       "      <th>1</th>\n",
       "      <td>43a2262d7738e3d420d453815151079e</td>\n",
       "      <td>0</td>\n",
       "      <td>1</td>\n",
       "      <td>0</td>\n",
       "      <td>0</td>\n",
       "      <td>0</td>\n",
       "      <td>0</td>\n",
       "      <td>1</td>\n",
       "      <td>1</td>\n",
       "      <td>0</td>\n",
       "      <td>0</td>\n",
       "      <td>0</td>\n",
       "      <td>0</td>\n",
       "      <td>-1</td>\n",
       "      <td>-1.5</td>\n",
       "      <td>-1.5</td>\n",
       "      <td>0</td>\n",
       "      <td>-1</td>\n",
       "    </tr>\n",
       "    <tr>\n",
       "      <th>2</th>\n",
       "      <td>4e429cead1848a298432a0acad014c9d</td>\n",
       "      <td>0</td>\n",
       "      <td>0</td>\n",
       "      <td>0</td>\n",
       "      <td>1</td>\n",
       "      <td>0</td>\n",
       "      <td>1</td>\n",
       "      <td>1</td>\n",
       "      <td>1</td>\n",
       "      <td>0</td>\n",
       "      <td>1</td>\n",
       "      <td>1</td>\n",
       "      <td>1</td>\n",
       "      <td>-1</td>\n",
       "      <td>-1.5</td>\n",
       "      <td>-1.5</td>\n",
       "      <td>0</td>\n",
       "      <td>-1</td>\n",
       "    </tr>\n",
       "    <tr>\n",
       "      <th>3</th>\n",
       "      <td>80bc3ccafcc51b66303c2c263aa38486</td>\n",
       "      <td>1</td>\n",
       "      <td>0</td>\n",
       "      <td>1</td>\n",
       "      <td>0</td>\n",
       "      <td>0</td>\n",
       "      <td>0</td>\n",
       "      <td>0</td>\n",
       "      <td>0</td>\n",
       "      <td>0</td>\n",
       "      <td>0</td>\n",
       "      <td>1</td>\n",
       "      <td>0</td>\n",
       "      <td>-1</td>\n",
       "      <td>-1.5</td>\n",
       "      <td>-1.5</td>\n",
       "      <td>0</td>\n",
       "      <td>-1</td>\n",
       "    </tr>\n",
       "    <tr>\n",
       "      <th>4</th>\n",
       "      <td>8f49844c382931444e68dffbe20228f4</td>\n",
       "      <td>1</td>\n",
       "      <td>1</td>\n",
       "      <td>1</td>\n",
       "      <td>0</td>\n",
       "      <td>1</td>\n",
       "      <td>1</td>\n",
       "      <td>0</td>\n",
       "      <td>1</td>\n",
       "      <td>0</td>\n",
       "      <td>1</td>\n",
       "      <td>1</td>\n",
       "      <td>0</td>\n",
       "      <td>-1</td>\n",
       "      <td>-1.5</td>\n",
       "      <td>-1.5</td>\n",
       "      <td>0</td>\n",
       "      <td>-1</td>\n",
       "    </tr>\n",
       "  </tbody>\n",
       "</table>\n",
       "</div>"
      ],
      "text/plain": [
       "                                 Id  Subject Focus  Eyes  Face  Near  Action  \\\n",
       "0  4128bae22183829d2b5fea10effdb0c3              1     0     1     0       0   \n",
       "1  43a2262d7738e3d420d453815151079e              0     1     0     0       0   \n",
       "2  4e429cead1848a298432a0acad014c9d              0     0     0     1       0   \n",
       "3  80bc3ccafcc51b66303c2c263aa38486              1     0     1     0       0   \n",
       "4  8f49844c382931444e68dffbe20228f4              1     1     1     0       1   \n",
       "\n",
       "   Accessory  Group  Collage  Human  Occlusion  Info  Blur  class  center_x  \\\n",
       "0          1      1        0      0          1     0     1     -1      -1.5   \n",
       "1          0      1        1      0          0     0     0     -1      -1.5   \n",
       "2          1      1        1      0          1     1     1     -1      -1.5   \n",
       "3          0      0        0      0          0     1     0     -1      -1.5   \n",
       "4          1      0        1      0          1     1     0     -1      -1.5   \n",
       "\n",
       "   center_y  pet_type  fold_idx  \n",
       "0      -1.5         0        -1  \n",
       "1      -1.5         0        -1  \n",
       "2      -1.5         0        -1  \n",
       "3      -1.5         0        -1  \n",
       "4      -1.5         0        -1  "
      ]
     },
     "execution_count": 13,
     "metadata": {},
     "output_type": "execute_result"
    }
   ],
   "source": [
    "data_base_path = \"../input/petfinder-pawpularity-score\"\n",
    "df_test = pd.read_csv(data_base_path+'/test.csv')\n",
    "\n",
    "df_test['class'] = -1\n",
    "\n",
    "df_test['center_x'] = -1.5\n",
    "df_test['center_y'] = -1.5\n",
    "df_test['pet_type'] = 0\n",
    "\n",
    "df_test['fold_idx'] = -1\n",
    "\n",
    "df_test.head()"
   ]
  },
  {
   "cell_type": "code",
   "execution_count": 14,
   "id": "db1610e0",
   "metadata": {
    "execution": {
     "iopub.execute_input": "2023-12-03T22:12:32.058914Z",
     "iopub.status.busy": "2023-12-03T22:12:32.058588Z",
     "iopub.status.idle": "2023-12-03T22:12:32.078644Z",
     "shell.execute_reply": "2023-12-03T22:12:32.077669Z"
    },
    "papermill": {
     "duration": 0.034559,
     "end_time": "2023-12-03T22:12:32.080894",
     "exception": false,
     "start_time": "2023-12-03T22:12:32.046335",
     "status": "completed"
    },
    "tags": []
   },
   "outputs": [
    {
     "data": {
      "text/html": [
       "<div>\n",
       "<style scoped>\n",
       "    .dataframe tbody tr th:only-of-type {\n",
       "        vertical-align: middle;\n",
       "    }\n",
       "\n",
       "    .dataframe tbody tr th {\n",
       "        vertical-align: top;\n",
       "    }\n",
       "\n",
       "    .dataframe thead th {\n",
       "        text-align: right;\n",
       "    }\n",
       "</style>\n",
       "<table border=\"1\" class=\"dataframe\">\n",
       "  <thead>\n",
       "    <tr style=\"text-align: right;\">\n",
       "      <th></th>\n",
       "      <th>Id</th>\n",
       "      <th>Subject Focus</th>\n",
       "      <th>Eyes</th>\n",
       "      <th>Face</th>\n",
       "      <th>Near</th>\n",
       "      <th>Action</th>\n",
       "      <th>Accessory</th>\n",
       "      <th>Group</th>\n",
       "      <th>Collage</th>\n",
       "      <th>Human</th>\n",
       "      <th>Occlusion</th>\n",
       "      <th>Info</th>\n",
       "      <th>Blur</th>\n",
       "      <th>class</th>\n",
       "      <th>center_x</th>\n",
       "      <th>center_y</th>\n",
       "      <th>pet_type</th>\n",
       "      <th>fold_idx</th>\n",
       "    </tr>\n",
       "  </thead>\n",
       "  <tbody>\n",
       "    <tr>\n",
       "      <th>0</th>\n",
       "      <td>4128bae22183829d2b5fea10effdb0c3</td>\n",
       "      <td>1</td>\n",
       "      <td>0</td>\n",
       "      <td>1</td>\n",
       "      <td>0</td>\n",
       "      <td>0</td>\n",
       "      <td>1</td>\n",
       "      <td>1</td>\n",
       "      <td>0</td>\n",
       "      <td>0</td>\n",
       "      <td>1</td>\n",
       "      <td>0</td>\n",
       "      <td>1</td>\n",
       "      <td>-1</td>\n",
       "      <td>-1.5</td>\n",
       "      <td>-1.5</td>\n",
       "      <td>0</td>\n",
       "      <td>-1</td>\n",
       "    </tr>\n",
       "    <tr>\n",
       "      <th>1</th>\n",
       "      <td>43a2262d7738e3d420d453815151079e</td>\n",
       "      <td>0</td>\n",
       "      <td>1</td>\n",
       "      <td>0</td>\n",
       "      <td>0</td>\n",
       "      <td>0</td>\n",
       "      <td>0</td>\n",
       "      <td>1</td>\n",
       "      <td>1</td>\n",
       "      <td>0</td>\n",
       "      <td>0</td>\n",
       "      <td>0</td>\n",
       "      <td>0</td>\n",
       "      <td>-1</td>\n",
       "      <td>-1.5</td>\n",
       "      <td>-1.5</td>\n",
       "      <td>0</td>\n",
       "      <td>-1</td>\n",
       "    </tr>\n",
       "    <tr>\n",
       "      <th>2</th>\n",
       "      <td>4e429cead1848a298432a0acad014c9d</td>\n",
       "      <td>0</td>\n",
       "      <td>0</td>\n",
       "      <td>0</td>\n",
       "      <td>1</td>\n",
       "      <td>0</td>\n",
       "      <td>1</td>\n",
       "      <td>1</td>\n",
       "      <td>1</td>\n",
       "      <td>0</td>\n",
       "      <td>1</td>\n",
       "      <td>1</td>\n",
       "      <td>1</td>\n",
       "      <td>-1</td>\n",
       "      <td>-1.5</td>\n",
       "      <td>-1.5</td>\n",
       "      <td>0</td>\n",
       "      <td>-1</td>\n",
       "    </tr>\n",
       "    <tr>\n",
       "      <th>3</th>\n",
       "      <td>80bc3ccafcc51b66303c2c263aa38486</td>\n",
       "      <td>1</td>\n",
       "      <td>0</td>\n",
       "      <td>1</td>\n",
       "      <td>0</td>\n",
       "      <td>0</td>\n",
       "      <td>0</td>\n",
       "      <td>0</td>\n",
       "      <td>0</td>\n",
       "      <td>0</td>\n",
       "      <td>0</td>\n",
       "      <td>1</td>\n",
       "      <td>0</td>\n",
       "      <td>-1</td>\n",
       "      <td>-1.5</td>\n",
       "      <td>-1.5</td>\n",
       "      <td>0</td>\n",
       "      <td>-1</td>\n",
       "    </tr>\n",
       "    <tr>\n",
       "      <th>4</th>\n",
       "      <td>8f49844c382931444e68dffbe20228f4</td>\n",
       "      <td>1</td>\n",
       "      <td>1</td>\n",
       "      <td>1</td>\n",
       "      <td>0</td>\n",
       "      <td>1</td>\n",
       "      <td>1</td>\n",
       "      <td>0</td>\n",
       "      <td>1</td>\n",
       "      <td>0</td>\n",
       "      <td>1</td>\n",
       "      <td>1</td>\n",
       "      <td>0</td>\n",
       "      <td>-1</td>\n",
       "      <td>-1.5</td>\n",
       "      <td>-1.5</td>\n",
       "      <td>0</td>\n",
       "      <td>-1</td>\n",
       "    </tr>\n",
       "  </tbody>\n",
       "</table>\n",
       "</div>"
      ],
      "text/plain": [
       "                                 Id  Subject Focus  Eyes  Face  Near  Action  \\\n",
       "0  4128bae22183829d2b5fea10effdb0c3              1     0     1     0       0   \n",
       "1  43a2262d7738e3d420d453815151079e              0     1     0     0       0   \n",
       "2  4e429cead1848a298432a0acad014c9d              0     0     0     1       0   \n",
       "3  80bc3ccafcc51b66303c2c263aa38486              1     0     1     0       0   \n",
       "4  8f49844c382931444e68dffbe20228f4              1     1     1     0       1   \n",
       "\n",
       "   Accessory  Group  Collage  Human  Occlusion  Info  Blur  class  center_x  \\\n",
       "0          1      1        0      0          1     0     1     -1      -1.5   \n",
       "1          0      1        1      0          0     0     0     -1      -1.5   \n",
       "2          1      1        1      0          1     1     1     -1      -1.5   \n",
       "3          0      0        0      0          0     1     0     -1      -1.5   \n",
       "4          1      0        1      0          1     1     0     -1      -1.5   \n",
       "\n",
       "   center_y  pet_type  fold_idx  \n",
       "0      -1.5         0        -1  \n",
       "1      -1.5         0        -1  \n",
       "2      -1.5         0        -1  \n",
       "3      -1.5         0        -1  \n",
       "4      -1.5         0        -1  "
      ]
     },
     "execution_count": 14,
     "metadata": {},
     "output_type": "execute_result"
    }
   ],
   "source": [
    "df_test.head()"
   ]
  },
  {
   "cell_type": "markdown",
   "id": "aeb56bf5",
   "metadata": {
    "papermill": {
     "duration": 0.011146,
     "end_time": "2023-12-03T22:12:32.103532",
     "exception": false,
     "start_time": "2023-12-03T22:12:32.092386",
     "status": "completed"
    },
    "tags": []
   },
   "source": [
    "# Get test data features"
   ]
  },
  {
   "cell_type": "code",
   "execution_count": 15,
   "id": "b5abe83f",
   "metadata": {
    "execution": {
     "iopub.execute_input": "2023-12-03T22:12:32.127774Z",
     "iopub.status.busy": "2023-12-03T22:12:32.126963Z",
     "iopub.status.idle": "2023-12-03T22:12:32.131946Z",
     "shell.execute_reply": "2023-12-03T22:12:32.131025Z"
    },
    "papermill": {
     "duration": 0.019273,
     "end_time": "2023-12-03T22:12:32.134044",
     "exception": false,
     "start_time": "2023-12-03T22:12:32.114771",
     "status": "completed"
    },
    "tags": []
   },
   "outputs": [],
   "source": [
    "batch_size = 8\n",
    "test_data_base_path = '../input/petfinder-pawpularity-score/test/'\n",
    "test_id_lst = df_test[\"Id\"].tolist()"
   ]
  },
  {
   "cell_type": "code",
   "execution_count": 16,
   "id": "0cef208d",
   "metadata": {
    "execution": {
     "iopub.execute_input": "2023-12-03T22:12:32.157364Z",
     "iopub.status.busy": "2023-12-03T22:12:32.156652Z",
     "iopub.status.idle": "2023-12-03T22:12:32.161679Z",
     "shell.execute_reply": "2023-12-03T22:12:32.160746Z"
    },
    "papermill": {
     "duration": 0.01891,
     "end_time": "2023-12-03T22:12:32.163893",
     "exception": false,
     "start_time": "2023-12-03T22:12:32.144983",
     "status": "completed"
    },
    "tags": []
   },
   "outputs": [],
   "source": [
    "path = \"./testset_features\"\n",
    "if not os.path.exists(path):\n",
    "    os.makedirs(path)"
   ]
  },
  {
   "cell_type": "markdown",
   "id": "cba8fc92",
   "metadata": {
    "papermill": {
     "duration": 0.010875,
     "end_time": "2023-12-03T22:12:32.186178",
     "exception": false,
     "start_time": "2023-12-03T22:12:32.175303",
     "status": "completed"
    },
    "tags": []
   },
   "source": [
    "## Feature extraction using Timm models"
   ]
  },
  {
   "cell_type": "code",
   "execution_count": 17,
   "id": "2bd8c6b2",
   "metadata": {
    "execution": {
     "iopub.execute_input": "2023-12-03T22:12:32.209846Z",
     "iopub.status.busy": "2023-12-03T22:12:32.209541Z",
     "iopub.status.idle": "2023-12-03T22:13:09.668349Z",
     "shell.execute_reply": "2023-12-03T22:13:09.667208Z"
    },
    "papermill": {
     "duration": 37.483326,
     "end_time": "2023-12-03T22:13:09.680862",
     "exception": false,
     "start_time": "2023-12-03T22:12:32.197536",
     "status": "completed"
    },
    "tags": []
   },
   "outputs": [
    {
     "name": "stdout",
     "output_type": "stream",
     "text": [
      "Extracing features using ../input/timm-pretrained-models/tf_efficientnet_l2_ns_475.pkl\n",
      "Done!\n",
      "\n",
      "Extracing features using ../input/timm-pretrained-models/beitv2_large_patch16_224.pkl\n",
      "Done!\n",
      "\n"
     ]
    }
   ],
   "source": [
    "# timm_model_lst = [\"../input/timm-pretrained-models/beitv2_large_patch16_224.pkl\"]\n",
    "timm_model_lst = [\"../input/timm-pretrained-models/tf_efficientnet_l2_ns_475.pkl\",\n",
    "                 \"../input/timm-pretrained-models/beitv2_large_patch16_224.pkl\"]\n",
    "#\"../input/timm-pretrained-models/swin_base_patch4_window7_224.pkl\"\n",
    "                 # \"../input/timm-pretrained-models/vit_large_r50_s32_384.pkl\",\n",
    "                 # \"../input/timm-pretrained-models/vit_large_patch16_384.pkl\"]\n",
    "for m in timm_model_lst:\n",
    "    print(\"Extracing features using\", m)\n",
    "    pretrained_model = pickle.load( open( m, \"rb\" ) ).to('cuda')\n",
    "    trans_config = resolve_data_config({}, model=pretrained_model)\n",
    "    default_trans = create_transform(**trans_config)\n",
    "    \n",
    "    test_dataset = PetfinderDataSet(img_id_lst=test_id_lst, transform=default_trans, base_path=test_data_base_path)\n",
    "    test_data_loader = DataLoader(test_dataset, batch_size=batch_size, num_workers=2, shuffle=False)\n",
    "    \n",
    "    with torch.no_grad():\n",
    "        emb = [pretrained_model(data.to('cuda')).cpu().numpy() for data in test_data_loader]\n",
    "    EMB_full = np.concatenate(emb, 0)\n",
    "    \n",
    "    model_name = m.split(\"/\")[-1].split(\".\")[0]\n",
    "    pickle.dump( EMB_full, open( \"./testset_features/\"+model_name+\"_features.pkl\", \"wb\" ) )\n",
    "    \n",
    "    del pretrained_model, EMB_full\n",
    "    torch.cuda.empty_cache()\n",
    "    gc.collect()\n",
    "    print(\"Done!\\n\")"
   ]
  },
  {
   "cell_type": "markdown",
   "id": "d67c7e07",
   "metadata": {
    "papermill": {
     "duration": 0.010921,
     "end_time": "2023-12-03T22:13:09.702999",
     "exception": false,
     "start_time": "2023-12-03T22:13:09.692078",
     "status": "completed"
    },
    "tags": []
   },
   "source": [
    "## Feature extraction using CLIP models"
   ]
  },
  {
   "cell_type": "code",
   "execution_count": 18,
   "id": "8ae4c45a",
   "metadata": {
    "execution": {
     "iopub.execute_input": "2023-12-03T22:13:09.727379Z",
     "iopub.status.busy": "2023-12-03T22:13:09.726598Z",
     "iopub.status.idle": "2023-12-03T22:13:31.785700Z",
     "shell.execute_reply": "2023-12-03T22:13:31.784072Z"
    },
    "papermill": {
     "duration": 22.07435,
     "end_time": "2023-12-03T22:13:31.788504",
     "exception": false,
     "start_time": "2023-12-03T22:13:09.714154",
     "status": "completed"
    },
    "tags": []
   },
   "outputs": [
    {
     "name": "stdout",
     "output_type": "stream",
     "text": [
      "Extracing features using ../input/clip-full-package/CLIP_full_package/CLIP_models/RN50x16.pkl\n",
      "Done!\n",
      "\n",
      "Extracing features using ../input/clip-full-package/CLIP_full_package/CLIP_models/RN50x4.pkl\n",
      "Done!\n",
      "\n",
      "Extracing features using ../input/clip-full-package/CLIP_full_package/CLIP_models/ViT-B-16.pkl\n",
      "Done!\n",
      "\n",
      "Extracing features using ../input/clip-full-package/CLIP_full_package/CLIP_models/ViT-B-32.pkl\n",
      "Done!\n",
      "\n"
     ]
    }
   ],
   "source": [
    "# CLIP_model_lst = [\"../input/clip-full-package/CLIP_full_package/CLIP_models/ViT-B-16.pkl\"]\n",
    "CLIP_model_lst = [\"../input/clip-full-package/CLIP_full_package/CLIP_models/RN50x16.pkl\",\n",
    "                 \"../input/clip-full-package/CLIP_full_package/CLIP_models/RN50x4.pkl\",\n",
    "                 \"../input/clip-full-package/CLIP_full_package/CLIP_models/ViT-B-16.pkl\",\n",
    "                 \"../input/clip-full-package/CLIP_full_package/CLIP_models/ViT-B-32.pkl\"]\n",
    "for m in CLIP_model_lst:\n",
    "    print(\"Extracing features using\", m)\n",
    "    clip_model, preprocess = pickle.load( open( m, \"rb\" ) )\n",
    "    clip_model.to('cuda')\n",
    "    \n",
    "    full_dataset = CLIPDataset(img_id_lst=test_id_lst, base_path=test_data_base_path, preprocess=preprocess)\n",
    "    full_data_loader = DataLoader(full_dataset, batch_size=batch_size, num_workers=2, shuffle=False)\n",
    "    \n",
    "    with torch.no_grad():\n",
    "        emb = [clip_model.encode_image(data.to('cuda')).cpu().numpy() for data in full_data_loader]\n",
    "    EMB_full = np.concatenate(emb, 0)\n",
    "    \n",
    "    model_name = m.split(\"/\")[-1].split(\".\")[0]\n",
    "    pickle.dump( EMB_full, open( \"./testset_features/\"+model_name+\"_features.pkl\", \"wb\" ) )\n",
    "    \n",
    "    del clip_model, EMB_full\n",
    "    torch.cuda.empty_cache()\n",
    "    gc.collect()\n",
    "    print(\"Done!\\n\")"
   ]
  },
  {
   "cell_type": "markdown",
   "id": "2361a7ce",
   "metadata": {
    "papermill": {
     "duration": 0.01171,
     "end_time": "2023-12-03T22:13:31.812527",
     "exception": false,
     "start_time": "2023-12-03T22:13:31.800817",
     "status": "completed"
    },
    "tags": []
   },
   "source": [
    "## Combine features"
   ]
  },
  {
   "cell_type": "code",
   "execution_count": 19,
   "id": "102fad55",
   "metadata": {
    "execution": {
     "iopub.execute_input": "2023-12-03T22:13:31.838012Z",
     "iopub.status.busy": "2023-12-03T22:13:31.837569Z",
     "iopub.status.idle": "2023-12-03T22:13:31.848564Z",
     "shell.execute_reply": "2023-12-03T22:13:31.847545Z"
    },
    "papermill": {
     "duration": 0.0264,
     "end_time": "2023-12-03T22:13:31.850687",
     "exception": false,
     "start_time": "2023-12-03T22:13:31.824287",
     "status": "completed"
    },
    "tags": []
   },
   "outputs": [],
   "source": [
    "# Fixed setting\n",
    "models = [\"RN50x16\",\n",
    "          \"RN50x4\",\n",
    "          \"ViT-B-16\",\n",
    "          \"ViT-B-32\",\n",
    "          \"tf_efficientnet_l2_ns_475\"]\n",
    "model_old_hill_1 = [\"RN50x16\",\n",
    "                   \"beitv2_large_patch16_224\",\n",
    "                   \"beitv2_large_patch16_224\"] # * 1.032\n",
    "model_old_hill_2 = [\"ViT-B-16\",\n",
    "                   \"beitv2_large_patch16_224\"] # * 1.032\n",
    "models_man_2 = [\"RN50x16\",\n",
    "                \"RN50x4\",\n",
    "                \"ViT-B-16\",\n",
    "                \"ViT-B-32\",\n",
    "                \"tf_efficientnet_l2_ns_475\",\n",
    "                \"beitv2_large_patch16_224\"] # loss: 17.296  * 1.030\n",
    "models_man_5 = [\"RN50x16\",\n",
    "          \"RN50x4\",\n",
    "          \"ViT-B-16\",\n",
    "          \"ViT-B-32\",\n",
    "          \"beitv2_large_patch16_224\",\n",
    "          \"swin_base_patch4_window7_224\",\n",
    "          \"tf_efficientnet_l2_ns\"] # loss: 17.257  * 1.029\n",
    "# \"beitv2_large_patch16_224\"\n",
    "#           \"vit_large_patch16_384\",\n",
    "#           \"vit_large_r50_s32_384\"\n",
    "# models = [\"beitv2_large_patch16_224\",\n",
    "#           \"RN50x16\"]\n",
    "models = models_man_2\n",
    "EMB_test = None \n",
    "for i in range(len(models)):\n",
    "    if i == 0:\n",
    "        EMB_test = pickle.load( open( \"./testset_features/\"+models[0]+\"_features.pkl\", \"rb\" ) )\n",
    "    else:\n",
    "        EMB_test = np.concatenate((EMB_test, pickle.load( open( \"./testset_features/\"+models[i]+\"_features.pkl\", \"rb\" ) )), axis=1)"
   ]
  },
  {
   "cell_type": "markdown",
   "id": "dafd510f",
   "metadata": {
    "papermill": {
     "duration": 0.011504,
     "end_time": "2023-12-03T22:13:31.873993",
     "exception": false,
     "start_time": "2023-12-03T22:13:31.862489",
     "status": "completed"
    },
    "tags": []
   },
   "source": [
    "# Get prediction"
   ]
  },
  {
   "cell_type": "code",
   "execution_count": 20,
   "id": "ae9bfe16",
   "metadata": {
    "execution": {
     "iopub.execute_input": "2023-12-03T22:13:31.899370Z",
     "iopub.status.busy": "2023-12-03T22:13:31.898822Z",
     "iopub.status.idle": "2023-12-03T22:13:34.019241Z",
     "shell.execute_reply": "2023-12-03T22:13:34.018155Z"
    },
    "papermill": {
     "duration": 2.136337,
     "end_time": "2023-12-03T22:13:34.022121",
     "exception": false,
     "start_time": "2023-12-03T22:13:31.885784",
     "status": "completed"
    },
    "tags": []
   },
   "outputs": [],
   "source": [
    "# load svr model\n",
    "svr_model, scaler = pickle.load(open(\"../input/cumlsvr-full/cumlSVR_man_2.pkl\", 'rb'))\n",
    "EMB_test = scaler.transform(EMB_test)\n",
    "# get prediction\n",
    "test_pred = np.clip(svr_model.predict(EMB_test)*1.03, 1, 70)\n",
    "# test_pred = svr_model.predict(EMB_test)*1.03"
   ]
  },
  {
   "cell_type": "code",
   "execution_count": 21,
   "id": "52ecc2dd",
   "metadata": {
    "execution": {
     "iopub.execute_input": "2023-12-03T22:13:34.048526Z",
     "iopub.status.busy": "2023-12-03T22:13:34.048155Z",
     "iopub.status.idle": "2023-12-03T22:13:34.070807Z",
     "shell.execute_reply": "2023-12-03T22:13:34.069734Z"
    },
    "papermill": {
     "duration": 0.03834,
     "end_time": "2023-12-03T22:13:34.073055",
     "exception": false,
     "start_time": "2023-12-03T22:13:34.034715",
     "status": "completed"
    },
    "tags": []
   },
   "outputs": [
    {
     "data": {
      "text/html": [
       "<div>\n",
       "<style scoped>\n",
       "    .dataframe tbody tr th:only-of-type {\n",
       "        vertical-align: middle;\n",
       "    }\n",
       "\n",
       "    .dataframe tbody tr th {\n",
       "        vertical-align: top;\n",
       "    }\n",
       "\n",
       "    .dataframe thead th {\n",
       "        text-align: right;\n",
       "    }\n",
       "</style>\n",
       "<table border=\"1\" class=\"dataframe\">\n",
       "  <thead>\n",
       "    <tr style=\"text-align: right;\">\n",
       "      <th></th>\n",
       "      <th>Id</th>\n",
       "      <th>Subject Focus</th>\n",
       "      <th>Eyes</th>\n",
       "      <th>Face</th>\n",
       "      <th>Near</th>\n",
       "      <th>Action</th>\n",
       "      <th>Accessory</th>\n",
       "      <th>Group</th>\n",
       "      <th>Collage</th>\n",
       "      <th>Human</th>\n",
       "      <th>Occlusion</th>\n",
       "      <th>Info</th>\n",
       "      <th>Blur</th>\n",
       "      <th>class</th>\n",
       "      <th>center_x</th>\n",
       "      <th>center_y</th>\n",
       "      <th>pet_type</th>\n",
       "      <th>fold_idx</th>\n",
       "      <th>Pawpularity</th>\n",
       "    </tr>\n",
       "  </thead>\n",
       "  <tbody>\n",
       "    <tr>\n",
       "      <th>0</th>\n",
       "      <td>4128bae22183829d2b5fea10effdb0c3</td>\n",
       "      <td>1</td>\n",
       "      <td>0</td>\n",
       "      <td>1</td>\n",
       "      <td>0</td>\n",
       "      <td>0</td>\n",
       "      <td>1</td>\n",
       "      <td>1</td>\n",
       "      <td>0</td>\n",
       "      <td>0</td>\n",
       "      <td>1</td>\n",
       "      <td>0</td>\n",
       "      <td>1</td>\n",
       "      <td>-1</td>\n",
       "      <td>-1.5</td>\n",
       "      <td>-1.5</td>\n",
       "      <td>0</td>\n",
       "      <td>-1</td>\n",
       "      <td>41.114029</td>\n",
       "    </tr>\n",
       "    <tr>\n",
       "      <th>1</th>\n",
       "      <td>43a2262d7738e3d420d453815151079e</td>\n",
       "      <td>0</td>\n",
       "      <td>1</td>\n",
       "      <td>0</td>\n",
       "      <td>0</td>\n",
       "      <td>0</td>\n",
       "      <td>0</td>\n",
       "      <td>1</td>\n",
       "      <td>1</td>\n",
       "      <td>0</td>\n",
       "      <td>0</td>\n",
       "      <td>0</td>\n",
       "      <td>0</td>\n",
       "      <td>-1</td>\n",
       "      <td>-1.5</td>\n",
       "      <td>-1.5</td>\n",
       "      <td>0</td>\n",
       "      <td>-1</td>\n",
       "      <td>40.735275</td>\n",
       "    </tr>\n",
       "    <tr>\n",
       "      <th>2</th>\n",
       "      <td>4e429cead1848a298432a0acad014c9d</td>\n",
       "      <td>0</td>\n",
       "      <td>0</td>\n",
       "      <td>0</td>\n",
       "      <td>1</td>\n",
       "      <td>0</td>\n",
       "      <td>1</td>\n",
       "      <td>1</td>\n",
       "      <td>1</td>\n",
       "      <td>0</td>\n",
       "      <td>1</td>\n",
       "      <td>1</td>\n",
       "      <td>1</td>\n",
       "      <td>-1</td>\n",
       "      <td>-1.5</td>\n",
       "      <td>-1.5</td>\n",
       "      <td>0</td>\n",
       "      <td>-1</td>\n",
       "      <td>41.092106</td>\n",
       "    </tr>\n",
       "    <tr>\n",
       "      <th>3</th>\n",
       "      <td>80bc3ccafcc51b66303c2c263aa38486</td>\n",
       "      <td>1</td>\n",
       "      <td>0</td>\n",
       "      <td>1</td>\n",
       "      <td>0</td>\n",
       "      <td>0</td>\n",
       "      <td>0</td>\n",
       "      <td>0</td>\n",
       "      <td>0</td>\n",
       "      <td>0</td>\n",
       "      <td>0</td>\n",
       "      <td>1</td>\n",
       "      <td>0</td>\n",
       "      <td>-1</td>\n",
       "      <td>-1.5</td>\n",
       "      <td>-1.5</td>\n",
       "      <td>0</td>\n",
       "      <td>-1</td>\n",
       "      <td>40.716255</td>\n",
       "    </tr>\n",
       "    <tr>\n",
       "      <th>4</th>\n",
       "      <td>8f49844c382931444e68dffbe20228f4</td>\n",
       "      <td>1</td>\n",
       "      <td>1</td>\n",
       "      <td>1</td>\n",
       "      <td>0</td>\n",
       "      <td>1</td>\n",
       "      <td>1</td>\n",
       "      <td>0</td>\n",
       "      <td>1</td>\n",
       "      <td>0</td>\n",
       "      <td>1</td>\n",
       "      <td>1</td>\n",
       "      <td>0</td>\n",
       "      <td>-1</td>\n",
       "      <td>-1.5</td>\n",
       "      <td>-1.5</td>\n",
       "      <td>0</td>\n",
       "      <td>-1</td>\n",
       "      <td>40.699627</td>\n",
       "    </tr>\n",
       "  </tbody>\n",
       "</table>\n",
       "</div>"
      ],
      "text/plain": [
       "                                 Id  Subject Focus  Eyes  Face  Near  Action  \\\n",
       "0  4128bae22183829d2b5fea10effdb0c3              1     0     1     0       0   \n",
       "1  43a2262d7738e3d420d453815151079e              0     1     0     0       0   \n",
       "2  4e429cead1848a298432a0acad014c9d              0     0     0     1       0   \n",
       "3  80bc3ccafcc51b66303c2c263aa38486              1     0     1     0       0   \n",
       "4  8f49844c382931444e68dffbe20228f4              1     1     1     0       1   \n",
       "\n",
       "   Accessory  Group  Collage  Human  Occlusion  Info  Blur  class  center_x  \\\n",
       "0          1      1        0      0          1     0     1     -1      -1.5   \n",
       "1          0      1        1      0          0     0     0     -1      -1.5   \n",
       "2          1      1        1      0          1     1     1     -1      -1.5   \n",
       "3          0      0        0      0          0     1     0     -1      -1.5   \n",
       "4          1      0        1      0          1     1     0     -1      -1.5   \n",
       "\n",
       "   center_y  pet_type  fold_idx  Pawpularity  \n",
       "0      -1.5         0        -1    41.114029  \n",
       "1      -1.5         0        -1    40.735275  \n",
       "2      -1.5         0        -1    41.092106  \n",
       "3      -1.5         0        -1    40.716255  \n",
       "4      -1.5         0        -1    40.699627  "
      ]
     },
     "execution_count": 21,
     "metadata": {},
     "output_type": "execute_result"
    }
   ],
   "source": [
    "df_test['Pawpularity'] = test_pred\n",
    "df_test.head()"
   ]
  },
  {
   "cell_type": "code",
   "execution_count": 22,
   "id": "fce41f01",
   "metadata": {
    "execution": {
     "iopub.execute_input": "2023-12-03T22:13:34.100647Z",
     "iopub.status.busy": "2023-12-03T22:13:34.100324Z",
     "iopub.status.idle": "2023-12-03T22:13:34.112347Z",
     "shell.execute_reply": "2023-12-03T22:13:34.111508Z"
    },
    "papermill": {
     "duration": 0.028528,
     "end_time": "2023-12-03T22:13:34.114835",
     "exception": false,
     "start_time": "2023-12-03T22:13:34.086307",
     "status": "completed"
    },
    "tags": []
   },
   "outputs": [],
   "source": [
    "df_test[['Id','Pawpularity']].to_csv('submission.csv', index=False)"
   ]
  },
  {
   "cell_type": "code",
   "execution_count": 23,
   "id": "3dd3a939",
   "metadata": {
    "execution": {
     "iopub.execute_input": "2023-12-03T22:13:34.141707Z",
     "iopub.status.busy": "2023-12-03T22:13:34.141398Z",
     "iopub.status.idle": "2023-12-03T22:13:34.145614Z",
     "shell.execute_reply": "2023-12-03T22:13:34.144679Z"
    },
    "papermill": {
     "duration": 0.019822,
     "end_time": "2023-12-03T22:13:34.147890",
     "exception": false,
     "start_time": "2023-12-03T22:13:34.128068",
     "status": "completed"
    },
    "tags": []
   },
   "outputs": [],
   "source": [
    "# top10% Public: 17.82371\n",
    "# new hill 1 *1.032 clip 80\n",
    "# old fix 1 *1.034 clip 80\n",
    "# man 2 *1.030 clip 80\n",
    "# man 5 *1.029 clip 80\n",
    "# old hill 1 *1.032 clip 80\n",
    "# old hill 2 *1.032 clip 80"
   ]
  }
 ],
 "metadata": {
  "kaggle": {
   "accelerator": "gpu",
   "dataSources": [
    {
     "databundleVersionId": 2684322,
     "sourceId": 25383,
     "sourceType": "competition"
    },
    {
     "datasetId": 2551867,
     "sourceId": 4333666,
     "sourceType": "datasetVersion"
    },
    {
     "datasetId": 2570763,
     "sourceId": 4374095,
     "sourceType": "datasetVersion"
    },
    {
     "datasetId": 2584973,
     "sourceId": 4411703,
     "sourceType": "datasetVersion"
    },
    {
     "datasetId": 2636398,
     "sourceId": 4517735,
     "sourceType": "datasetVersion"
    },
    {
     "datasetId": 2639288,
     "sourceId": 4544808,
     "sourceType": "datasetVersion"
    }
   ],
   "dockerImageVersionId": 30302,
   "isGpuEnabled": true,
   "isInternetEnabled": false,
   "language": "python",
   "sourceType": "notebook"
  },
  "kernelspec": {
   "display_name": "Python 3",
   "language": "python",
   "name": "python3"
  },
  "language_info": {
   "codemirror_mode": {
    "name": "ipython",
    "version": 3
   },
   "file_extension": ".py",
   "mimetype": "text/x-python",
   "name": "python",
   "nbconvert_exporter": "python",
   "pygments_lexer": "ipython3",
   "version": "3.7.12"
  },
  "papermill": {
   "default_parameters": {},
   "duration": 162.438921,
   "end_time": "2023-12-03T22:13:37.100771",
   "environment_variables": {},
   "exception": null,
   "input_path": "__notebook__.ipynb",
   "output_path": "__notebook__.ipynb",
   "parameters": {},
   "start_time": "2023-12-03T22:10:54.661850",
   "version": "2.3.4"
  }
 },
 "nbformat": 4,
 "nbformat_minor": 5
}
