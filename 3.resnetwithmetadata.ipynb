{
 "cells": [
  {
   "cell_type": "code",
   "execution_count": 1,
   "id": "742a4cf9",
   "metadata": {
    "_cell_guid": "b1076dfc-b9ad-4769-8c92-a6c4dae69d19",
    "_uuid": "8f2839f25d086af736a60e9eeb907d3b93b6e0e5",
    "execution": {
     "iopub.execute_input": "2023-12-01T01:33:56.561429Z",
     "iopub.status.busy": "2023-12-01T01:33:56.558889Z",
     "iopub.status.idle": "2023-12-01T01:33:56.564217Z",
     "shell.execute_reply": "2023-12-01T01:33:56.564710Z",
     "shell.execute_reply.started": "2023-12-01T00:52:17.755504Z"
    },
    "papermill": {
     "duration": 0.039389,
     "end_time": "2023-12-01T01:33:56.564939",
     "exception": false,
     "start_time": "2023-12-01T01:33:56.525550",
     "status": "completed"
    },
    "tags": []
   },
   "outputs": [],
   "source": [
    "\n",
    "\n",
    "import numpy as np # linear algebra\n",
    "import pandas as pd # data processing, CSV file I/O (e.g. pd.read_csv)\n"
   ]
  },
  {
   "cell_type": "code",
   "execution_count": 2,
   "id": "a70c9ef6",
   "metadata": {
    "execution": {
     "iopub.execute_input": "2023-12-01T01:33:56.618042Z",
     "iopub.status.busy": "2023-12-01T01:33:56.617359Z",
     "iopub.status.idle": "2023-12-01T01:34:01.846234Z",
     "shell.execute_reply": "2023-12-01T01:34:01.845578Z",
     "shell.execute_reply.started": "2023-12-01T01:19:11.858750Z"
    },
    "papermill": {
     "duration": 5.256809,
     "end_time": "2023-12-01T01:34:01.846371",
     "exception": false,
     "start_time": "2023-12-01T01:33:56.589562",
     "status": "completed"
    },
    "tags": []
   },
   "outputs": [],
   "source": [
    "from tensorflow.keras.applications import ResNet50\n",
    "\n",
    "# Path to the manually downloaded weights file\n",
    "local_weights_file = '/kaggle/input/resnet50_weights.h5'\n",
    "\n",
    "# Load the model with the local weights file\n",
    "#model = ResNet50(weights=local_weights_file, include_top=False)\n"
   ]
  },
  {
   "cell_type": "markdown",
   "id": "8b0c3565",
   "metadata": {
    "papermill": {
     "duration": 0.024347,
     "end_time": "2023-12-01T01:34:01.895155",
     "exception": false,
     "start_time": "2023-12-01T01:34:01.870808",
     "status": "completed"
    },
    "tags": []
   },
   "source": [
    "**IMPORTING IMPORTANT LIBRARIES**"
   ]
  },
  {
   "cell_type": "code",
   "execution_count": 3,
   "id": "09eaef0f",
   "metadata": {
    "execution": {
     "iopub.execute_input": "2023-12-01T01:34:01.950566Z",
     "iopub.status.busy": "2023-12-01T01:34:01.949831Z",
     "iopub.status.idle": "2023-12-01T01:34:02.530316Z",
     "shell.execute_reply": "2023-12-01T01:34:02.529773Z",
     "shell.execute_reply.started": "2023-12-01T00:52:17.762329Z"
    },
    "papermill": {
     "duration": 0.611204,
     "end_time": "2023-12-01T01:34:02.530457",
     "exception": false,
     "start_time": "2023-12-01T01:34:01.919253",
     "status": "completed"
    },
    "tags": []
   },
   "outputs": [],
   "source": [
    "import sklearn\n",
    "import numpy as np\n",
    "import pandas as pd\n",
    "import tensorflow as tf\n",
    "from tensorflow import keras\n",
    "import matplotlib.pyplot as plt\n",
    "from tensorflow.keras.applications.resnet50 import ResNet50\n",
    "from sklearn.model_selection import KFold\n",
    "from tensorflow.keras.layers.experimental.preprocessing import RandomRotation, RandomContrast\n"
   ]
  },
  {
   "cell_type": "markdown",
   "id": "a9e38cad",
   "metadata": {
    "papermill": {
     "duration": 0.02422,
     "end_time": "2023-12-01T01:34:02.578958",
     "exception": false,
     "start_time": "2023-12-01T01:34:02.554738",
     "status": "completed"
    },
    "tags": []
   },
   "source": [
    "**DATA PREPROCESSING**"
   ]
  },
  {
   "cell_type": "code",
   "execution_count": 4,
   "id": "db43c29d",
   "metadata": {
    "execution": {
     "iopub.execute_input": "2023-12-01T01:34:02.632482Z",
     "iopub.status.busy": "2023-12-01T01:34:02.631799Z",
     "iopub.status.idle": "2023-12-01T01:34:02.678884Z",
     "shell.execute_reply": "2023-12-01T01:34:02.679404Z",
     "shell.execute_reply.started": "2023-12-01T00:52:17.773027Z"
    },
    "papermill": {
     "duration": 0.076622,
     "end_time": "2023-12-01T01:34:02.679554",
     "exception": false,
     "start_time": "2023-12-01T01:34:02.602932",
     "status": "completed"
    },
    "tags": []
   },
   "outputs": [],
   "source": [
    "train = pd.read_csv(\"../input/petfinder-pawpularity-score/train.csv\")\n",
    "test = pd.read_csv(\"../input/petfinder-pawpularity-score/test.csv\")\n",
    "sample_submission = pd.read_csv(\"../input/petfinder-pawpularity-score/sample_submission.csv\")"
   ]
  },
  {
   "cell_type": "code",
   "execution_count": 5,
   "id": "a532d22c",
   "metadata": {
    "execution": {
     "iopub.execute_input": "2023-12-01T01:34:02.735788Z",
     "iopub.status.busy": "2023-12-01T01:34:02.734958Z",
     "iopub.status.idle": "2023-12-01T01:34:02.749705Z",
     "shell.execute_reply": "2023-12-01T01:34:02.749068Z",
     "shell.execute_reply.started": "2023-12-01T00:52:17.817380Z"
    },
    "papermill": {
     "duration": 0.046151,
     "end_time": "2023-12-01T01:34:02.749825",
     "exception": false,
     "start_time": "2023-12-01T01:34:02.703674",
     "status": "completed"
    },
    "tags": []
   },
   "outputs": [
    {
     "data": {
      "text/html": [
       "<div>\n",
       "<style scoped>\n",
       "    .dataframe tbody tr th:only-of-type {\n",
       "        vertical-align: middle;\n",
       "    }\n",
       "\n",
       "    .dataframe tbody tr th {\n",
       "        vertical-align: top;\n",
       "    }\n",
       "\n",
       "    .dataframe thead th {\n",
       "        text-align: right;\n",
       "    }\n",
       "</style>\n",
       "<table border=\"1\" class=\"dataframe\">\n",
       "  <thead>\n",
       "    <tr style=\"text-align: right;\">\n",
       "      <th></th>\n",
       "      <th>Id</th>\n",
       "      <th>Subject Focus</th>\n",
       "      <th>Eyes</th>\n",
       "      <th>Face</th>\n",
       "      <th>Near</th>\n",
       "      <th>Action</th>\n",
       "      <th>Accessory</th>\n",
       "      <th>Group</th>\n",
       "      <th>Collage</th>\n",
       "      <th>Human</th>\n",
       "      <th>Occlusion</th>\n",
       "      <th>Info</th>\n",
       "      <th>Blur</th>\n",
       "      <th>Pawpularity</th>\n",
       "    </tr>\n",
       "  </thead>\n",
       "  <tbody>\n",
       "    <tr>\n",
       "      <th>0</th>\n",
       "      <td>0007de18844b0dbbb5e1f607da0606e0</td>\n",
       "      <td>0</td>\n",
       "      <td>1</td>\n",
       "      <td>1</td>\n",
       "      <td>1</td>\n",
       "      <td>0</td>\n",
       "      <td>0</td>\n",
       "      <td>1</td>\n",
       "      <td>0</td>\n",
       "      <td>0</td>\n",
       "      <td>0</td>\n",
       "      <td>0</td>\n",
       "      <td>0</td>\n",
       "      <td>63</td>\n",
       "    </tr>\n",
       "    <tr>\n",
       "      <th>1</th>\n",
       "      <td>0009c66b9439883ba2750fb825e1d7db</td>\n",
       "      <td>0</td>\n",
       "      <td>1</td>\n",
       "      <td>1</td>\n",
       "      <td>0</td>\n",
       "      <td>0</td>\n",
       "      <td>0</td>\n",
       "      <td>0</td>\n",
       "      <td>0</td>\n",
       "      <td>0</td>\n",
       "      <td>0</td>\n",
       "      <td>0</td>\n",
       "      <td>0</td>\n",
       "      <td>42</td>\n",
       "    </tr>\n",
       "    <tr>\n",
       "      <th>2</th>\n",
       "      <td>0013fd999caf9a3efe1352ca1b0d937e</td>\n",
       "      <td>0</td>\n",
       "      <td>1</td>\n",
       "      <td>1</td>\n",
       "      <td>1</td>\n",
       "      <td>0</td>\n",
       "      <td>0</td>\n",
       "      <td>0</td>\n",
       "      <td>0</td>\n",
       "      <td>1</td>\n",
       "      <td>1</td>\n",
       "      <td>0</td>\n",
       "      <td>0</td>\n",
       "      <td>28</td>\n",
       "    </tr>\n",
       "    <tr>\n",
       "      <th>3</th>\n",
       "      <td>0018df346ac9c1d8413cfcc888ca8246</td>\n",
       "      <td>0</td>\n",
       "      <td>1</td>\n",
       "      <td>1</td>\n",
       "      <td>1</td>\n",
       "      <td>0</td>\n",
       "      <td>0</td>\n",
       "      <td>0</td>\n",
       "      <td>0</td>\n",
       "      <td>0</td>\n",
       "      <td>0</td>\n",
       "      <td>0</td>\n",
       "      <td>0</td>\n",
       "      <td>15</td>\n",
       "    </tr>\n",
       "    <tr>\n",
       "      <th>4</th>\n",
       "      <td>001dc955e10590d3ca4673f034feeef2</td>\n",
       "      <td>0</td>\n",
       "      <td>0</td>\n",
       "      <td>0</td>\n",
       "      <td>1</td>\n",
       "      <td>0</td>\n",
       "      <td>0</td>\n",
       "      <td>1</td>\n",
       "      <td>0</td>\n",
       "      <td>0</td>\n",
       "      <td>0</td>\n",
       "      <td>0</td>\n",
       "      <td>0</td>\n",
       "      <td>72</td>\n",
       "    </tr>\n",
       "  </tbody>\n",
       "</table>\n",
       "</div>"
      ],
      "text/plain": [
       "                                 Id  Subject Focus  Eyes  Face  Near  Action  \\\n",
       "0  0007de18844b0dbbb5e1f607da0606e0              0     1     1     1       0   \n",
       "1  0009c66b9439883ba2750fb825e1d7db              0     1     1     0       0   \n",
       "2  0013fd999caf9a3efe1352ca1b0d937e              0     1     1     1       0   \n",
       "3  0018df346ac9c1d8413cfcc888ca8246              0     1     1     1       0   \n",
       "4  001dc955e10590d3ca4673f034feeef2              0     0     0     1       0   \n",
       "\n",
       "   Accessory  Group  Collage  Human  Occlusion  Info  Blur  Pawpularity  \n",
       "0          0      1        0      0          0     0     0           63  \n",
       "1          0      0        0      0          0     0     0           42  \n",
       "2          0      0        0      1          1     0     0           28  \n",
       "3          0      0        0      0          0     0     0           15  \n",
       "4          0      1        0      0          0     0     0           72  "
      ]
     },
     "execution_count": 5,
     "metadata": {},
     "output_type": "execute_result"
    }
   ],
   "source": [
    "train.head()"
   ]
  },
  {
   "cell_type": "code",
   "execution_count": 6,
   "id": "78fdfd5b",
   "metadata": {
    "execution": {
     "iopub.execute_input": "2023-12-01T01:34:02.811714Z",
     "iopub.status.busy": "2023-12-01T01:34:02.810903Z",
     "iopub.status.idle": "2023-12-01T01:34:02.814440Z",
     "shell.execute_reply": "2023-12-01T01:34:02.813922Z",
     "shell.execute_reply.started": "2023-12-01T00:52:17.835546Z"
    },
    "papermill": {
     "duration": 0.039731,
     "end_time": "2023-12-01T01:34:02.814566",
     "exception": false,
     "start_time": "2023-12-01T01:34:02.774835",
     "status": "completed"
    },
    "tags": []
   },
   "outputs": [
    {
     "data": {
      "text/html": [
       "<div>\n",
       "<style scoped>\n",
       "    .dataframe tbody tr th:only-of-type {\n",
       "        vertical-align: middle;\n",
       "    }\n",
       "\n",
       "    .dataframe tbody tr th {\n",
       "        vertical-align: top;\n",
       "    }\n",
       "\n",
       "    .dataframe thead th {\n",
       "        text-align: right;\n",
       "    }\n",
       "</style>\n",
       "<table border=\"1\" class=\"dataframe\">\n",
       "  <thead>\n",
       "    <tr style=\"text-align: right;\">\n",
       "      <th></th>\n",
       "      <th>Id</th>\n",
       "      <th>Subject Focus</th>\n",
       "      <th>Eyes</th>\n",
       "      <th>Face</th>\n",
       "      <th>Near</th>\n",
       "      <th>Action</th>\n",
       "      <th>Accessory</th>\n",
       "      <th>Group</th>\n",
       "      <th>Collage</th>\n",
       "      <th>Human</th>\n",
       "      <th>Occlusion</th>\n",
       "      <th>Info</th>\n",
       "      <th>Blur</th>\n",
       "    </tr>\n",
       "  </thead>\n",
       "  <tbody>\n",
       "    <tr>\n",
       "      <th>0</th>\n",
       "      <td>4128bae22183829d2b5fea10effdb0c3</td>\n",
       "      <td>1</td>\n",
       "      <td>0</td>\n",
       "      <td>1</td>\n",
       "      <td>0</td>\n",
       "      <td>0</td>\n",
       "      <td>1</td>\n",
       "      <td>1</td>\n",
       "      <td>0</td>\n",
       "      <td>0</td>\n",
       "      <td>1</td>\n",
       "      <td>0</td>\n",
       "      <td>1</td>\n",
       "    </tr>\n",
       "    <tr>\n",
       "      <th>1</th>\n",
       "      <td>43a2262d7738e3d420d453815151079e</td>\n",
       "      <td>0</td>\n",
       "      <td>1</td>\n",
       "      <td>0</td>\n",
       "      <td>0</td>\n",
       "      <td>0</td>\n",
       "      <td>0</td>\n",
       "      <td>1</td>\n",
       "      <td>1</td>\n",
       "      <td>0</td>\n",
       "      <td>0</td>\n",
       "      <td>0</td>\n",
       "      <td>0</td>\n",
       "    </tr>\n",
       "    <tr>\n",
       "      <th>2</th>\n",
       "      <td>4e429cead1848a298432a0acad014c9d</td>\n",
       "      <td>0</td>\n",
       "      <td>0</td>\n",
       "      <td>0</td>\n",
       "      <td>1</td>\n",
       "      <td>0</td>\n",
       "      <td>1</td>\n",
       "      <td>1</td>\n",
       "      <td>1</td>\n",
       "      <td>0</td>\n",
       "      <td>1</td>\n",
       "      <td>1</td>\n",
       "      <td>1</td>\n",
       "    </tr>\n",
       "    <tr>\n",
       "      <th>3</th>\n",
       "      <td>80bc3ccafcc51b66303c2c263aa38486</td>\n",
       "      <td>1</td>\n",
       "      <td>0</td>\n",
       "      <td>1</td>\n",
       "      <td>0</td>\n",
       "      <td>0</td>\n",
       "      <td>0</td>\n",
       "      <td>0</td>\n",
       "      <td>0</td>\n",
       "      <td>0</td>\n",
       "      <td>0</td>\n",
       "      <td>1</td>\n",
       "      <td>0</td>\n",
       "    </tr>\n",
       "    <tr>\n",
       "      <th>4</th>\n",
       "      <td>8f49844c382931444e68dffbe20228f4</td>\n",
       "      <td>1</td>\n",
       "      <td>1</td>\n",
       "      <td>1</td>\n",
       "      <td>0</td>\n",
       "      <td>1</td>\n",
       "      <td>1</td>\n",
       "      <td>0</td>\n",
       "      <td>1</td>\n",
       "      <td>0</td>\n",
       "      <td>1</td>\n",
       "      <td>1</td>\n",
       "      <td>0</td>\n",
       "    </tr>\n",
       "  </tbody>\n",
       "</table>\n",
       "</div>"
      ],
      "text/plain": [
       "                                 Id  Subject Focus  Eyes  Face  Near  Action  \\\n",
       "0  4128bae22183829d2b5fea10effdb0c3              1     0     1     0       0   \n",
       "1  43a2262d7738e3d420d453815151079e              0     1     0     0       0   \n",
       "2  4e429cead1848a298432a0acad014c9d              0     0     0     1       0   \n",
       "3  80bc3ccafcc51b66303c2c263aa38486              1     0     1     0       0   \n",
       "4  8f49844c382931444e68dffbe20228f4              1     1     1     0       1   \n",
       "\n",
       "   Accessory  Group  Collage  Human  Occlusion  Info  Blur  \n",
       "0          1      1        0      0          1     0     1  \n",
       "1          0      1        1      0          0     0     0  \n",
       "2          1      1        1      0          1     1     1  \n",
       "3          0      0        0      0          0     1     0  \n",
       "4          1      0        1      0          1     1     0  "
      ]
     },
     "execution_count": 6,
     "metadata": {},
     "output_type": "execute_result"
    }
   ],
   "source": [
    "test.head()"
   ]
  },
  {
   "cell_type": "markdown",
   "id": "29b75062",
   "metadata": {
    "papermill": {
     "duration": 0.025,
     "end_time": "2023-12-01T01:34:02.865312",
     "exception": false,
     "start_time": "2023-12-01T01:34:02.840312",
     "status": "completed"
    },
    "tags": []
   },
   "source": [
    "**USING LAMBDA APPLY FUNCTION TO ADD IMAGE PATH IN THE TABLE CORRESPONDING TO UNIQUE IMAGE ID**"
   ]
  },
  {
   "cell_type": "code",
   "execution_count": 7,
   "id": "1f8467ff",
   "metadata": {
    "execution": {
     "iopub.execute_input": "2023-12-01T01:34:02.930645Z",
     "iopub.status.busy": "2023-12-01T01:34:02.923470Z",
     "iopub.status.idle": "2023-12-01T01:34:02.932855Z",
     "shell.execute_reply": "2023-12-01T01:34:02.933479Z",
     "shell.execute_reply.started": "2023-12-01T00:52:17.854796Z"
    },
    "papermill": {
     "duration": 0.043193,
     "end_time": "2023-12-01T01:34:02.933671",
     "exception": false,
     "start_time": "2023-12-01T01:34:02.890478",
     "status": "completed"
    },
    "tags": []
   },
   "outputs": [],
   "source": [
    "train[\"file_path\"] = train[\"Id\"].apply(lambda identifier: \"../input/petfinder-pawpularity-score/train/\" + identifier + \".jpg\")\n",
    "test[\"file_path\"] = test[\"Id\"].apply(lambda identifier: \"../input/petfinder-pawpularity-score/test/\" + identifier + \".jpg\")"
   ]
  },
  {
   "cell_type": "code",
   "execution_count": 8,
   "id": "4d5303bd",
   "metadata": {
    "execution": {
     "iopub.execute_input": "2023-12-01T01:34:02.998296Z",
     "iopub.status.busy": "2023-12-01T01:34:02.997467Z",
     "iopub.status.idle": "2023-12-01T01:34:03.000290Z",
     "shell.execute_reply": "2023-12-01T01:34:03.000763Z",
     "shell.execute_reply.started": "2023-12-01T00:52:17.869658Z"
    },
    "papermill": {
     "duration": 0.040893,
     "end_time": "2023-12-01T01:34:03.000897",
     "exception": false,
     "start_time": "2023-12-01T01:34:02.960004",
     "status": "completed"
    },
    "tags": []
   },
   "outputs": [
    {
     "data": {
      "text/html": [
       "<div>\n",
       "<style scoped>\n",
       "    .dataframe tbody tr th:only-of-type {\n",
       "        vertical-align: middle;\n",
       "    }\n",
       "\n",
       "    .dataframe tbody tr th {\n",
       "        vertical-align: top;\n",
       "    }\n",
       "\n",
       "    .dataframe thead th {\n",
       "        text-align: right;\n",
       "    }\n",
       "</style>\n",
       "<table border=\"1\" class=\"dataframe\">\n",
       "  <thead>\n",
       "    <tr style=\"text-align: right;\">\n",
       "      <th></th>\n",
       "      <th>Id</th>\n",
       "      <th>Subject Focus</th>\n",
       "      <th>Eyes</th>\n",
       "      <th>Face</th>\n",
       "      <th>Near</th>\n",
       "      <th>Action</th>\n",
       "      <th>Accessory</th>\n",
       "      <th>Group</th>\n",
       "      <th>Collage</th>\n",
       "      <th>Human</th>\n",
       "      <th>Occlusion</th>\n",
       "      <th>Info</th>\n",
       "      <th>Blur</th>\n",
       "      <th>Pawpularity</th>\n",
       "      <th>file_path</th>\n",
       "    </tr>\n",
       "  </thead>\n",
       "  <tbody>\n",
       "    <tr>\n",
       "      <th>0</th>\n",
       "      <td>0007de18844b0dbbb5e1f607da0606e0</td>\n",
       "      <td>0</td>\n",
       "      <td>1</td>\n",
       "      <td>1</td>\n",
       "      <td>1</td>\n",
       "      <td>0</td>\n",
       "      <td>0</td>\n",
       "      <td>1</td>\n",
       "      <td>0</td>\n",
       "      <td>0</td>\n",
       "      <td>0</td>\n",
       "      <td>0</td>\n",
       "      <td>0</td>\n",
       "      <td>63</td>\n",
       "      <td>../input/petfinder-pawpularity-score/train/000...</td>\n",
       "    </tr>\n",
       "    <tr>\n",
       "      <th>1</th>\n",
       "      <td>0009c66b9439883ba2750fb825e1d7db</td>\n",
       "      <td>0</td>\n",
       "      <td>1</td>\n",
       "      <td>1</td>\n",
       "      <td>0</td>\n",
       "      <td>0</td>\n",
       "      <td>0</td>\n",
       "      <td>0</td>\n",
       "      <td>0</td>\n",
       "      <td>0</td>\n",
       "      <td>0</td>\n",
       "      <td>0</td>\n",
       "      <td>0</td>\n",
       "      <td>42</td>\n",
       "      <td>../input/petfinder-pawpularity-score/train/000...</td>\n",
       "    </tr>\n",
       "    <tr>\n",
       "      <th>2</th>\n",
       "      <td>0013fd999caf9a3efe1352ca1b0d937e</td>\n",
       "      <td>0</td>\n",
       "      <td>1</td>\n",
       "      <td>1</td>\n",
       "      <td>1</td>\n",
       "      <td>0</td>\n",
       "      <td>0</td>\n",
       "      <td>0</td>\n",
       "      <td>0</td>\n",
       "      <td>1</td>\n",
       "      <td>1</td>\n",
       "      <td>0</td>\n",
       "      <td>0</td>\n",
       "      <td>28</td>\n",
       "      <td>../input/petfinder-pawpularity-score/train/001...</td>\n",
       "    </tr>\n",
       "    <tr>\n",
       "      <th>3</th>\n",
       "      <td>0018df346ac9c1d8413cfcc888ca8246</td>\n",
       "      <td>0</td>\n",
       "      <td>1</td>\n",
       "      <td>1</td>\n",
       "      <td>1</td>\n",
       "      <td>0</td>\n",
       "      <td>0</td>\n",
       "      <td>0</td>\n",
       "      <td>0</td>\n",
       "      <td>0</td>\n",
       "      <td>0</td>\n",
       "      <td>0</td>\n",
       "      <td>0</td>\n",
       "      <td>15</td>\n",
       "      <td>../input/petfinder-pawpularity-score/train/001...</td>\n",
       "    </tr>\n",
       "    <tr>\n",
       "      <th>4</th>\n",
       "      <td>001dc955e10590d3ca4673f034feeef2</td>\n",
       "      <td>0</td>\n",
       "      <td>0</td>\n",
       "      <td>0</td>\n",
       "      <td>1</td>\n",
       "      <td>0</td>\n",
       "      <td>0</td>\n",
       "      <td>1</td>\n",
       "      <td>0</td>\n",
       "      <td>0</td>\n",
       "      <td>0</td>\n",
       "      <td>0</td>\n",
       "      <td>0</td>\n",
       "      <td>72</td>\n",
       "      <td>../input/petfinder-pawpularity-score/train/001...</td>\n",
       "    </tr>\n",
       "  </tbody>\n",
       "</table>\n",
       "</div>"
      ],
      "text/plain": [
       "                                 Id  Subject Focus  Eyes  Face  Near  Action  \\\n",
       "0  0007de18844b0dbbb5e1f607da0606e0              0     1     1     1       0   \n",
       "1  0009c66b9439883ba2750fb825e1d7db              0     1     1     0       0   \n",
       "2  0013fd999caf9a3efe1352ca1b0d937e              0     1     1     1       0   \n",
       "3  0018df346ac9c1d8413cfcc888ca8246              0     1     1     1       0   \n",
       "4  001dc955e10590d3ca4673f034feeef2              0     0     0     1       0   \n",
       "\n",
       "   Accessory  Group  Collage  Human  Occlusion  Info  Blur  Pawpularity  \\\n",
       "0          0      1        0      0          0     0     0           63   \n",
       "1          0      0        0      0          0     0     0           42   \n",
       "2          0      0        0      1          1     0     0           28   \n",
       "3          0      0        0      0          0     0     0           15   \n",
       "4          0      1        0      0          0     0     0           72   \n",
       "\n",
       "                                           file_path  \n",
       "0  ../input/petfinder-pawpularity-score/train/000...  \n",
       "1  ../input/petfinder-pawpularity-score/train/000...  \n",
       "2  ../input/petfinder-pawpularity-score/train/001...  \n",
       "3  ../input/petfinder-pawpularity-score/train/001...  \n",
       "4  ../input/petfinder-pawpularity-score/train/001...  "
      ]
     },
     "execution_count": 8,
     "metadata": {},
     "output_type": "execute_result"
    }
   ],
   "source": [
    "train.head()"
   ]
  },
  {
   "cell_type": "code",
   "execution_count": 9,
   "id": "b634a390",
   "metadata": {
    "execution": {
     "iopub.execute_input": "2023-12-01T01:34:03.057013Z",
     "iopub.status.busy": "2023-12-01T01:34:03.056253Z",
     "iopub.status.idle": "2023-12-01T01:34:03.059568Z",
     "shell.execute_reply": "2023-12-01T01:34:03.058959Z",
     "shell.execute_reply.started": "2023-12-01T00:52:17.888071Z"
    },
    "papermill": {
     "duration": 0.033015,
     "end_time": "2023-12-01T01:34:03.059693",
     "exception": false,
     "start_time": "2023-12-01T01:34:03.026678",
     "status": "completed"
    },
    "tags": []
   },
   "outputs": [
    {
     "data": {
      "text/plain": [
       "Index(['Id', 'Subject Focus', 'Eyes', 'Face', 'Near', 'Action', 'Accessory',\n",
       "       'Group', 'Collage', 'Human', 'Occlusion', 'Info', 'Blur', 'Pawpularity',\n",
       "       'file_path'],\n",
       "      dtype='object')"
      ]
     },
     "execution_count": 9,
     "metadata": {},
     "output_type": "execute_result"
    }
   ],
   "source": [
    "train.columns"
   ]
  },
  {
   "cell_type": "markdown",
   "id": "31ea866e",
   "metadata": {
    "papermill": {
     "duration": 0.025653,
     "end_time": "2023-12-01T01:34:03.112847",
     "exception": false,
     "start_time": "2023-12-01T01:34:03.087194",
     "status": "completed"
    },
    "tags": []
   },
   "source": [
    "**THE MAIN 12 TABULAR FEATURES THAT WILL BE FED INTO ANN MODEL**"
   ]
  },
  {
   "cell_type": "code",
   "execution_count": 10,
   "id": "212d3ad7",
   "metadata": {
    "execution": {
     "iopub.execute_input": "2023-12-01T01:34:03.169842Z",
     "iopub.status.busy": "2023-12-01T01:34:03.169251Z",
     "iopub.status.idle": "2023-12-01T01:34:03.171848Z",
     "shell.execute_reply": "2023-12-01T01:34:03.171361Z",
     "shell.execute_reply.started": "2023-12-01T00:52:17.896609Z"
    },
    "papermill": {
     "duration": 0.032795,
     "end_time": "2023-12-01T01:34:03.171962",
     "exception": false,
     "start_time": "2023-12-01T01:34:03.139167",
     "status": "completed"
    },
    "tags": []
   },
   "outputs": [],
   "source": [
    "columns = ['Subject Focus', 'Eyes', 'Face', 'Near', 'Action', 'Accessory',\n",
    "       'Group', 'Collage', 'Human', 'Occlusion', 'Info', 'Blur']"
   ]
  },
  {
   "cell_type": "code",
   "execution_count": 11,
   "id": "9694c247",
   "metadata": {
    "execution": {
     "iopub.execute_input": "2023-12-01T01:34:03.227679Z",
     "iopub.status.busy": "2023-12-01T01:34:03.227095Z",
     "iopub.status.idle": "2023-12-01T01:34:03.229958Z",
     "shell.execute_reply": "2023-12-01T01:34:03.229503Z",
     "shell.execute_reply.started": "2023-12-01T00:52:17.905148Z"
    },
    "papermill": {
     "duration": 0.03175,
     "end_time": "2023-12-01T01:34:03.230072",
     "exception": false,
     "start_time": "2023-12-01T01:34:03.198322",
     "status": "completed"
    },
    "tags": []
   },
   "outputs": [],
   "source": [
    "image_size = 128\n",
    "batch_size =128"
   ]
  },
  {
   "cell_type": "markdown",
   "id": "377e0fc8",
   "metadata": {
    "papermill": {
     "duration": 0.026343,
     "end_time": "2023-12-01T01:34:03.282400",
     "exception": false,
     "start_time": "2023-12-01T01:34:03.256057",
     "status": "completed"
    },
    "tags": []
   },
   "source": [
    "**THIS FUNCTION DOES THE NECESSARY IMAGE PREPROCESSING BY RESIZING , SCALING ETC.**"
   ]
  },
  {
   "cell_type": "code",
   "execution_count": 12,
   "id": "8d83536b",
   "metadata": {
    "execution": {
     "iopub.execute_input": "2023-12-01T01:34:03.340777Z",
     "iopub.status.busy": "2023-12-01T01:34:03.339977Z",
     "iopub.status.idle": "2023-12-01T01:34:03.342006Z",
     "shell.execute_reply": "2023-12-01T01:34:03.342506Z",
     "shell.execute_reply.started": "2023-12-01T00:52:17.915318Z"
    },
    "papermill": {
     "duration": 0.034344,
     "end_time": "2023-12-01T01:34:03.342649",
     "exception": false,
     "start_time": "2023-12-01T01:34:03.308305",
     "status": "completed"
    },
    "tags": []
   },
   "outputs": [],
   "source": [
    "def preprocess(image_url, tabular):\n",
    "    image_string = tf.io.read_file(image_url)\n",
    "    image = tf.image.decode_jpeg(image_string, channels=3)\n",
    "    image = tf.cast(image, tf.float32) / 255.0\n",
    "    image = tf.image.central_crop(image, 1.0)\n",
    "    image = tf.image.resize(image, (image_size, image_size))\n",
    "    return (image, tabular[1:]), tf.cast(tabular[0], tf.float32)"
   ]
  },
  {
   "cell_type": "markdown",
   "id": "ca69d337",
   "metadata": {
    "papermill": {
     "duration": 0.025848,
     "end_time": "2023-12-01T01:34:03.394561",
     "exception": false,
     "start_time": "2023-12-01T01:34:03.368713",
     "status": "completed"
    },
    "tags": []
   },
   "source": [
    "**THE FUNCTION FOR CREATING A NEURAL NETWORK FOR TABULAR DATA**"
   ]
  },
  {
   "cell_type": "code",
   "execution_count": 13,
   "id": "77fad725",
   "metadata": {
    "execution": {
     "iopub.execute_input": "2023-12-01T01:34:03.452954Z",
     "iopub.status.busy": "2023-12-01T01:34:03.452315Z",
     "iopub.status.idle": "2023-12-01T01:34:03.454885Z",
     "shell.execute_reply": "2023-12-01T01:34:03.454314Z",
     "shell.execute_reply.started": "2023-12-01T00:52:17.926549Z"
    },
    "papermill": {
     "duration": 0.034343,
     "end_time": "2023-12-01T01:34:03.454996",
     "exception": false,
     "start_time": "2023-12-01T01:34:03.420653",
     "status": "completed"
    },
    "tags": []
   },
   "outputs": [],
   "source": [
    "def build_tabular_model(inputs):\n",
    "   \n",
    "    x = keras.layers.Dense(12, activation='relu')(inputs)\n",
    "    x = keras.layers.Dense(64, activation='relu')(x)\n",
    "    x = keras.layers.Dropout(0.3)(x)\n",
    "    x = keras.layers.BatchNormalization()(x)\n",
    "    x = keras.layers.Dense(128, activation='relu')(x)\n",
    "    x = keras.layers.Dense(64, activation='relu')(x)\n",
    "    x = keras.layers.Concatenate()([x, inputs])\n",
    "    return x"
   ]
  },
  {
   "cell_type": "code",
   "execution_count": 14,
   "id": "d87d3c2f",
   "metadata": {
    "execution": {
     "iopub.execute_input": "2023-12-01T01:34:03.512668Z",
     "iopub.status.busy": "2023-12-01T01:34:03.511892Z",
     "iopub.status.idle": "2023-12-01T01:34:03.513941Z",
     "shell.execute_reply": "2023-12-01T01:34:03.514479Z",
     "shell.execute_reply.started": "2023-12-01T00:52:17.940190Z"
    },
    "papermill": {
     "duration": 0.033388,
     "end_time": "2023-12-01T01:34:03.514611",
     "exception": false,
     "start_time": "2023-12-01T01:34:03.481223",
     "status": "completed"
    },
    "tags": []
   },
   "outputs": [],
   "source": [
    "def block(x, filters, kernel_size, repetitions, pool_size=2, strides=2):\n",
    "    for i in range(repetitions):\n",
    "        x = tf.keras.layers.Conv2D(filters, kernel_size, activation='relu', padding='same')(x)\n",
    "    x = tf.keras.layers.MaxPooling2D(pool_size, strides)(x)\n",
    "    return x"
   ]
  },
  {
   "cell_type": "code",
   "execution_count": null,
   "id": "96f40d81",
   "metadata": {
    "papermill": {
     "duration": 0.025662,
     "end_time": "2023-12-01T01:34:03.566277",
     "exception": false,
     "start_time": "2023-12-01T01:34:03.540615",
     "status": "completed"
    },
    "tags": []
   },
   "outputs": [],
   "source": []
  },
  {
   "cell_type": "markdown",
   "id": "7239f2eb",
   "metadata": {
    "papermill": {
     "duration": 0.025702,
     "end_time": "2023-12-01T01:34:03.617914",
     "exception": false,
     "start_time": "2023-12-01T01:34:03.592212",
     "status": "completed"
    },
    "tags": []
   },
   "source": [
    "**FUNCTION TO CREATE RESNET CNN FOR IMAGE DATA AND CONCATENATING WITH THE OUTPUTS OF TABULAR FEATURES CREATED BY ANN MODEL**"
   ]
  },
  {
   "cell_type": "code",
   "execution_count": 15,
   "id": "885b6358",
   "metadata": {
    "execution": {
     "iopub.execute_input": "2023-12-01T01:34:03.679550Z",
     "iopub.status.busy": "2023-12-01T01:34:03.678814Z",
     "iopub.status.idle": "2023-12-01T01:34:03.681349Z",
     "shell.execute_reply": "2023-12-01T01:34:03.680847Z",
     "shell.execute_reply.started": "2023-12-01T00:52:17.951812Z"
    },
    "papermill": {
     "duration": 0.037695,
     "end_time": "2023-12-01T01:34:03.681464",
     "exception": false,
     "start_time": "2023-12-01T01:34:03.643769",
     "status": "completed"
    },
    "tags": []
   },
   "outputs": [],
   "source": [
    "import os\n",
    "import tensorflow as tf\n",
    "from tensorflow.keras.applications import ResNet50\n",
    "from tensorflow.keras.layers import RandomContrast, RandomRotation\n",
    "\n",
    "def get_model(image_size, columns):\n",
    "    image_inputs = tf.keras.Input((image_size, image_size, 3))\n",
    "    tabular_inputs = tf.keras.Input(len(columns))\n",
    "    \n",
    "    weights_path = '/kaggle/input/resnet50-weights-h5/resnet50_weights_tf_dim_ordering_tf_kernels_notop.h5'\n",
    "    if os.path.exists(weights_path):\n",
    "        resnet = ResNet50(include_top=False, weights=weights_path, pooling=None)\n",
    "    else:\n",
    "        print(\"Weights file not found. Using 'imagenet' weights.\")\n",
    "        resnet = ResNet50(include_top=False, weights='imagenet', pooling=None)\n",
    "    \n",
    "    image_x = resnet(RandomContrast(factor=0.1)(RandomRotation(factor=0.15)(image_inputs)))\n",
    "    image_x = tf.keras.layers.GlobalAveragePooling2D()(image_x)\n",
    "    \n",
    "    # Assuming build_tabular_model is a function you have defined to handle tabular data\n",
    "    tabular_x = build_tabular_model(tabular_inputs)\n",
    "    \n",
    "    x = tf.keras.layers.Concatenate(axis=1)([image_x, tabular_x])\n",
    "    output = tf.keras.layers.Dense(1)(x)\n",
    "    model = tf.keras.Model(inputs=[image_inputs, tabular_inputs], outputs=[output])\n",
    "    return model\n"
   ]
  },
  {
   "cell_type": "markdown",
   "id": "2743bcc4",
   "metadata": {
    "papermill": {
     "duration": 0.025857,
     "end_time": "2023-12-01T01:34:03.733413",
     "exception": false,
     "start_time": "2023-12-01T01:34:03.707556",
     "status": "completed"
    },
    "tags": []
   },
   "source": [
    "**A PICTORIAL VIEW OF HOW THE MODEL LOOKS LIKE**"
   ]
  },
  {
   "cell_type": "code",
   "execution_count": 16,
   "id": "c2c97479",
   "metadata": {
    "execution": {
     "iopub.execute_input": "2023-12-01T01:34:03.789497Z",
     "iopub.status.busy": "2023-12-01T01:34:03.788883Z",
     "iopub.status.idle": "2023-12-01T01:34:09.391040Z",
     "shell.execute_reply": "2023-12-01T01:34:09.390395Z",
     "shell.execute_reply.started": "2023-12-01T00:52:17.962306Z"
    },
    "papermill": {
     "duration": 5.631652,
     "end_time": "2023-12-01T01:34:09.391199",
     "exception": false,
     "start_time": "2023-12-01T01:34:03.759547",
     "status": "completed"
    },
    "tags": []
   },
   "outputs": [],
   "source": [
    "image_size = 224\n",
    "model = get_model(image_size, columns)\n",
    "#tf.keras.utils.plot_model(model, show_shapes=True)"
   ]
  },
  {
   "cell_type": "code",
   "execution_count": 17,
   "id": "37371f11",
   "metadata": {
    "execution": {
     "iopub.execute_input": "2023-12-01T01:34:09.448603Z",
     "iopub.status.busy": "2023-12-01T01:34:09.447869Z",
     "iopub.status.idle": "2023-12-01T01:34:09.449910Z",
     "shell.execute_reply": "2023-12-01T01:34:09.450431Z",
     "shell.execute_reply.started": "2023-12-01T00:52:20.320948Z"
    },
    "papermill": {
     "duration": 0.032876,
     "end_time": "2023-12-01T01:34:09.450582",
     "exception": false,
     "start_time": "2023-12-01T01:34:09.417706",
     "status": "completed"
    },
    "tags": []
   },
   "outputs": [],
   "source": [
    "def rmse(y_true, y_pred):\n",
    "    return tf.sqrt(tf.reduce_mean((y_true -  y_pred) ** 2))"
   ]
  },
  {
   "cell_type": "code",
   "execution_count": 18,
   "id": "057a1a92",
   "metadata": {
    "execution": {
     "iopub.execute_input": "2023-12-01T01:34:09.516185Z",
     "iopub.status.busy": "2023-12-01T01:34:09.515537Z",
     "iopub.status.idle": "2023-12-01T01:55:01.506998Z",
     "shell.execute_reply": "2023-12-01T01:55:01.507492Z",
     "shell.execute_reply.started": "2023-12-01T00:52:20.331408Z"
    },
    "papermill": {
     "duration": 1252.031127,
     "end_time": "2023-12-01T01:55:01.507672",
     "exception": false,
     "start_time": "2023-12-01T01:34:09.476545",
     "status": "completed"
    },
    "tags": []
   },
   "outputs": [
    {
     "name": "stdout",
     "output_type": "stream",
     "text": [
      "Epoch 1/300\n",
      "62/62 [==============================] - 68s 831ms/step - loss: 508.5293 - mae: 16.7689 - rmse: 22.1318 - mape: 76.7830 - val_loss: 1885.9484 - val_mae: 40.3313 - val_rmse: 43.3704 - val_mape: 212.5858\n"
     ]
    },
    {
     "name": "stderr",
     "output_type": "stream",
     "text": [
      "/opt/conda/lib/python3.7/site-packages/keras/utils/generic_utils.py:497: CustomMaskWarning: Custom mask layers require a config and must override get_config. When loading, the custom mask layer must be passed to the custom_objects argument.\n",
      "  category=CustomMaskWarning)\n"
     ]
    },
    {
     "name": "stdout",
     "output_type": "stream",
     "text": [
      "Epoch 2/300\n",
      "62/62 [==============================] - 42s 676ms/step - loss: 421.4324 - mae: 15.3959 - rmse: 20.4574 - mape: 78.9146 - val_loss: 826.6442 - val_mae: 21.1558 - val_rmse: 28.7145 - val_mape: 58.4543\n",
      "Epoch 3/300\n",
      "62/62 [==============================] - 42s 676ms/step - loss: 408.1762 - mae: 15.1447 - rmse: 20.1385 - mape: 77.3999 - val_loss: 509.1813 - val_mae: 15.3481 - val_rmse: 22.5022 - val_mape: 60.2433\n",
      "Epoch 4/300\n",
      "62/62 [==============================] - 42s 676ms/step - loss: 403.8926 - mae: 15.0725 - rmse: 20.0268 - mape: 77.4506 - val_loss: 589.4736 - val_mae: 16.5842 - val_rmse: 24.2244 - val_mape: 56.2548\n",
      "Epoch 5/300\n",
      "62/62 [==============================] - 42s 676ms/step - loss: 405.1906 - mae: 15.0856 - rmse: 20.0652 - mape: 77.6905 - val_loss: 474.3884 - val_mae: 15.0953 - val_rmse: 21.7160 - val_mape: 64.2493\n",
      "Epoch 6/300\n",
      "62/62 [==============================] - 42s 676ms/step - loss: 401.4878 - mae: 14.9809 - rmse: 19.9686 - mape: 77.2873 - val_loss: 474.8125 - val_mae: 15.1026 - val_rmse: 21.7255 - val_mape: 64.4548\n",
      "Epoch 7/300\n",
      "62/62 [==============================] - 42s 676ms/step - loss: 393.6244 - mae: 14.8662 - rmse: 19.7750 - mape: 76.6851 - val_loss: 452.4436 - val_mae: 15.1273 - val_rmse: 21.2067 - val_mape: 68.7054\n",
      "Epoch 8/300\n",
      "62/62 [==============================] - 42s 676ms/step - loss: 388.4799 - mae: 14.7185 - rmse: 19.6459 - mape: 75.5741 - val_loss: 542.2134 - val_mae: 15.7979 - val_rmse: 23.2261 - val_mape: 58.1608\n",
      "Epoch 9/300\n",
      "62/62 [==============================] - 42s 676ms/step - loss: 384.9747 - mae: 14.6981 - rmse: 19.5551 - mape: 76.1633 - val_loss: 510.3495 - val_mae: 15.3988 - val_rmse: 22.5297 - val_mape: 61.4094\n",
      "Epoch 10/300\n",
      "62/62 [==============================] - 42s 676ms/step - loss: 362.5552 - mae: 14.1864 - rmse: 18.9737 - mape: 73.6544 - val_loss: 492.2305 - val_mae: 15.2520 - val_rmse: 22.1271 - val_mape: 62.9679\n",
      "Epoch 11/300\n",
      "62/62 [==============================] - 42s 676ms/step - loss: 350.1977 - mae: 13.9696 - rmse: 18.6478 - mape: 73.0308 - val_loss: 494.7828 - val_mae: 15.2234 - val_rmse: 22.1803 - val_mape: 61.8867\n",
      "Epoch 12/300\n",
      "62/62 [==============================] - 42s 676ms/step - loss: 332.8548 - mae: 13.6149 - rmse: 18.1776 - mape: 71.2032 - val_loss: 489.8586 - val_mae: 15.2167 - val_rmse: 22.0736 - val_mape: 62.7854\n",
      "Epoch 13/300\n",
      "62/62 [==============================] - 42s 676ms/step - loss: 322.0253 - mae: 13.4151 - rmse: 17.8791 - mape: 70.3136 - val_loss: 492.8321 - val_mae: 15.2469 - val_rmse: 22.1308 - val_mape: 62.3416\n",
      "Epoch 14/300\n",
      "62/62 [==============================] - 42s 676ms/step - loss: 309.8256 - mae: 13.1761 - rmse: 17.5411 - mape: 69.2975 - val_loss: 461.3365 - val_mae: 15.1028 - val_rmse: 21.3871 - val_mape: 65.3553\n",
      "Epoch 15/300\n",
      "62/62 [==============================] - 42s 676ms/step - loss: 309.7303 - mae: 13.1400 - rmse: 17.5324 - mape: 68.1751 - val_loss: 435.9359 - val_mae: 14.9915 - val_rmse: 20.7645 - val_mape: 66.9681\n",
      "Epoch 16/300\n",
      "62/62 [==============================] - 42s 676ms/step - loss: 306.6536 - mae: 13.0709 - rmse: 17.4495 - mape: 68.8435 - val_loss: 420.9155 - val_mae: 14.8350 - val_rmse: 20.3917 - val_mape: 67.5685\n",
      "Epoch 17/300\n",
      "62/62 [==============================] - 42s 676ms/step - loss: 301.4160 - mae: 12.9686 - rmse: 17.2948 - mape: 67.8065 - val_loss: 414.5808 - val_mae: 14.7634 - val_rmse: 20.2221 - val_mape: 68.2627\n",
      "Epoch 18/300\n",
      "62/62 [==============================] - 42s 676ms/step - loss: 298.1702 - mae: 12.9365 - rmse: 17.1993 - mape: 67.5689 - val_loss: 411.5357 - val_mae: 14.6725 - val_rmse: 20.1538 - val_mape: 68.1531\n",
      "Epoch 19/300\n",
      "62/62 [==============================] - 42s 676ms/step - loss: 293.0002 - mae: 12.7735 - rmse: 17.0489 - mape: 66.8296 - val_loss: 411.6680 - val_mae: 14.7815 - val_rmse: 20.1660 - val_mape: 70.3248\n",
      "Epoch 20/300\n",
      "62/62 [==============================] - 42s 676ms/step - loss: 293.5688 - mae: 12.7988 - rmse: 17.0659 - mape: 66.8957 - val_loss: 415.5354 - val_mae: 14.8140 - val_rmse: 20.2561 - val_mape: 69.8070\n",
      "Epoch 21/300\n",
      "62/62 [==============================] - 42s 676ms/step - loss: 287.5928 - mae: 12.6827 - rmse: 16.8932 - mape: 66.2440 - val_loss: 416.8808 - val_mae: 14.8720 - val_rmse: 20.2888 - val_mape: 70.5111\n",
      "Epoch 22/300\n",
      "62/62 [==============================] - 42s 676ms/step - loss: 284.5333 - mae: 12.6408 - rmse: 16.8010 - mape: 65.9543 - val_loss: 417.5725 - val_mae: 14.8994 - val_rmse: 20.3072 - val_mape: 70.7959\n",
      "Epoch 23/300\n",
      "62/62 [==============================] - 42s 676ms/step - loss: 287.4104 - mae: 12.6936 - rmse: 16.8823 - mape: 66.3622 - val_loss: 418.8321 - val_mae: 14.9531 - val_rmse: 20.3352 - val_mape: 71.3501\n",
      "Epoch 24/300\n",
      "62/62 [==============================] - 42s 676ms/step - loss: 286.8301 - mae: 12.5977 - rmse: 16.8655 - mape: 66.1979 - val_loss: 420.0557 - val_mae: 14.9976 - val_rmse: 20.3633 - val_mape: 71.7847\n",
      "Epoch 25/300\n",
      "62/62 [==============================] - 42s 676ms/step - loss: 285.4972 - mae: 12.6286 - rmse: 16.8288 - mape: 66.6397 - val_loss: 420.9534 - val_mae: 15.0169 - val_rmse: 20.3841 - val_mape: 71.8489\n",
      "Epoch 26/300\n",
      "62/62 [==============================] - 42s 676ms/step - loss: 284.8286 - mae: 12.6284 - rmse: 16.8035 - mape: 65.9614 - val_loss: 421.4357 - val_mae: 15.0313 - val_rmse: 20.3964 - val_mape: 71.9663\n",
      "Epoch 27/300\n",
      "62/62 [==============================] - 42s 676ms/step - loss: 287.3428 - mae: 12.6804 - rmse: 16.8963 - mape: 65.9195 - val_loss: 421.7357 - val_mae: 15.0451 - val_rmse: 20.4035 - val_mape: 72.1233\n",
      "Epoch 28/300\n",
      "62/62 [==============================] - 42s 676ms/step - loss: 282.9085 - mae: 12.5926 - rmse: 16.7559 - mape: 65.9338 - val_loss: 422.0460 - val_mae: 15.0513 - val_rmse: 20.4107 - val_mape: 72.1570\n"
     ]
    },
    {
     "data": {
      "image/png": "[encoded data removed]",
      "text/plain": [
       "<Figure size 432x288 with 1 Axes>"
      ]
     },
     "metadata": {
      "needs_background": "light"
     },
     "output_type": "display_data"
    },
    {
     "data": {
      "image/png": "[encoded data removed]",
      "text/plain": [
       "<Figure size 432x288 with 1 Axes>"
      ]
     },
     "metadata": {
      "needs_background": "light"
     },
     "output_type": "display_data"
    },
    {
     "data": {
      "image/png": "[encoded data removed]",
      "text/plain": [
       "<Figure size 432x288 with 1 Axes>"
      ]
     },
     "metadata": {
      "needs_background": "light"
     },
     "output_type": "display_data"
    },
    {
     "data": {
      "image/png": "[encoded data removed]",
      "text/plain": [
       "<Figure size 432x288 with 1 Axes>"
      ]
     },
     "metadata": {
      "needs_background": "light"
     },
     "output_type": "display_data"
    }
   ],
   "source": [
    "tf.keras.backend.clear_session()\n",
    "models = []\n",
    "historys = []\n",
    "kfold = KFold(n_splits=5, shuffle=True, random_state=42)\n",
    "train_best_fold = True\n",
    "best_fold = 0\n",
    "for index, (train_indices, val_indices) in enumerate(kfold.split(train)):\n",
    "    if train_best_fold and index != best_fold: continue\n",
    "    x_train = train.loc[train_indices, \"file_path\"]\n",
    "    tabular_train = train.loc[train_indices, [\"Pawpularity\"] + columns]\n",
    "    x_val= train.loc[val_indices, \"file_path\"]\n",
    "    tabular_val = train.loc[val_indices, [\"Pawpularity\"] + columns]\n",
    "    checkpoint_path = \"model_%d.h5\"%(index)\n",
    "    checkpoint = tf.keras.callbacks.ModelCheckpoint(checkpoint_path, save_best_only=True)\n",
    "    early_stop = tf.keras.callbacks.EarlyStopping(min_delta=1e-4, patience=10)\n",
    "    reduce_lr = tf.keras.callbacks.ReduceLROnPlateau(factor=0.3,patience=2, min_lr=1e-7)\n",
    "    callbacks = [early_stop, checkpoint, reduce_lr]    \n",
    "    optimizer = tf.keras.optimizers.Adam(1e-3)    \n",
    "    train_ds = tf.data.Dataset.from_tensor_slices((x_train, tabular_train)).map(preprocess).shuffle(512).batch(batch_size).cache().prefetch(2)\n",
    "    val_ds = tf.data.Dataset.from_tensor_slices((x_val, tabular_val)).map(preprocess).batch(batch_size).cache().prefetch(2)\n",
    "    model = get_model(image_size, columns)\n",
    "    model.compile(loss = \"mse\", optimizer = optimizer, metrics = [\"mae\", rmse, \"mape\"])\n",
    "    history = model.fit(train_ds, epochs=300, validation_data=val_ds, callbacks=callbacks, batch_size = 8)\n",
    "    for metrics in [(\"loss\", \"val_loss\"), (\"mae\", \"val_mae\"), (\"mape\", \"val_mape\"), [\"lr\"]]:\n",
    "        pd.DataFrame(history.history, columns=metrics).plot()\n",
    "        plt.show()\n",
    "    model.load_weights(checkpoint_path)\n",
    "    historys.append(history)\n",
    "    models.append(model)"
   ]
  },
  {
   "cell_type": "code",
   "execution_count": 19,
   "id": "f408daa6",
   "metadata": {
    "execution": {
     "iopub.execute_input": "2023-12-01T01:55:02.792691Z",
     "iopub.status.busy": "2023-12-01T01:55:02.792027Z",
     "iopub.status.idle": "2023-12-01T01:55:02.794240Z",
     "shell.execute_reply": "2023-12-01T01:55:02.794793Z",
     "shell.execute_reply.started": "2023-12-01T00:52:48.257916Z"
    },
    "papermill": {
     "duration": 0.647336,
     "end_time": "2023-12-01T01:55:02.794956",
     "exception": false,
     "start_time": "2023-12-01T01:55:02.147620",
     "status": "completed"
    },
    "tags": []
   },
   "outputs": [],
   "source": [
    "def preprocess_test_data(image_url, tabular):\n",
    "    print(image_url, tabular)\n",
    "    image_string = tf.io.read_file(image_url)\n",
    "    image = tf.image.decode_jpeg(image_string, channels=3)\n",
    "    image = tf.cast(image, tf.float32) / 255.0\n",
    "    image = tf.image.central_crop(image, 1.0)\n",
    "    image = tf.image.resize(image, (image_size, image_size))\n",
    "    # 0 won't be used in prediction, but it's needed in this senario or the tabular variable is treated as label.\n",
    "    return (image, tabular), 0"
   ]
  },
  {
   "cell_type": "code",
   "execution_count": 20,
   "id": "7be7b7f2",
   "metadata": {
    "execution": {
     "iopub.execute_input": "2023-12-01T01:55:04.024783Z",
     "iopub.status.busy": "2023-12-01T01:55:04.023842Z",
     "iopub.status.idle": "2023-12-01T01:55:04.119837Z",
     "shell.execute_reply": "2023-12-01T01:55:04.119314Z",
     "shell.execute_reply.started": "2023-12-01T00:52:48.266006Z"
    },
    "papermill": {
     "duration": 0.713045,
     "end_time": "2023-12-01T01:55:04.119968",
     "exception": false,
     "start_time": "2023-12-01T01:55:03.406923",
     "status": "completed"
    },
    "tags": []
   },
   "outputs": [
    {
     "name": "stdout",
     "output_type": "stream",
     "text": [
      "Tensor(\"args_0:0\", shape=(), dtype=string) Tensor(\"args_1:0\", shape=(12,), dtype=int64)\n"
     ]
    }
   ],
   "source": [
    "test_ds = tf.data.Dataset.from_tensor_slices((test[\"file_path\"], test[columns])).map(preprocess_test_data).batch(batch_size).cache().prefetch(2)"
   ]
  },
  {
   "cell_type": "code",
   "execution_count": 21,
   "id": "3e01e981",
   "metadata": {
    "execution": {
     "iopub.execute_input": "2023-12-01T01:55:05.360649Z",
     "iopub.status.busy": "2023-12-01T01:55:05.359717Z",
     "iopub.status.idle": "2023-12-01T01:55:06.425315Z",
     "shell.execute_reply": "2023-12-01T01:55:06.425832Z",
     "shell.execute_reply.started": "2023-12-01T00:52:48.268488Z"
    },
    "papermill": {
     "duration": 1.701897,
     "end_time": "2023-12-01T01:55:06.426026",
     "exception": false,
     "start_time": "2023-12-01T01:55:04.724129",
     "status": "completed"
    },
    "tags": []
   },
   "outputs": [],
   "source": [
    "use_best_result = False\n",
    "if use_best_result:\n",
    "    if train_best_fold:\n",
    "        best_model = models[0]\n",
    "    else:\n",
    "        best_fold = 0\n",
    "        best_score = 10e8\n",
    "        for fold, history in enumerate(historys):\n",
    "            for val_rmse in history.history[\"val_rmse\"]:\n",
    "                if val_rmse < best_score:\n",
    "                    best_score = val_rmse\n",
    "                    best_fold = fold\n",
    "        print(\"Best Score:%.2f Best Fold: %d\"%(best_score, best_fold + 1))\n",
    "        best_model = models[best_fold]\n",
    "    results = best_model.predict(test_ds).reshape(-1)\n",
    "else:\n",
    "    total_results = []\n",
    "    for model in models:\n",
    "        total_results.append(model.predict(test_ds).reshape(-1))\n",
    "    results = np.mean(total_results, axis=0).reshape(-1)\n",
    "sample_submission[\"Pawpularity\"] = results\n",
    "sample_submission.to_csv(\"submission.csv\", index=False)"
   ]
  },
  {
   "cell_type": "code",
   "execution_count": null,
   "id": "7e717b76",
   "metadata": {
    "papermill": {
     "duration": 0.608986,
     "end_time": "2023-12-01T01:55:07.639756",
     "exception": false,
     "start_time": "2023-12-01T01:55:07.030770",
     "status": "completed"
    },
    "tags": []
   },
   "outputs": [],
   "source": []
  },
  {
   "cell_type": "code",
   "execution_count": null,
   "id": "f6b15dd4",
   "metadata": {
    "papermill": {
     "duration": 0.629494,
     "end_time": "2023-12-01T01:55:08.895581",
     "exception": false,
     "start_time": "2023-12-01T01:55:08.266087",
     "status": "completed"
    },
    "tags": []
   },
   "outputs": [],
   "source": []
  }
 ],
 "metadata": {
  "kaggle": {
   "accelerator": "gpu",
   "dataSources": [
    {
     "databundleVersionId": 2684322,
     "sourceId": 25383,
     "sourceType": "competition"
    },
    {
     "datasetId": 4088811,
     "sourceId": 7094808,
     "sourceType": "datasetVersion"
    }
   ],
   "dockerImageVersionId": 30153,
   "isGpuEnabled": true,
   "isInternetEnabled": false,
   "language": "python",
   "sourceType": "notebook"
  },
  "kernelspec": {
   "display_name": "Python 3",
   "language": "python",
   "name": "python3"
  },
  "language_info": {
   "codemirror_mode": {
    "name": "ipython",
    "version": 3
   },
   "file_extension": ".py",
   "mimetype": "text/x-python",
   "name": "python",
   "nbconvert_exporter": "python",
   "pygments_lexer": "ipython3",
   "version": "3.7.12"
  },
  "papermill": {
   "default_parameters": {},
   "duration": 1286.235661,
   "end_time": "2023-12-01T01:55:13.567112",
   "environment_variables": {},
   "exception": null,
   "input_path": "__notebook__.ipynb",
   "output_path": "__notebook__.ipynb",
   "parameters": {},
   "start_time": "2023-12-01T01:33:47.331451",
   "version": "2.3.3"
  }
 },
 "nbformat": 4,
 "nbformat_minor": 5
}
